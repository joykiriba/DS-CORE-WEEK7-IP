{
  "nbformat": 4,
  "nbformat_minor": 0,
  "metadata": {
    "colab": {
      "name": "IP WEEK7 \"Moringa_Data_Science_Core_W7_Independent_Project_2021_05_Joy_Kiriba_Python_Notebook\"",
      "provenance": [],
      "collapsed_sections": [
        "J4wfHZwQrs-t",
        "6XC_g-zKxe-r",
        "HPQviDmNtta8",
        "qjFHK1CKty7o",
        "HSsicSdvt4Zs"
      ],
      "toc_visible": true,
      "include_colab_link": true
    },
    "kernelspec": {
      "name": "python3",
      "display_name": "Python 3"
    }
  },
  "cells": [
    {
      "cell_type": "markdown",
      "metadata": {
        "id": "view-in-github",
        "colab_type": "text"
      },
      "source": [
        "<a href=\"https://colab.research.google.com/github/joykiriba/DS-CORE-WEEK7-IP/blob/main/IP_WEEK7_%22Moringa_Data_Science_Core_W7_Independent_Project_2021_05_Joy_Kiriba_Python_Notebook%22.ipynb\" target=\"_parent\"><img src=\"https://colab.research.google.com/assets/colab-badge.svg\" alt=\"Open In Colab\"/></a>"
      ]
    },
    {
      "cell_type": "markdown",
      "metadata": {
        "id": "xMxtPsqcTsSH"
      },
      "source": [
        "# Predicting house prices for Hass Consulting Company a real estate leader with over 25 years of experience."
      ]
    },
    {
      "cell_type": "markdown",
      "metadata": {
        "id": "ztpZ3AKYeR-Q"
      },
      "source": [
        "##**1**. Defining the Question\n",
        "\n",
        "\n"
      ]
    },
    {
      "cell_type": "markdown",
      "metadata": {
        "id": "XecOwPNorl2W"
      },
      "source": [
        "### a) Specifying the Data Analytic Question"
      ]
    },
    {
      "cell_type": "markdown",
      "metadata": {
        "id": "fZOpvz6fWyFa"
      },
      "source": [
        "How can we predict housing prices given a selection of factors?"
      ]
    },
    {
      "cell_type": "markdown",
      "metadata": {
        "id": "J4wfHZwQrs-t"
      },
      "source": [
        "### b) Defining the Metric for Success\n",
        "Deriving a high accuracy level from the prediction models we use.\n"
      ]
    },
    {
      "cell_type": "markdown",
      "metadata": {
        "id": "a9BPYqunry97"
      },
      "source": [
        "### c) Understanding the context\n",
        "As a Data Scientist working for Hass Consulting Company which is a real estate leader with over 25 years of experience, I have been tasked to study the factors that affect housing prices using the given information on real estate properties that was collected over the past few months. Later onwards, create a model that would allow the company to accurately predict the sale of prices upon being provided with the predictor variables. \n",
        "\n",
        "\n",
        "\n"
      ]
    },
    {
      "cell_type": "markdown",
      "metadata": {
        "id": "7KMRBJ7zr9HD"
      },
      "source": [
        "### d) Recording the Experimental Design\n",
        "### The process will entail: \n",
        "Define the question, the metric for success, the context, experimental design taken.\n",
        "\n",
        "Read and explore the given dataset.\n",
        "\n",
        "Define the appropriateness of the available data to answer the given question.\n",
        "\n",
        "Find and deal with outliers, anomalies, and missing data within the dataset.\n",
        "\n",
        "Perform univariate, bivariate and multivariate analysis recording my observations.\n",
        "\n",
        "Performing regression analysis.\n",
        "Incorporate categorical independent variables into the models.\n",
        "Check for multicollinearity.\n",
        "\n",
        "Provide a recommendation based on the analysis. \n",
        "Create residual plots for the models, and assess heteroskedasticity using Barlett's test.\n",
        "\n",
        "Challenge the solution by providing insights on how we can make improvements in model improvement.   \n"
      ]
    },
    {
      "cell_type": "markdown",
      "metadata": {
        "id": "zSGyg6kWsBUl"
      },
      "source": [
        "### e) Data Relevance\n",
        "\n",
        "The appropriate dataset to use for this project is that which contains data with information on real estate properties collected over the past few months\n"
      ]
    },
    {
      "cell_type": "markdown",
      "metadata": {
        "id": "iUNbvIvnT7ep"
      },
      "source": [
        "##**2**. Reading the Data"
      ]
    },
    {
      "cell_type": "code",
      "metadata": {
        "id": "2cKq-SBKjoQJ"
      },
      "source": [
        "# importing necessary libraries\n",
        "# \n",
        "\n",
        "import pandas as pd\n",
        "import numpy as np\n",
        "import matplotlib.pyplot as plt\n",
        "import seaborn as sns\n",
        "%matplotlib inline\n"
      ],
      "execution_count": 1,
      "outputs": []
    },
    {
      "cell_type": "code",
      "metadata": {
        "id": "XVqgh1lDar28"
      },
      "source": [
        "# Loading the Data from the source- house data\n",
        "# ---\n",
        "#\n",
        "house = pd.read_csv('house_data.csv')\n",
        "\n"
      ],
      "execution_count": 2,
      "outputs": []
    },
    {
      "cell_type": "markdown",
      "metadata": {
        "id": "OI3P3YnHUEBk"
      },
      "source": [
        "##**3**. Checking the Data"
      ]
    },
    {
      "cell_type": "code",
      "metadata": {
        "id": "YjSVNwgptHxY",
        "colab": {
          "base_uri": "https://localhost:8080/"
        },
        "outputId": "480c1801-92af-4097-8bf4-7a15af238d58"
      },
      "source": [
        "# Determining the no. of records in our dataset\n",
        "#\n",
        "house.shape"
      ],
      "execution_count": 3,
      "outputs": [
        {
          "output_type": "execute_result",
          "data": {
            "text/plain": [
              "(21613, 20)"
            ]
          },
          "metadata": {
            "tags": []
          },
          "execution_count": 3
        }
      ]
    },
    {
      "cell_type": "code",
      "metadata": {
        "colab": {
          "base_uri": "https://localhost:8080/",
          "height": 224
        },
        "id": "E96V1NDZbUrG",
        "outputId": "48366636-8f27-42fe-e62b-978c91cce0a2"
      },
      "source": [
        "# Previewing our dataset\n",
        "#\n",
        "house.head()"
      ],
      "execution_count": 4,
      "outputs": [
        {
          "output_type": "execute_result",
          "data": {
            "text/html": [
              "<div>\n",
              "<style scoped>\n",
              "    .dataframe tbody tr th:only-of-type {\n",
              "        vertical-align: middle;\n",
              "    }\n",
              "\n",
              "    .dataframe tbody tr th {\n",
              "        vertical-align: top;\n",
              "    }\n",
              "\n",
              "    .dataframe thead th {\n",
              "        text-align: right;\n",
              "    }\n",
              "</style>\n",
              "<table border=\"1\" class=\"dataframe\">\n",
              "  <thead>\n",
              "    <tr style=\"text-align: right;\">\n",
              "      <th></th>\n",
              "      <th>id</th>\n",
              "      <th>price</th>\n",
              "      <th>bedrooms</th>\n",
              "      <th>bathrooms</th>\n",
              "      <th>sqft_living</th>\n",
              "      <th>sqft_lot</th>\n",
              "      <th>floors</th>\n",
              "      <th>waterfront</th>\n",
              "      <th>view</th>\n",
              "      <th>condition</th>\n",
              "      <th>grade</th>\n",
              "      <th>sqft_above</th>\n",
              "      <th>sqft_basement</th>\n",
              "      <th>yr_built</th>\n",
              "      <th>yr_renovated</th>\n",
              "      <th>zipcode</th>\n",
              "      <th>lat</th>\n",
              "      <th>long</th>\n",
              "      <th>sqft_living15</th>\n",
              "      <th>sqft_lot15</th>\n",
              "    </tr>\n",
              "  </thead>\n",
              "  <tbody>\n",
              "    <tr>\n",
              "      <th>0</th>\n",
              "      <td>7129300520</td>\n",
              "      <td>221900.0</td>\n",
              "      <td>3</td>\n",
              "      <td>1.00</td>\n",
              "      <td>1180</td>\n",
              "      <td>5650</td>\n",
              "      <td>1.0</td>\n",
              "      <td>0</td>\n",
              "      <td>0</td>\n",
              "      <td>3</td>\n",
              "      <td>7</td>\n",
              "      <td>1180</td>\n",
              "      <td>0</td>\n",
              "      <td>1955</td>\n",
              "      <td>0</td>\n",
              "      <td>98178</td>\n",
              "      <td>47.5112</td>\n",
              "      <td>-122.257</td>\n",
              "      <td>1340</td>\n",
              "      <td>5650</td>\n",
              "    </tr>\n",
              "    <tr>\n",
              "      <th>1</th>\n",
              "      <td>6414100192</td>\n",
              "      <td>538000.0</td>\n",
              "      <td>3</td>\n",
              "      <td>2.25</td>\n",
              "      <td>2570</td>\n",
              "      <td>7242</td>\n",
              "      <td>2.0</td>\n",
              "      <td>0</td>\n",
              "      <td>0</td>\n",
              "      <td>3</td>\n",
              "      <td>7</td>\n",
              "      <td>2170</td>\n",
              "      <td>400</td>\n",
              "      <td>1951</td>\n",
              "      <td>1991</td>\n",
              "      <td>98125</td>\n",
              "      <td>47.7210</td>\n",
              "      <td>-122.319</td>\n",
              "      <td>1690</td>\n",
              "      <td>7639</td>\n",
              "    </tr>\n",
              "    <tr>\n",
              "      <th>2</th>\n",
              "      <td>5631500400</td>\n",
              "      <td>180000.0</td>\n",
              "      <td>2</td>\n",
              "      <td>1.00</td>\n",
              "      <td>770</td>\n",
              "      <td>10000</td>\n",
              "      <td>1.0</td>\n",
              "      <td>0</td>\n",
              "      <td>0</td>\n",
              "      <td>3</td>\n",
              "      <td>6</td>\n",
              "      <td>770</td>\n",
              "      <td>0</td>\n",
              "      <td>1933</td>\n",
              "      <td>0</td>\n",
              "      <td>98028</td>\n",
              "      <td>47.7379</td>\n",
              "      <td>-122.233</td>\n",
              "      <td>2720</td>\n",
              "      <td>8062</td>\n",
              "    </tr>\n",
              "    <tr>\n",
              "      <th>3</th>\n",
              "      <td>2487200875</td>\n",
              "      <td>604000.0</td>\n",
              "      <td>4</td>\n",
              "      <td>3.00</td>\n",
              "      <td>1960</td>\n",
              "      <td>5000</td>\n",
              "      <td>1.0</td>\n",
              "      <td>0</td>\n",
              "      <td>0</td>\n",
              "      <td>5</td>\n",
              "      <td>7</td>\n",
              "      <td>1050</td>\n",
              "      <td>910</td>\n",
              "      <td>1965</td>\n",
              "      <td>0</td>\n",
              "      <td>98136</td>\n",
              "      <td>47.5208</td>\n",
              "      <td>-122.393</td>\n",
              "      <td>1360</td>\n",
              "      <td>5000</td>\n",
              "    </tr>\n",
              "    <tr>\n",
              "      <th>4</th>\n",
              "      <td>1954400510</td>\n",
              "      <td>510000.0</td>\n",
              "      <td>3</td>\n",
              "      <td>2.00</td>\n",
              "      <td>1680</td>\n",
              "      <td>8080</td>\n",
              "      <td>1.0</td>\n",
              "      <td>0</td>\n",
              "      <td>0</td>\n",
              "      <td>3</td>\n",
              "      <td>8</td>\n",
              "      <td>1680</td>\n",
              "      <td>0</td>\n",
              "      <td>1987</td>\n",
              "      <td>0</td>\n",
              "      <td>98074</td>\n",
              "      <td>47.6168</td>\n",
              "      <td>-122.045</td>\n",
              "      <td>1800</td>\n",
              "      <td>7503</td>\n",
              "    </tr>\n",
              "  </tbody>\n",
              "</table>\n",
              "</div>"
            ],
            "text/plain": [
              "           id     price  bedrooms  ...     long  sqft_living15  sqft_lot15\n",
              "0  7129300520  221900.0         3  ... -122.257           1340        5650\n",
              "1  6414100192  538000.0         3  ... -122.319           1690        7639\n",
              "2  5631500400  180000.0         2  ... -122.233           2720        8062\n",
              "3  2487200875  604000.0         4  ... -122.393           1360        5000\n",
              "4  1954400510  510000.0         3  ... -122.045           1800        7503\n",
              "\n",
              "[5 rows x 20 columns]"
            ]
          },
          "metadata": {
            "tags": []
          },
          "execution_count": 4
        }
      ]
    },
    {
      "cell_type": "code",
      "metadata": {
        "id": "e9AzGcZFrIIr",
        "colab": {
          "base_uri": "https://localhost:8080/",
          "height": 224
        },
        "outputId": "417a781a-4a10-41a2-a021-aa2362a1ee59"
      },
      "source": [
        "# Previewing the bottom of our dataset\n",
        "# \n",
        "house.tail()"
      ],
      "execution_count": 5,
      "outputs": [
        {
          "output_type": "execute_result",
          "data": {
            "text/html": [
              "<div>\n",
              "<style scoped>\n",
              "    .dataframe tbody tr th:only-of-type {\n",
              "        vertical-align: middle;\n",
              "    }\n",
              "\n",
              "    .dataframe tbody tr th {\n",
              "        vertical-align: top;\n",
              "    }\n",
              "\n",
              "    .dataframe thead th {\n",
              "        text-align: right;\n",
              "    }\n",
              "</style>\n",
              "<table border=\"1\" class=\"dataframe\">\n",
              "  <thead>\n",
              "    <tr style=\"text-align: right;\">\n",
              "      <th></th>\n",
              "      <th>id</th>\n",
              "      <th>price</th>\n",
              "      <th>bedrooms</th>\n",
              "      <th>bathrooms</th>\n",
              "      <th>sqft_living</th>\n",
              "      <th>sqft_lot</th>\n",
              "      <th>floors</th>\n",
              "      <th>waterfront</th>\n",
              "      <th>view</th>\n",
              "      <th>condition</th>\n",
              "      <th>grade</th>\n",
              "      <th>sqft_above</th>\n",
              "      <th>sqft_basement</th>\n",
              "      <th>yr_built</th>\n",
              "      <th>yr_renovated</th>\n",
              "      <th>zipcode</th>\n",
              "      <th>lat</th>\n",
              "      <th>long</th>\n",
              "      <th>sqft_living15</th>\n",
              "      <th>sqft_lot15</th>\n",
              "    </tr>\n",
              "  </thead>\n",
              "  <tbody>\n",
              "    <tr>\n",
              "      <th>21608</th>\n",
              "      <td>263000018</td>\n",
              "      <td>360000.0</td>\n",
              "      <td>3</td>\n",
              "      <td>2.50</td>\n",
              "      <td>1530</td>\n",
              "      <td>1131</td>\n",
              "      <td>3.0</td>\n",
              "      <td>0</td>\n",
              "      <td>0</td>\n",
              "      <td>3</td>\n",
              "      <td>8</td>\n",
              "      <td>1530</td>\n",
              "      <td>0</td>\n",
              "      <td>2009</td>\n",
              "      <td>0</td>\n",
              "      <td>98103</td>\n",
              "      <td>47.6993</td>\n",
              "      <td>-122.346</td>\n",
              "      <td>1530</td>\n",
              "      <td>1509</td>\n",
              "    </tr>\n",
              "    <tr>\n",
              "      <th>21609</th>\n",
              "      <td>6600060120</td>\n",
              "      <td>400000.0</td>\n",
              "      <td>4</td>\n",
              "      <td>2.50</td>\n",
              "      <td>2310</td>\n",
              "      <td>5813</td>\n",
              "      <td>2.0</td>\n",
              "      <td>0</td>\n",
              "      <td>0</td>\n",
              "      <td>3</td>\n",
              "      <td>8</td>\n",
              "      <td>2310</td>\n",
              "      <td>0</td>\n",
              "      <td>2014</td>\n",
              "      <td>0</td>\n",
              "      <td>98146</td>\n",
              "      <td>47.5107</td>\n",
              "      <td>-122.362</td>\n",
              "      <td>1830</td>\n",
              "      <td>7200</td>\n",
              "    </tr>\n",
              "    <tr>\n",
              "      <th>21610</th>\n",
              "      <td>1523300141</td>\n",
              "      <td>402101.0</td>\n",
              "      <td>2</td>\n",
              "      <td>0.75</td>\n",
              "      <td>1020</td>\n",
              "      <td>1350</td>\n",
              "      <td>2.0</td>\n",
              "      <td>0</td>\n",
              "      <td>0</td>\n",
              "      <td>3</td>\n",
              "      <td>7</td>\n",
              "      <td>1020</td>\n",
              "      <td>0</td>\n",
              "      <td>2009</td>\n",
              "      <td>0</td>\n",
              "      <td>98144</td>\n",
              "      <td>47.5944</td>\n",
              "      <td>-122.299</td>\n",
              "      <td>1020</td>\n",
              "      <td>2007</td>\n",
              "    </tr>\n",
              "    <tr>\n",
              "      <th>21611</th>\n",
              "      <td>291310100</td>\n",
              "      <td>400000.0</td>\n",
              "      <td>3</td>\n",
              "      <td>2.50</td>\n",
              "      <td>1600</td>\n",
              "      <td>2388</td>\n",
              "      <td>2.0</td>\n",
              "      <td>0</td>\n",
              "      <td>0</td>\n",
              "      <td>3</td>\n",
              "      <td>8</td>\n",
              "      <td>1600</td>\n",
              "      <td>0</td>\n",
              "      <td>2004</td>\n",
              "      <td>0</td>\n",
              "      <td>98027</td>\n",
              "      <td>47.5345</td>\n",
              "      <td>-122.069</td>\n",
              "      <td>1410</td>\n",
              "      <td>1287</td>\n",
              "    </tr>\n",
              "    <tr>\n",
              "      <th>21612</th>\n",
              "      <td>1523300157</td>\n",
              "      <td>325000.0</td>\n",
              "      <td>2</td>\n",
              "      <td>0.75</td>\n",
              "      <td>1020</td>\n",
              "      <td>1076</td>\n",
              "      <td>2.0</td>\n",
              "      <td>0</td>\n",
              "      <td>0</td>\n",
              "      <td>3</td>\n",
              "      <td>7</td>\n",
              "      <td>1020</td>\n",
              "      <td>0</td>\n",
              "      <td>2008</td>\n",
              "      <td>0</td>\n",
              "      <td>98144</td>\n",
              "      <td>47.5941</td>\n",
              "      <td>-122.299</td>\n",
              "      <td>1020</td>\n",
              "      <td>1357</td>\n",
              "    </tr>\n",
              "  </tbody>\n",
              "</table>\n",
              "</div>"
            ],
            "text/plain": [
              "               id     price  bedrooms  ...     long  sqft_living15  sqft_lot15\n",
              "21608   263000018  360000.0         3  ... -122.346           1530        1509\n",
              "21609  6600060120  400000.0         4  ... -122.362           1830        7200\n",
              "21610  1523300141  402101.0         2  ... -122.299           1020        2007\n",
              "21611   291310100  400000.0         3  ... -122.069           1410        1287\n",
              "21612  1523300157  325000.0         2  ... -122.299           1020        1357\n",
              "\n",
              "[5 rows x 20 columns]"
            ]
          },
          "metadata": {
            "tags": []
          },
          "execution_count": 5
        }
      ]
    },
    {
      "cell_type": "code",
      "metadata": {
        "id": "n8-dW4sQWzbc",
        "colab": {
          "base_uri": "https://localhost:8080/"
        },
        "outputId": "32936125-d5b6-4b34-fb38-2460d7b6c75a"
      },
      "source": [
        "# Checking whether each column has appropriate datatypes\n",
        "#\n",
        "house.dtypes"
      ],
      "execution_count": 6,
      "outputs": [
        {
          "output_type": "execute_result",
          "data": {
            "text/plain": [
              "id                 int64\n",
              "price            float64\n",
              "bedrooms           int64\n",
              "bathrooms        float64\n",
              "sqft_living        int64\n",
              "sqft_lot           int64\n",
              "floors           float64\n",
              "waterfront         int64\n",
              "view               int64\n",
              "condition          int64\n",
              "grade              int64\n",
              "sqft_above         int64\n",
              "sqft_basement      int64\n",
              "yr_built           int64\n",
              "yr_renovated       int64\n",
              "zipcode            int64\n",
              "lat              float64\n",
              "long             float64\n",
              "sqft_living15      int64\n",
              "sqft_lot15         int64\n",
              "dtype: object"
            ]
          },
          "metadata": {
            "tags": []
          },
          "execution_count": 6
        }
      ]
    },
    {
      "cell_type": "code",
      "metadata": {
        "colab": {
          "base_uri": "https://localhost:8080/"
        },
        "id": "2LNRQTZvb0wj",
        "outputId": "137d5f50-e228-4364-bb4c-a1ed009cd8dd"
      },
      "source": [
        "# to get general info on the dataframes\n",
        "\n",
        "house.info()"
      ],
      "execution_count": 7,
      "outputs": [
        {
          "output_type": "stream",
          "text": [
            "<class 'pandas.core.frame.DataFrame'>\n",
            "RangeIndex: 21613 entries, 0 to 21612\n",
            "Data columns (total 20 columns):\n",
            " #   Column         Non-Null Count  Dtype  \n",
            "---  ------         --------------  -----  \n",
            " 0   id             21613 non-null  int64  \n",
            " 1   price          21613 non-null  float64\n",
            " 2   bedrooms       21613 non-null  int64  \n",
            " 3   bathrooms      21613 non-null  float64\n",
            " 4   sqft_living    21613 non-null  int64  \n",
            " 5   sqft_lot       21613 non-null  int64  \n",
            " 6   floors         21613 non-null  float64\n",
            " 7   waterfront     21613 non-null  int64  \n",
            " 8   view           21613 non-null  int64  \n",
            " 9   condition      21613 non-null  int64  \n",
            " 10  grade          21613 non-null  int64  \n",
            " 11  sqft_above     21613 non-null  int64  \n",
            " 12  sqft_basement  21613 non-null  int64  \n",
            " 13  yr_built       21613 non-null  int64  \n",
            " 14  yr_renovated   21613 non-null  int64  \n",
            " 15  zipcode        21613 non-null  int64  \n",
            " 16  lat            21613 non-null  float64\n",
            " 17  long           21613 non-null  float64\n",
            " 18  sqft_living15  21613 non-null  int64  \n",
            " 19  sqft_lot15     21613 non-null  int64  \n",
            "dtypes: float64(5), int64(15)\n",
            "memory usage: 3.3 MB\n"
          ],
          "name": "stdout"
        }
      ]
    },
    {
      "cell_type": "code",
      "metadata": {
        "colab": {
          "base_uri": "https://localhost:8080/",
          "height": 317
        },
        "id": "zghQozUBcHXa",
        "outputId": "eeda57f3-02fb-4b1a-ec6b-56cba375361e"
      },
      "source": [
        "# to get a statistical summary of the dataframe\n",
        "\n",
        "house.describe()\n"
      ],
      "execution_count": 8,
      "outputs": [
        {
          "output_type": "execute_result",
          "data": {
            "text/html": [
              "<div>\n",
              "<style scoped>\n",
              "    .dataframe tbody tr th:only-of-type {\n",
              "        vertical-align: middle;\n",
              "    }\n",
              "\n",
              "    .dataframe tbody tr th {\n",
              "        vertical-align: top;\n",
              "    }\n",
              "\n",
              "    .dataframe thead th {\n",
              "        text-align: right;\n",
              "    }\n",
              "</style>\n",
              "<table border=\"1\" class=\"dataframe\">\n",
              "  <thead>\n",
              "    <tr style=\"text-align: right;\">\n",
              "      <th></th>\n",
              "      <th>id</th>\n",
              "      <th>price</th>\n",
              "      <th>bedrooms</th>\n",
              "      <th>bathrooms</th>\n",
              "      <th>sqft_living</th>\n",
              "      <th>sqft_lot</th>\n",
              "      <th>floors</th>\n",
              "      <th>waterfront</th>\n",
              "      <th>view</th>\n",
              "      <th>condition</th>\n",
              "      <th>grade</th>\n",
              "      <th>sqft_above</th>\n",
              "      <th>sqft_basement</th>\n",
              "      <th>yr_built</th>\n",
              "      <th>yr_renovated</th>\n",
              "      <th>zipcode</th>\n",
              "      <th>lat</th>\n",
              "      <th>long</th>\n",
              "      <th>sqft_living15</th>\n",
              "      <th>sqft_lot15</th>\n",
              "    </tr>\n",
              "  </thead>\n",
              "  <tbody>\n",
              "    <tr>\n",
              "      <th>count</th>\n",
              "      <td>2.161300e+04</td>\n",
              "      <td>2.161300e+04</td>\n",
              "      <td>21613.000000</td>\n",
              "      <td>21613.000000</td>\n",
              "      <td>21613.000000</td>\n",
              "      <td>2.161300e+04</td>\n",
              "      <td>21613.000000</td>\n",
              "      <td>21613.000000</td>\n",
              "      <td>21613.000000</td>\n",
              "      <td>21613.000000</td>\n",
              "      <td>21613.000000</td>\n",
              "      <td>21613.000000</td>\n",
              "      <td>21613.000000</td>\n",
              "      <td>21613.000000</td>\n",
              "      <td>21613.000000</td>\n",
              "      <td>21613.000000</td>\n",
              "      <td>21613.000000</td>\n",
              "      <td>21613.000000</td>\n",
              "      <td>21613.000000</td>\n",
              "      <td>21613.000000</td>\n",
              "    </tr>\n",
              "    <tr>\n",
              "      <th>mean</th>\n",
              "      <td>4.580302e+09</td>\n",
              "      <td>5.401822e+05</td>\n",
              "      <td>3.370842</td>\n",
              "      <td>2.114757</td>\n",
              "      <td>2079.899736</td>\n",
              "      <td>1.510697e+04</td>\n",
              "      <td>1.494309</td>\n",
              "      <td>0.007542</td>\n",
              "      <td>0.234303</td>\n",
              "      <td>3.409430</td>\n",
              "      <td>7.656873</td>\n",
              "      <td>1788.390691</td>\n",
              "      <td>291.509045</td>\n",
              "      <td>1971.005136</td>\n",
              "      <td>84.402258</td>\n",
              "      <td>98077.939805</td>\n",
              "      <td>47.560053</td>\n",
              "      <td>-122.213896</td>\n",
              "      <td>1986.552492</td>\n",
              "      <td>12768.455652</td>\n",
              "    </tr>\n",
              "    <tr>\n",
              "      <th>std</th>\n",
              "      <td>2.876566e+09</td>\n",
              "      <td>3.673622e+05</td>\n",
              "      <td>0.930062</td>\n",
              "      <td>0.770163</td>\n",
              "      <td>918.440897</td>\n",
              "      <td>4.142051e+04</td>\n",
              "      <td>0.539989</td>\n",
              "      <td>0.086517</td>\n",
              "      <td>0.766318</td>\n",
              "      <td>0.650743</td>\n",
              "      <td>1.175459</td>\n",
              "      <td>828.090978</td>\n",
              "      <td>442.575043</td>\n",
              "      <td>29.373411</td>\n",
              "      <td>401.679240</td>\n",
              "      <td>53.505026</td>\n",
              "      <td>0.138564</td>\n",
              "      <td>0.140828</td>\n",
              "      <td>685.391304</td>\n",
              "      <td>27304.179631</td>\n",
              "    </tr>\n",
              "    <tr>\n",
              "      <th>min</th>\n",
              "      <td>1.000102e+06</td>\n",
              "      <td>7.500000e+04</td>\n",
              "      <td>0.000000</td>\n",
              "      <td>0.000000</td>\n",
              "      <td>290.000000</td>\n",
              "      <td>5.200000e+02</td>\n",
              "      <td>1.000000</td>\n",
              "      <td>0.000000</td>\n",
              "      <td>0.000000</td>\n",
              "      <td>1.000000</td>\n",
              "      <td>1.000000</td>\n",
              "      <td>290.000000</td>\n",
              "      <td>0.000000</td>\n",
              "      <td>1900.000000</td>\n",
              "      <td>0.000000</td>\n",
              "      <td>98001.000000</td>\n",
              "      <td>47.155900</td>\n",
              "      <td>-122.519000</td>\n",
              "      <td>399.000000</td>\n",
              "      <td>651.000000</td>\n",
              "    </tr>\n",
              "    <tr>\n",
              "      <th>25%</th>\n",
              "      <td>2.123049e+09</td>\n",
              "      <td>3.219500e+05</td>\n",
              "      <td>3.000000</td>\n",
              "      <td>1.750000</td>\n",
              "      <td>1427.000000</td>\n",
              "      <td>5.040000e+03</td>\n",
              "      <td>1.000000</td>\n",
              "      <td>0.000000</td>\n",
              "      <td>0.000000</td>\n",
              "      <td>3.000000</td>\n",
              "      <td>7.000000</td>\n",
              "      <td>1190.000000</td>\n",
              "      <td>0.000000</td>\n",
              "      <td>1951.000000</td>\n",
              "      <td>0.000000</td>\n",
              "      <td>98033.000000</td>\n",
              "      <td>47.471000</td>\n",
              "      <td>-122.328000</td>\n",
              "      <td>1490.000000</td>\n",
              "      <td>5100.000000</td>\n",
              "    </tr>\n",
              "    <tr>\n",
              "      <th>50%</th>\n",
              "      <td>3.904930e+09</td>\n",
              "      <td>4.500000e+05</td>\n",
              "      <td>3.000000</td>\n",
              "      <td>2.250000</td>\n",
              "      <td>1910.000000</td>\n",
              "      <td>7.618000e+03</td>\n",
              "      <td>1.500000</td>\n",
              "      <td>0.000000</td>\n",
              "      <td>0.000000</td>\n",
              "      <td>3.000000</td>\n",
              "      <td>7.000000</td>\n",
              "      <td>1560.000000</td>\n",
              "      <td>0.000000</td>\n",
              "      <td>1975.000000</td>\n",
              "      <td>0.000000</td>\n",
              "      <td>98065.000000</td>\n",
              "      <td>47.571800</td>\n",
              "      <td>-122.230000</td>\n",
              "      <td>1840.000000</td>\n",
              "      <td>7620.000000</td>\n",
              "    </tr>\n",
              "    <tr>\n",
              "      <th>75%</th>\n",
              "      <td>7.308900e+09</td>\n",
              "      <td>6.450000e+05</td>\n",
              "      <td>4.000000</td>\n",
              "      <td>2.500000</td>\n",
              "      <td>2550.000000</td>\n",
              "      <td>1.068800e+04</td>\n",
              "      <td>2.000000</td>\n",
              "      <td>0.000000</td>\n",
              "      <td>0.000000</td>\n",
              "      <td>4.000000</td>\n",
              "      <td>8.000000</td>\n",
              "      <td>2210.000000</td>\n",
              "      <td>560.000000</td>\n",
              "      <td>1997.000000</td>\n",
              "      <td>0.000000</td>\n",
              "      <td>98118.000000</td>\n",
              "      <td>47.678000</td>\n",
              "      <td>-122.125000</td>\n",
              "      <td>2360.000000</td>\n",
              "      <td>10083.000000</td>\n",
              "    </tr>\n",
              "    <tr>\n",
              "      <th>max</th>\n",
              "      <td>9.900000e+09</td>\n",
              "      <td>7.700000e+06</td>\n",
              "      <td>33.000000</td>\n",
              "      <td>8.000000</td>\n",
              "      <td>13540.000000</td>\n",
              "      <td>1.651359e+06</td>\n",
              "      <td>3.500000</td>\n",
              "      <td>1.000000</td>\n",
              "      <td>4.000000</td>\n",
              "      <td>5.000000</td>\n",
              "      <td>13.000000</td>\n",
              "      <td>9410.000000</td>\n",
              "      <td>4820.000000</td>\n",
              "      <td>2015.000000</td>\n",
              "      <td>2015.000000</td>\n",
              "      <td>98199.000000</td>\n",
              "      <td>47.777600</td>\n",
              "      <td>-121.315000</td>\n",
              "      <td>6210.000000</td>\n",
              "      <td>871200.000000</td>\n",
              "    </tr>\n",
              "  </tbody>\n",
              "</table>\n",
              "</div>"
            ],
            "text/plain": [
              "                 id         price  ...  sqft_living15     sqft_lot15\n",
              "count  2.161300e+04  2.161300e+04  ...   21613.000000   21613.000000\n",
              "mean   4.580302e+09  5.401822e+05  ...    1986.552492   12768.455652\n",
              "std    2.876566e+09  3.673622e+05  ...     685.391304   27304.179631\n",
              "min    1.000102e+06  7.500000e+04  ...     399.000000     651.000000\n",
              "25%    2.123049e+09  3.219500e+05  ...    1490.000000    5100.000000\n",
              "50%    3.904930e+09  4.500000e+05  ...    1840.000000    7620.000000\n",
              "75%    7.308900e+09  6.450000e+05  ...    2360.000000   10083.000000\n",
              "max    9.900000e+09  7.700000e+06  ...    6210.000000  871200.000000\n",
              "\n",
              "[8 rows x 20 columns]"
            ]
          },
          "metadata": {
            "tags": []
          },
          "execution_count": 8
        }
      ]
    },
    {
      "cell_type": "markdown",
      "metadata": {
        "id": "ckfufNrcUHeH"
      },
      "source": [
        "##**4**. External Data Source Validation"
      ]
    },
    {
      "cell_type": "markdown",
      "metadata": {
        "id": "6XC_g-zKxe-r"
      },
      "source": [
        "### a.Validation"
      ]
    },
    {
      "cell_type": "markdown",
      "metadata": {
        "id": "FlBMxEDBUc9B"
      },
      "source": [
        "##**5**. Tidying the Dataset"
      ]
    },
    {
      "cell_type": "code",
      "metadata": {
        "colab": {
          "base_uri": "https://localhost:8080/"
        },
        "id": "1bFxkFh3lrgN",
        "outputId": "b203fa28-498e-4324-dfd6-e0cb2b46a365"
      },
      "source": [
        "house.columns"
      ],
      "execution_count": 9,
      "outputs": [
        {
          "output_type": "execute_result",
          "data": {
            "text/plain": [
              "Index(['id', 'price', 'bedrooms', 'bathrooms', 'sqft_living', 'sqft_lot',\n",
              "       'floors', 'waterfront', 'view', 'condition', 'grade', 'sqft_above',\n",
              "       'sqft_basement', 'yr_built', 'yr_renovated', 'zipcode', 'lat', 'long',\n",
              "       'sqft_living15', 'sqft_lot15'],\n",
              "      dtype='object')"
            ]
          },
          "metadata": {
            "tags": []
          },
          "execution_count": 9
        }
      ]
    },
    {
      "cell_type": "code",
      "metadata": {
        "colab": {
          "base_uri": "https://localhost:8080/",
          "height": 224
        },
        "id": "yY_VJlOTlysu",
        "outputId": "4d995959-d824-4010-b3ad-b4d510f2ac84"
      },
      "source": [
        "# dropping unnecesary columns\n",
        "# \n",
        "\n",
        "house.drop(['id','lat', 'long'], axis=1, inplace=True)\n",
        "house.head()"
      ],
      "execution_count": 10,
      "outputs": [
        {
          "output_type": "execute_result",
          "data": {
            "text/html": [
              "<div>\n",
              "<style scoped>\n",
              "    .dataframe tbody tr th:only-of-type {\n",
              "        vertical-align: middle;\n",
              "    }\n",
              "\n",
              "    .dataframe tbody tr th {\n",
              "        vertical-align: top;\n",
              "    }\n",
              "\n",
              "    .dataframe thead th {\n",
              "        text-align: right;\n",
              "    }\n",
              "</style>\n",
              "<table border=\"1\" class=\"dataframe\">\n",
              "  <thead>\n",
              "    <tr style=\"text-align: right;\">\n",
              "      <th></th>\n",
              "      <th>price</th>\n",
              "      <th>bedrooms</th>\n",
              "      <th>bathrooms</th>\n",
              "      <th>sqft_living</th>\n",
              "      <th>sqft_lot</th>\n",
              "      <th>floors</th>\n",
              "      <th>waterfront</th>\n",
              "      <th>view</th>\n",
              "      <th>condition</th>\n",
              "      <th>grade</th>\n",
              "      <th>sqft_above</th>\n",
              "      <th>sqft_basement</th>\n",
              "      <th>yr_built</th>\n",
              "      <th>yr_renovated</th>\n",
              "      <th>zipcode</th>\n",
              "      <th>sqft_living15</th>\n",
              "      <th>sqft_lot15</th>\n",
              "    </tr>\n",
              "  </thead>\n",
              "  <tbody>\n",
              "    <tr>\n",
              "      <th>0</th>\n",
              "      <td>221900.0</td>\n",
              "      <td>3</td>\n",
              "      <td>1.00</td>\n",
              "      <td>1180</td>\n",
              "      <td>5650</td>\n",
              "      <td>1.0</td>\n",
              "      <td>0</td>\n",
              "      <td>0</td>\n",
              "      <td>3</td>\n",
              "      <td>7</td>\n",
              "      <td>1180</td>\n",
              "      <td>0</td>\n",
              "      <td>1955</td>\n",
              "      <td>0</td>\n",
              "      <td>98178</td>\n",
              "      <td>1340</td>\n",
              "      <td>5650</td>\n",
              "    </tr>\n",
              "    <tr>\n",
              "      <th>1</th>\n",
              "      <td>538000.0</td>\n",
              "      <td>3</td>\n",
              "      <td>2.25</td>\n",
              "      <td>2570</td>\n",
              "      <td>7242</td>\n",
              "      <td>2.0</td>\n",
              "      <td>0</td>\n",
              "      <td>0</td>\n",
              "      <td>3</td>\n",
              "      <td>7</td>\n",
              "      <td>2170</td>\n",
              "      <td>400</td>\n",
              "      <td>1951</td>\n",
              "      <td>1991</td>\n",
              "      <td>98125</td>\n",
              "      <td>1690</td>\n",
              "      <td>7639</td>\n",
              "    </tr>\n",
              "    <tr>\n",
              "      <th>2</th>\n",
              "      <td>180000.0</td>\n",
              "      <td>2</td>\n",
              "      <td>1.00</td>\n",
              "      <td>770</td>\n",
              "      <td>10000</td>\n",
              "      <td>1.0</td>\n",
              "      <td>0</td>\n",
              "      <td>0</td>\n",
              "      <td>3</td>\n",
              "      <td>6</td>\n",
              "      <td>770</td>\n",
              "      <td>0</td>\n",
              "      <td>1933</td>\n",
              "      <td>0</td>\n",
              "      <td>98028</td>\n",
              "      <td>2720</td>\n",
              "      <td>8062</td>\n",
              "    </tr>\n",
              "    <tr>\n",
              "      <th>3</th>\n",
              "      <td>604000.0</td>\n",
              "      <td>4</td>\n",
              "      <td>3.00</td>\n",
              "      <td>1960</td>\n",
              "      <td>5000</td>\n",
              "      <td>1.0</td>\n",
              "      <td>0</td>\n",
              "      <td>0</td>\n",
              "      <td>5</td>\n",
              "      <td>7</td>\n",
              "      <td>1050</td>\n",
              "      <td>910</td>\n",
              "      <td>1965</td>\n",
              "      <td>0</td>\n",
              "      <td>98136</td>\n",
              "      <td>1360</td>\n",
              "      <td>5000</td>\n",
              "    </tr>\n",
              "    <tr>\n",
              "      <th>4</th>\n",
              "      <td>510000.0</td>\n",
              "      <td>3</td>\n",
              "      <td>2.00</td>\n",
              "      <td>1680</td>\n",
              "      <td>8080</td>\n",
              "      <td>1.0</td>\n",
              "      <td>0</td>\n",
              "      <td>0</td>\n",
              "      <td>3</td>\n",
              "      <td>8</td>\n",
              "      <td>1680</td>\n",
              "      <td>0</td>\n",
              "      <td>1987</td>\n",
              "      <td>0</td>\n",
              "      <td>98074</td>\n",
              "      <td>1800</td>\n",
              "      <td>7503</td>\n",
              "    </tr>\n",
              "  </tbody>\n",
              "</table>\n",
              "</div>"
            ],
            "text/plain": [
              "      price  bedrooms  bathrooms  ...  zipcode  sqft_living15  sqft_lot15\n",
              "0  221900.0         3       1.00  ...    98178           1340        5650\n",
              "1  538000.0         3       2.25  ...    98125           1690        7639\n",
              "2  180000.0         2       1.00  ...    98028           2720        8062\n",
              "3  604000.0         4       3.00  ...    98136           1360        5000\n",
              "4  510000.0         3       2.00  ...    98074           1800        7503\n",
              "\n",
              "[5 rows x 17 columns]"
            ]
          },
          "metadata": {
            "tags": []
          },
          "execution_count": 10
        }
      ]
    },
    {
      "cell_type": "code",
      "metadata": {
        "colab": {
          "base_uri": "https://localhost:8080/"
        },
        "id": "zlmV8aixkfUK",
        "outputId": "68bb0369-e0a3-4125-86ca-3ff86c2094ba"
      },
      "source": [
        "# check for duplicates\n",
        "\n",
        "house.duplicated().sum()\n",
        "\n"
      ],
      "execution_count": 11,
      "outputs": [
        {
          "output_type": "execute_result",
          "data": {
            "text/plain": [
              "6"
            ]
          },
          "metadata": {
            "tags": []
          },
          "execution_count": 11
        }
      ]
    },
    {
      "cell_type": "code",
      "metadata": {
        "colab": {
          "base_uri": "https://localhost:8080/",
          "height": 439
        },
        "id": "FIOOwL4YsR0K",
        "outputId": "96754c8a-7958-4f9a-9581-8b89663ad909"
      },
      "source": [
        "# removing duplicates\n",
        "# \n",
        "house.drop_duplicates()\n",
        "\n"
      ],
      "execution_count": 15,
      "outputs": [
        {
          "output_type": "execute_result",
          "data": {
            "text/html": [
              "<div>\n",
              "<style scoped>\n",
              "    .dataframe tbody tr th:only-of-type {\n",
              "        vertical-align: middle;\n",
              "    }\n",
              "\n",
              "    .dataframe tbody tr th {\n",
              "        vertical-align: top;\n",
              "    }\n",
              "\n",
              "    .dataframe thead th {\n",
              "        text-align: right;\n",
              "    }\n",
              "</style>\n",
              "<table border=\"1\" class=\"dataframe\">\n",
              "  <thead>\n",
              "    <tr style=\"text-align: right;\">\n",
              "      <th></th>\n",
              "      <th>price</th>\n",
              "      <th>bedrooms</th>\n",
              "      <th>bathrooms</th>\n",
              "      <th>sqft_living</th>\n",
              "      <th>sqft_lot</th>\n",
              "      <th>floors</th>\n",
              "      <th>waterfront</th>\n",
              "      <th>view</th>\n",
              "      <th>condition</th>\n",
              "      <th>grade</th>\n",
              "      <th>sqft_above</th>\n",
              "      <th>sqft_basement</th>\n",
              "      <th>yr_built</th>\n",
              "      <th>yr_renovated</th>\n",
              "      <th>zipcode</th>\n",
              "      <th>sqft_living15</th>\n",
              "      <th>sqft_lot15</th>\n",
              "    </tr>\n",
              "  </thead>\n",
              "  <tbody>\n",
              "    <tr>\n",
              "      <th>0</th>\n",
              "      <td>221900.0</td>\n",
              "      <td>3</td>\n",
              "      <td>1.00</td>\n",
              "      <td>1180</td>\n",
              "      <td>5650</td>\n",
              "      <td>1.0</td>\n",
              "      <td>0</td>\n",
              "      <td>0</td>\n",
              "      <td>3</td>\n",
              "      <td>7</td>\n",
              "      <td>1180</td>\n",
              "      <td>0</td>\n",
              "      <td>1955</td>\n",
              "      <td>0</td>\n",
              "      <td>98178</td>\n",
              "      <td>1340</td>\n",
              "      <td>5650</td>\n",
              "    </tr>\n",
              "    <tr>\n",
              "      <th>1</th>\n",
              "      <td>538000.0</td>\n",
              "      <td>3</td>\n",
              "      <td>2.25</td>\n",
              "      <td>2570</td>\n",
              "      <td>7242</td>\n",
              "      <td>2.0</td>\n",
              "      <td>0</td>\n",
              "      <td>0</td>\n",
              "      <td>3</td>\n",
              "      <td>7</td>\n",
              "      <td>2170</td>\n",
              "      <td>400</td>\n",
              "      <td>1951</td>\n",
              "      <td>1991</td>\n",
              "      <td>98125</td>\n",
              "      <td>1690</td>\n",
              "      <td>7639</td>\n",
              "    </tr>\n",
              "    <tr>\n",
              "      <th>2</th>\n",
              "      <td>180000.0</td>\n",
              "      <td>2</td>\n",
              "      <td>1.00</td>\n",
              "      <td>770</td>\n",
              "      <td>10000</td>\n",
              "      <td>1.0</td>\n",
              "      <td>0</td>\n",
              "      <td>0</td>\n",
              "      <td>3</td>\n",
              "      <td>6</td>\n",
              "      <td>770</td>\n",
              "      <td>0</td>\n",
              "      <td>1933</td>\n",
              "      <td>0</td>\n",
              "      <td>98028</td>\n",
              "      <td>2720</td>\n",
              "      <td>8062</td>\n",
              "    </tr>\n",
              "    <tr>\n",
              "      <th>3</th>\n",
              "      <td>604000.0</td>\n",
              "      <td>4</td>\n",
              "      <td>3.00</td>\n",
              "      <td>1960</td>\n",
              "      <td>5000</td>\n",
              "      <td>1.0</td>\n",
              "      <td>0</td>\n",
              "      <td>0</td>\n",
              "      <td>5</td>\n",
              "      <td>7</td>\n",
              "      <td>1050</td>\n",
              "      <td>910</td>\n",
              "      <td>1965</td>\n",
              "      <td>0</td>\n",
              "      <td>98136</td>\n",
              "      <td>1360</td>\n",
              "      <td>5000</td>\n",
              "    </tr>\n",
              "    <tr>\n",
              "      <th>4</th>\n",
              "      <td>510000.0</td>\n",
              "      <td>3</td>\n",
              "      <td>2.00</td>\n",
              "      <td>1680</td>\n",
              "      <td>8080</td>\n",
              "      <td>1.0</td>\n",
              "      <td>0</td>\n",
              "      <td>0</td>\n",
              "      <td>3</td>\n",
              "      <td>8</td>\n",
              "      <td>1680</td>\n",
              "      <td>0</td>\n",
              "      <td>1987</td>\n",
              "      <td>0</td>\n",
              "      <td>98074</td>\n",
              "      <td>1800</td>\n",
              "      <td>7503</td>\n",
              "    </tr>\n",
              "    <tr>\n",
              "      <th>...</th>\n",
              "      <td>...</td>\n",
              "      <td>...</td>\n",
              "      <td>...</td>\n",
              "      <td>...</td>\n",
              "      <td>...</td>\n",
              "      <td>...</td>\n",
              "      <td>...</td>\n",
              "      <td>...</td>\n",
              "      <td>...</td>\n",
              "      <td>...</td>\n",
              "      <td>...</td>\n",
              "      <td>...</td>\n",
              "      <td>...</td>\n",
              "      <td>...</td>\n",
              "      <td>...</td>\n",
              "      <td>...</td>\n",
              "      <td>...</td>\n",
              "    </tr>\n",
              "    <tr>\n",
              "      <th>21608</th>\n",
              "      <td>360000.0</td>\n",
              "      <td>3</td>\n",
              "      <td>2.50</td>\n",
              "      <td>1530</td>\n",
              "      <td>1131</td>\n",
              "      <td>3.0</td>\n",
              "      <td>0</td>\n",
              "      <td>0</td>\n",
              "      <td>3</td>\n",
              "      <td>8</td>\n",
              "      <td>1530</td>\n",
              "      <td>0</td>\n",
              "      <td>2009</td>\n",
              "      <td>0</td>\n",
              "      <td>98103</td>\n",
              "      <td>1530</td>\n",
              "      <td>1509</td>\n",
              "    </tr>\n",
              "    <tr>\n",
              "      <th>21609</th>\n",
              "      <td>400000.0</td>\n",
              "      <td>4</td>\n",
              "      <td>2.50</td>\n",
              "      <td>2310</td>\n",
              "      <td>5813</td>\n",
              "      <td>2.0</td>\n",
              "      <td>0</td>\n",
              "      <td>0</td>\n",
              "      <td>3</td>\n",
              "      <td>8</td>\n",
              "      <td>2310</td>\n",
              "      <td>0</td>\n",
              "      <td>2014</td>\n",
              "      <td>0</td>\n",
              "      <td>98146</td>\n",
              "      <td>1830</td>\n",
              "      <td>7200</td>\n",
              "    </tr>\n",
              "    <tr>\n",
              "      <th>21610</th>\n",
              "      <td>402101.0</td>\n",
              "      <td>2</td>\n",
              "      <td>0.75</td>\n",
              "      <td>1020</td>\n",
              "      <td>1350</td>\n",
              "      <td>2.0</td>\n",
              "      <td>0</td>\n",
              "      <td>0</td>\n",
              "      <td>3</td>\n",
              "      <td>7</td>\n",
              "      <td>1020</td>\n",
              "      <td>0</td>\n",
              "      <td>2009</td>\n",
              "      <td>0</td>\n",
              "      <td>98144</td>\n",
              "      <td>1020</td>\n",
              "      <td>2007</td>\n",
              "    </tr>\n",
              "    <tr>\n",
              "      <th>21611</th>\n",
              "      <td>400000.0</td>\n",
              "      <td>3</td>\n",
              "      <td>2.50</td>\n",
              "      <td>1600</td>\n",
              "      <td>2388</td>\n",
              "      <td>2.0</td>\n",
              "      <td>0</td>\n",
              "      <td>0</td>\n",
              "      <td>3</td>\n",
              "      <td>8</td>\n",
              "      <td>1600</td>\n",
              "      <td>0</td>\n",
              "      <td>2004</td>\n",
              "      <td>0</td>\n",
              "      <td>98027</td>\n",
              "      <td>1410</td>\n",
              "      <td>1287</td>\n",
              "    </tr>\n",
              "    <tr>\n",
              "      <th>21612</th>\n",
              "      <td>325000.0</td>\n",
              "      <td>2</td>\n",
              "      <td>0.75</td>\n",
              "      <td>1020</td>\n",
              "      <td>1076</td>\n",
              "      <td>2.0</td>\n",
              "      <td>0</td>\n",
              "      <td>0</td>\n",
              "      <td>3</td>\n",
              "      <td>7</td>\n",
              "      <td>1020</td>\n",
              "      <td>0</td>\n",
              "      <td>2008</td>\n",
              "      <td>0</td>\n",
              "      <td>98144</td>\n",
              "      <td>1020</td>\n",
              "      <td>1357</td>\n",
              "    </tr>\n",
              "  </tbody>\n",
              "</table>\n",
              "<p>21607 rows × 17 columns</p>\n",
              "</div>"
            ],
            "text/plain": [
              "          price  bedrooms  bathrooms  ...  zipcode  sqft_living15  sqft_lot15\n",
              "0      221900.0         3       1.00  ...    98178           1340        5650\n",
              "1      538000.0         3       2.25  ...    98125           1690        7639\n",
              "2      180000.0         2       1.00  ...    98028           2720        8062\n",
              "3      604000.0         4       3.00  ...    98136           1360        5000\n",
              "4      510000.0         3       2.00  ...    98074           1800        7503\n",
              "...         ...       ...        ...  ...      ...            ...         ...\n",
              "21608  360000.0         3       2.50  ...    98103           1530        1509\n",
              "21609  400000.0         4       2.50  ...    98146           1830        7200\n",
              "21610  402101.0         2       0.75  ...    98144           1020        2007\n",
              "21611  400000.0         3       2.50  ...    98027           1410        1287\n",
              "21612  325000.0         2       0.75  ...    98144           1020        1357\n",
              "\n",
              "[21607 rows x 17 columns]"
            ]
          },
          "metadata": {
            "tags": []
          },
          "execution_count": 15
        }
      ]
    },
    {
      "cell_type": "code",
      "metadata": {
        "id": "PvCYb6dgW4yh",
        "colab": {
          "base_uri": "https://localhost:8080/"
        },
        "outputId": "2fec2eed-2197-4690-d0b5-f879de53e1e4"
      },
      "source": [
        "# Identifying the Missing Data\n",
        "#\n",
        "house.isnull().sum()\n",
        "\n"
      ],
      "execution_count": 18,
      "outputs": [
        {
          "output_type": "execute_result",
          "data": {
            "text/plain": [
              "price            0\n",
              "bedrooms         0\n",
              "bathrooms        0\n",
              "sqft_living      0\n",
              "sqft_lot         0\n",
              "floors           0\n",
              "waterfront       0\n",
              "view             0\n",
              "condition        0\n",
              "grade            0\n",
              "sqft_above       0\n",
              "sqft_basement    0\n",
              "yr_built         0\n",
              "yr_renovated     0\n",
              "zipcode          0\n",
              "sqft_living15    0\n",
              "sqft_lot15       0\n",
              "dtype: int64"
            ]
          },
          "metadata": {
            "tags": []
          },
          "execution_count": 18
        }
      ]
    },
    {
      "cell_type": "code",
      "metadata": {
        "id": "987B0RY4vMud"
      },
      "source": [
        "# Dealing with the Missing Data\n",
        "#\n",
        "# there are no missing values"
      ],
      "execution_count": 14,
      "outputs": []
    },
    {
      "cell_type": "code",
      "metadata": {
        "colab": {
          "base_uri": "https://localhost:8080/"
        },
        "id": "Wlh8BBuINaxK",
        "outputId": "18c6dff1-6537-40a6-d270-3e286ece5f62"
      },
      "source": [
        "house.columns"
      ],
      "execution_count": 19,
      "outputs": [
        {
          "output_type": "execute_result",
          "data": {
            "text/plain": [
              "Index(['price', 'bedrooms', 'bathrooms', 'sqft_living', 'sqft_lot', 'floors',\n",
              "       'waterfront', 'view', 'condition', 'grade', 'sqft_above',\n",
              "       'sqft_basement', 'yr_built', 'yr_renovated', 'zipcode', 'sqft_living15',\n",
              "       'sqft_lot15'],\n",
              "      dtype='object')"
            ]
          },
          "metadata": {
            "tags": []
          },
          "execution_count": 19
        }
      ]
    },
    {
      "cell_type": "code",
      "metadata": {
        "colab": {
          "base_uri": "https://localhost:8080/",
          "height": 1000
        },
        "id": "rbAUH7z-MwyM",
        "outputId": "02641321-c2ee-430a-993b-8b143e8bbe05"
      },
      "source": [
        "#Checking for outliers\n",
        "# \n",
        "\n",
        "col_names = ['price','bedrooms','bathrooms','sqft_living','sqft_lot','floors','waterfront','view','condition','grade','sqft_above','sqft_basement','sqft_lot15', 'sqft_living15']\n",
        "\n",
        "fig,ax = plt.subplots(len(col_names),figsize=(10,80))\n",
        "for i , col_val in enumerate(col_names):\n",
        "  sns.boxplot(y=house[col_val],ax=ax[i])\n",
        "  ax[i].set_title('Box plot - {}'.format(col_val), fontsize =10)\n",
        "  ax[i].set_xlabel(col_val,fontsize=12)\n",
        "  ax[i].set_ylabel('value', fontsize=12)\n",
        "plt.show()"
      ],
      "execution_count": 20,
      "outputs": [
        {
          "output_type": "display_data",
          "data": {
            "image/png": "[encoded data removed]",
            "text/plain": [
              "<Figure size 720x5760 with 14 Axes>"
            ]
          },
          "metadata": {
            "tags": [],
            "needs_background": "light"
          }
        }
      ]
    },
    {
      "cell_type": "code",
      "metadata": {
        "id": "ztd5XAxM1tOl",
        "colab": {
          "base_uri": "https://localhost:8080/"
        },
        "outputId": "ceff374e-0c1d-4ace-b2fb-13e3c0eec0b1"
      },
      "source": [
        "# getting rid of the outliers\n",
        "\n",
        "Q1 = house.quantile(0.25)\n",
        "Q3 = house.quantile(0.75)\n",
        "IQR = Q3 - Q1\n",
        "house = house[~((house < (Q1 - 1.5 * IQR)) | (house > (Q3 + 1.5 * IQR))).any(axis=1)]\n",
        "print(house.shape)"
      ],
      "execution_count": 21,
      "outputs": [
        {
          "output_type": "stream",
          "text": [
            "(15068, 17)\n"
          ],
          "name": "stdout"
        }
      ]
    },
    {
      "cell_type": "code",
      "metadata": {
        "colab": {
          "base_uri": "https://localhost:8080/"
        },
        "id": "M4yYBovQqz1I",
        "outputId": "b5bbaf82-123e-4636-8c7b-1d7f34c4bf6f"
      },
      "source": [
        "# check the unique values of view and waterfront \n",
        "\n",
        "print(house['view'].unique())\n",
        "print(house['waterfront'].unique())\n",
        "print(house['yr_renovated'].unique())"
      ],
      "execution_count": 22,
      "outputs": [
        {
          "output_type": "stream",
          "text": [
            "[0]\n",
            "[0]\n",
            "[0]\n"
          ],
          "name": "stdout"
        }
      ]
    },
    {
      "cell_type": "code",
      "metadata": {
        "colab": {
          "base_uri": "https://localhost:8080/"
        },
        "id": "IYIyiXHoMZRp",
        "outputId": "197ca7f3-74c8-4675-c8a8-8e9cd106b024"
      },
      "source": [
        "house.columns"
      ],
      "execution_count": 19,
      "outputs": [
        {
          "output_type": "execute_result",
          "data": {
            "text/plain": [
              "Index(['price', 'bedrooms', 'bathrooms', 'sqft_living', 'sqft_lot', 'floors',\n",
              "       'waterfront', 'view', 'condition', 'grade', 'sqft_above',\n",
              "       'sqft_basement', 'yr_built', 'yr_renovated', 'zipcode', 'sqft_living15',\n",
              "       'sqft_lot15'],\n",
              "      dtype='object')"
            ]
          },
          "metadata": {
            "tags": []
          },
          "execution_count": 19
        }
      ]
    },
    {
      "cell_type": "code",
      "metadata": {
        "colab": {
          "base_uri": "https://localhost:8080/",
          "height": 224
        },
        "id": "YGluygpRrbGR",
        "outputId": "c777ff04-745e-40df-cbff-a23133a69a34"
      },
      "source": [
        "# drop the view, yr_renovated and waterfront columns\n",
        "# \n",
        "\n",
        "house.drop(['view', 'waterfront','yr_renovated'], axis=1, inplace=True)\n",
        "house.head()"
      ],
      "execution_count": 23,
      "outputs": [
        {
          "output_type": "execute_result",
          "data": {
            "text/html": [
              "<div>\n",
              "<style scoped>\n",
              "    .dataframe tbody tr th:only-of-type {\n",
              "        vertical-align: middle;\n",
              "    }\n",
              "\n",
              "    .dataframe tbody tr th {\n",
              "        vertical-align: top;\n",
              "    }\n",
              "\n",
              "    .dataframe thead th {\n",
              "        text-align: right;\n",
              "    }\n",
              "</style>\n",
              "<table border=\"1\" class=\"dataframe\">\n",
              "  <thead>\n",
              "    <tr style=\"text-align: right;\">\n",
              "      <th></th>\n",
              "      <th>price</th>\n",
              "      <th>bedrooms</th>\n",
              "      <th>bathrooms</th>\n",
              "      <th>sqft_living</th>\n",
              "      <th>sqft_lot</th>\n",
              "      <th>floors</th>\n",
              "      <th>condition</th>\n",
              "      <th>grade</th>\n",
              "      <th>sqft_above</th>\n",
              "      <th>sqft_basement</th>\n",
              "      <th>yr_built</th>\n",
              "      <th>zipcode</th>\n",
              "      <th>sqft_living15</th>\n",
              "      <th>sqft_lot15</th>\n",
              "    </tr>\n",
              "  </thead>\n",
              "  <tbody>\n",
              "    <tr>\n",
              "      <th>0</th>\n",
              "      <td>221900.0</td>\n",
              "      <td>3</td>\n",
              "      <td>1.00</td>\n",
              "      <td>1180</td>\n",
              "      <td>5650</td>\n",
              "      <td>1.0</td>\n",
              "      <td>3</td>\n",
              "      <td>7</td>\n",
              "      <td>1180</td>\n",
              "      <td>0</td>\n",
              "      <td>1955</td>\n",
              "      <td>98178</td>\n",
              "      <td>1340</td>\n",
              "      <td>5650</td>\n",
              "    </tr>\n",
              "    <tr>\n",
              "      <th>2</th>\n",
              "      <td>180000.0</td>\n",
              "      <td>2</td>\n",
              "      <td>1.00</td>\n",
              "      <td>770</td>\n",
              "      <td>10000</td>\n",
              "      <td>1.0</td>\n",
              "      <td>3</td>\n",
              "      <td>6</td>\n",
              "      <td>770</td>\n",
              "      <td>0</td>\n",
              "      <td>1933</td>\n",
              "      <td>98028</td>\n",
              "      <td>2720</td>\n",
              "      <td>8062</td>\n",
              "    </tr>\n",
              "    <tr>\n",
              "      <th>3</th>\n",
              "      <td>604000.0</td>\n",
              "      <td>4</td>\n",
              "      <td>3.00</td>\n",
              "      <td>1960</td>\n",
              "      <td>5000</td>\n",
              "      <td>1.0</td>\n",
              "      <td>5</td>\n",
              "      <td>7</td>\n",
              "      <td>1050</td>\n",
              "      <td>910</td>\n",
              "      <td>1965</td>\n",
              "      <td>98136</td>\n",
              "      <td>1360</td>\n",
              "      <td>5000</td>\n",
              "    </tr>\n",
              "    <tr>\n",
              "      <th>4</th>\n",
              "      <td>510000.0</td>\n",
              "      <td>3</td>\n",
              "      <td>2.00</td>\n",
              "      <td>1680</td>\n",
              "      <td>8080</td>\n",
              "      <td>1.0</td>\n",
              "      <td>3</td>\n",
              "      <td>8</td>\n",
              "      <td>1680</td>\n",
              "      <td>0</td>\n",
              "      <td>1987</td>\n",
              "      <td>98074</td>\n",
              "      <td>1800</td>\n",
              "      <td>7503</td>\n",
              "    </tr>\n",
              "    <tr>\n",
              "      <th>6</th>\n",
              "      <td>257500.0</td>\n",
              "      <td>3</td>\n",
              "      <td>2.25</td>\n",
              "      <td>1715</td>\n",
              "      <td>6819</td>\n",
              "      <td>2.0</td>\n",
              "      <td>3</td>\n",
              "      <td>7</td>\n",
              "      <td>1715</td>\n",
              "      <td>0</td>\n",
              "      <td>1995</td>\n",
              "      <td>98003</td>\n",
              "      <td>2238</td>\n",
              "      <td>6819</td>\n",
              "    </tr>\n",
              "  </tbody>\n",
              "</table>\n",
              "</div>"
            ],
            "text/plain": [
              "      price  bedrooms  bathrooms  ...  zipcode  sqft_living15  sqft_lot15\n",
              "0  221900.0         3       1.00  ...    98178           1340        5650\n",
              "2  180000.0         2       1.00  ...    98028           2720        8062\n",
              "3  604000.0         4       3.00  ...    98136           1360        5000\n",
              "4  510000.0         3       2.00  ...    98074           1800        7503\n",
              "6  257500.0         3       2.25  ...    98003           2238        6819\n",
              "\n",
              "[5 rows x 14 columns]"
            ]
          },
          "metadata": {
            "tags": []
          },
          "execution_count": 23
        }
      ]
    },
    {
      "cell_type": "markdown",
      "metadata": {
        "id": "JSX0jxZe22pW"
      },
      "source": [
        "##**6**. Exploratory Data Analysis"
      ]
    },
    {
      "cell_type": "markdown",
      "metadata": {
        "id": "JpyHuwG92jJP"
      },
      "source": [
        "### 6.1 Univariate Analysis\n"
      ]
    },
    {
      "cell_type": "code",
      "metadata": {
        "colab": {
          "base_uri": "https://localhost:8080/",
          "height": 317
        },
        "id": "cCSNQG8hyHgX",
        "outputId": "de1e6246-ae00-43ab-fafd-9b4d2831fd4f"
      },
      "source": [
        "# getting a statistical summary of our dataset\n",
        "\n",
        "house.describe()"
      ],
      "execution_count": 24,
      "outputs": [
        {
          "output_type": "execute_result",
          "data": {
            "text/html": [
              "<div>\n",
              "<style scoped>\n",
              "    .dataframe tbody tr th:only-of-type {\n",
              "        vertical-align: middle;\n",
              "    }\n",
              "\n",
              "    .dataframe tbody tr th {\n",
              "        vertical-align: top;\n",
              "    }\n",
              "\n",
              "    .dataframe thead th {\n",
              "        text-align: right;\n",
              "    }\n",
              "</style>\n",
              "<table border=\"1\" class=\"dataframe\">\n",
              "  <thead>\n",
              "    <tr style=\"text-align: right;\">\n",
              "      <th></th>\n",
              "      <th>price</th>\n",
              "      <th>bedrooms</th>\n",
              "      <th>bathrooms</th>\n",
              "      <th>sqft_living</th>\n",
              "      <th>sqft_lot</th>\n",
              "      <th>floors</th>\n",
              "      <th>condition</th>\n",
              "      <th>grade</th>\n",
              "      <th>sqft_above</th>\n",
              "      <th>sqft_basement</th>\n",
              "      <th>yr_built</th>\n",
              "      <th>zipcode</th>\n",
              "      <th>sqft_living15</th>\n",
              "      <th>sqft_lot15</th>\n",
              "    </tr>\n",
              "  </thead>\n",
              "  <tbody>\n",
              "    <tr>\n",
              "      <th>count</th>\n",
              "      <td>1.506800e+04</td>\n",
              "      <td>15068.000000</td>\n",
              "      <td>15068.000000</td>\n",
              "      <td>15068.000000</td>\n",
              "      <td>15068.000000</td>\n",
              "      <td>15068.000000</td>\n",
              "      <td>15068.000000</td>\n",
              "      <td>15068.000000</td>\n",
              "      <td>15068.000000</td>\n",
              "      <td>15068.000000</td>\n",
              "      <td>15068.000000</td>\n",
              "      <td>15068.000000</td>\n",
              "      <td>15068.000000</td>\n",
              "      <td>15068.000000</td>\n",
              "    </tr>\n",
              "    <tr>\n",
              "      <th>mean</th>\n",
              "      <td>4.376672e+05</td>\n",
              "      <td>3.261415</td>\n",
              "      <td>1.972060</td>\n",
              "      <td>1813.577117</td>\n",
              "      <td>7018.311455</td>\n",
              "      <td>1.471031</td>\n",
              "      <td>3.418569</td>\n",
              "      <td>7.379214</td>\n",
              "      <td>1585.963698</td>\n",
              "      <td>227.613419</td>\n",
              "      <td>1971.832758</td>\n",
              "      <td>98079.434032</td>\n",
              "      <td>1796.134922</td>\n",
              "      <td>6898.717414</td>\n",
              "    </tr>\n",
              "    <tr>\n",
              "      <th>std</th>\n",
              "      <td>1.796671e+05</td>\n",
              "      <td>0.771381</td>\n",
              "      <td>0.645469</td>\n",
              "      <td>614.425156</td>\n",
              "      <td>3367.262524</td>\n",
              "      <td>0.547329</td>\n",
              "      <td>0.646379</td>\n",
              "      <td>0.803984</td>\n",
              "      <td>601.609884</td>\n",
              "      <td>352.487803</td>\n",
              "      <td>29.197270</td>\n",
              "      <td>53.350295</td>\n",
              "      <td>507.817614</td>\n",
              "      <td>3003.002091</td>\n",
              "    </tr>\n",
              "    <tr>\n",
              "      <th>min</th>\n",
              "      <td>8.200000e+04</td>\n",
              "      <td>2.000000</td>\n",
              "      <td>0.750000</td>\n",
              "      <td>560.000000</td>\n",
              "      <td>520.000000</td>\n",
              "      <td>1.000000</td>\n",
              "      <td>2.000000</td>\n",
              "      <td>6.000000</td>\n",
              "      <td>480.000000</td>\n",
              "      <td>0.000000</td>\n",
              "      <td>1900.000000</td>\n",
              "      <td>98001.000000</td>\n",
              "      <td>620.000000</td>\n",
              "      <td>651.000000</td>\n",
              "    </tr>\n",
              "    <tr>\n",
              "      <th>25%</th>\n",
              "      <td>3.000000e+05</td>\n",
              "      <td>3.000000</td>\n",
              "      <td>1.500000</td>\n",
              "      <td>1350.000000</td>\n",
              "      <td>4720.000000</td>\n",
              "      <td>1.000000</td>\n",
              "      <td>3.000000</td>\n",
              "      <td>7.000000</td>\n",
              "      <td>1140.000000</td>\n",
              "      <td>0.000000</td>\n",
              "      <td>1953.000000</td>\n",
              "      <td>98033.000000</td>\n",
              "      <td>1420.000000</td>\n",
              "      <td>4800.000000</td>\n",
              "    </tr>\n",
              "    <tr>\n",
              "      <th>50%</th>\n",
              "      <td>4.050000e+05</td>\n",
              "      <td>3.000000</td>\n",
              "      <td>2.000000</td>\n",
              "      <td>1740.000000</td>\n",
              "      <td>7068.000000</td>\n",
              "      <td>1.000000</td>\n",
              "      <td>3.000000</td>\n",
              "      <td>7.000000</td>\n",
              "      <td>1430.000000</td>\n",
              "      <td>0.000000</td>\n",
              "      <td>1975.000000</td>\n",
              "      <td>98065.000000</td>\n",
              "      <td>1700.000000</td>\n",
              "      <td>7200.000000</td>\n",
              "    </tr>\n",
              "    <tr>\n",
              "      <th>75%</th>\n",
              "      <td>5.450000e+05</td>\n",
              "      <td>4.000000</td>\n",
              "      <td>2.500000</td>\n",
              "      <td>2210.000000</td>\n",
              "      <td>8991.000000</td>\n",
              "      <td>2.000000</td>\n",
              "      <td>4.000000</td>\n",
              "      <td>8.000000</td>\n",
              "      <td>1910.000000</td>\n",
              "      <td>440.000000</td>\n",
              "      <td>1999.000000</td>\n",
              "      <td>98118.000000</td>\n",
              "      <td>2090.000000</td>\n",
              "      <td>8700.000000</td>\n",
              "    </tr>\n",
              "    <tr>\n",
              "      <th>max</th>\n",
              "      <td>1.120000e+06</td>\n",
              "      <td>5.000000</td>\n",
              "      <td>3.500000</td>\n",
              "      <td>4200.000000</td>\n",
              "      <td>19141.000000</td>\n",
              "      <td>3.500000</td>\n",
              "      <td>5.000000</td>\n",
              "      <td>9.000000</td>\n",
              "      <td>3740.000000</td>\n",
              "      <td>1400.000000</td>\n",
              "      <td>2015.000000</td>\n",
              "      <td>98199.000000</td>\n",
              "      <td>3640.000000</td>\n",
              "      <td>17550.000000</td>\n",
              "    </tr>\n",
              "  </tbody>\n",
              "</table>\n",
              "</div>"
            ],
            "text/plain": [
              "              price      bedrooms  ...  sqft_living15    sqft_lot15\n",
              "count  1.506800e+04  15068.000000  ...   15068.000000  15068.000000\n",
              "mean   4.376672e+05      3.261415  ...    1796.134922   6898.717414\n",
              "std    1.796671e+05      0.771381  ...     507.817614   3003.002091\n",
              "min    8.200000e+04      2.000000  ...     620.000000    651.000000\n",
              "25%    3.000000e+05      3.000000  ...    1420.000000   4800.000000\n",
              "50%    4.050000e+05      3.000000  ...    1700.000000   7200.000000\n",
              "75%    5.450000e+05      4.000000  ...    2090.000000   8700.000000\n",
              "max    1.120000e+06      5.000000  ...    3640.000000  17550.000000\n",
              "\n",
              "[8 rows x 14 columns]"
            ]
          },
          "metadata": {
            "tags": []
          },
          "execution_count": 24
        }
      ]
    },
    {
      "cell_type": "code",
      "metadata": {
        "colab": {
          "base_uri": "https://localhost:8080/"
        },
        "id": "5mNfNbMqXY5g",
        "outputId": "4d74a219-316f-41cc-aed6-e40a27e0fdb0"
      },
      "source": [
        "# getting the median of the continuous variables\n",
        "cols1 = ['price','bedrooms','bathrooms','sqft_living','sqft_lot','floors','condition','grade','sqft_above','sqft_basement','sqft_lot15', 'sqft_living15']\n",
        "\n",
        "median1 = house[cols1].median()\n",
        "\n",
        "median1.sort_values(ascending=False)\n"
      ],
      "execution_count": 25,
      "outputs": [
        {
          "output_type": "execute_result",
          "data": {
            "text/plain": [
              "price            405000.0\n",
              "sqft_lot15         7200.0\n",
              "sqft_lot           7068.0\n",
              "sqft_living        1740.0\n",
              "sqft_living15      1700.0\n",
              "sqft_above         1430.0\n",
              "grade                 7.0\n",
              "condition             3.0\n",
              "bedrooms              3.0\n",
              "bathrooms             2.0\n",
              "floors                1.0\n",
              "sqft_basement         0.0\n",
              "dtype: float64"
            ]
          },
          "metadata": {
            "tags": []
          },
          "execution_count": 25
        }
      ]
    },
    {
      "cell_type": "code",
      "metadata": {
        "colab": {
          "base_uri": "https://localhost:8080/"
        },
        "id": "2kQmF6r-T0UY",
        "outputId": "9cc16488-0347-4527-e8ab-a7e4bbd14cf4"
      },
      "source": [
        "# getting the skewness of the continuous variables\n",
        "# \n",
        "\n",
        "cols1 = ['price','bedrooms','bathrooms','sqft_living','sqft_lot','floors','condition','grade','sqft_above','sqft_basement','sqft_lot15', 'sqft_living15']\n",
        "\n",
        "skewed = house[cols1].skew()\n",
        "\n",
        "skewed.sort_values(ascending=False)\n"
      ],
      "execution_count": 26,
      "outputs": [
        {
          "output_type": "execute_result",
          "data": {
            "text/plain": [
              "sqft_basement    1.331673\n",
              "condition        1.121608\n",
              "sqft_above       0.963787\n",
              "price            0.837129\n",
              "floors           0.770010\n",
              "sqft_living15    0.752538\n",
              "sqft_living      0.550211\n",
              "sqft_lot         0.523125\n",
              "grade            0.318633\n",
              "sqft_lot15       0.300766\n",
              "bedrooms         0.245395\n",
              "bathrooms       -0.093643\n",
              "dtype: float64"
            ]
          },
          "metadata": {
            "tags": []
          },
          "execution_count": 26
        }
      ]
    },
    {
      "cell_type": "code",
      "metadata": {
        "colab": {
          "base_uri": "https://localhost:8080/"
        },
        "id": "dvn78M1DVXMK",
        "outputId": "8c67a710-6476-4cb5-f8f3-93baa1df1bd4"
      },
      "source": [
        "# getting the kurtosis of the continuous variables\n",
        "# \n",
        "\n",
        "cols1 = ['price','bedrooms','bathrooms','sqft_living','sqft_lot','floors','condition','grade','sqft_above','sqft_basement','sqft_lot15', 'sqft_living15']\n",
        "\n",
        "kurt1 = house[cols1].kurt()\n",
        "\n",
        "kurt1.sort_values(ascending=False)\n"
      ],
      "execution_count": 27,
      "outputs": [
        {
          "output_type": "execute_result",
          "data": {
            "text/plain": [
              "sqft_basement    0.527250\n",
              "sqft_lot         0.462602\n",
              "price            0.420611\n",
              "sqft_above       0.400829\n",
              "condition        0.326418\n",
              "sqft_living15    0.286965\n",
              "sqft_lot15       0.184535\n",
              "sqft_living     -0.096169\n",
              "floors          -0.224831\n",
              "bedrooms        -0.264473\n",
              "grade           -0.335445\n",
              "bathrooms       -0.815552\n",
              "dtype: float64"
            ]
          },
          "metadata": {
            "tags": []
          },
          "execution_count": 27
        }
      ]
    },
    {
      "cell_type": "code",
      "metadata": {
        "colab": {
          "base_uri": "https://localhost:8080/"
        },
        "id": "jAYrKgh1W03z",
        "outputId": "7caeacba-99de-4a10-8f3e-1f7a6b8d8722"
      },
      "source": [
        "# getting the variance of the continuous variables\n",
        "# \n",
        "\n",
        "cols1 = ['price','bedrooms','bathrooms','sqft_living','sqft_lot','floors','condition','grade','sqft_above','sqft_basement','sqft_lot15', 'sqft_living15']\n",
        "\n",
        "var1 = house[cols1].var()\n",
        "\n",
        "var1.sort_values(ascending=False)\n"
      ],
      "execution_count": 39,
      "outputs": [
        {
          "output_type": "execute_result",
          "data": {
            "text/plain": [
              "price            3.228027e+10\n",
              "sqft_lot         1.133846e+07\n",
              "sqft_lot15       9.018022e+06\n",
              "sqft_living      3.775183e+05\n",
              "sqft_above       3.619345e+05\n",
              "sqft_living15    2.578787e+05\n",
              "sqft_basement    1.242477e+05\n",
              "grade            6.463908e-01\n",
              "bedrooms         5.950280e-01\n",
              "condition        4.178061e-01\n",
              "bathrooms        4.166299e-01\n",
              "floors           2.995689e-01\n",
              "dtype: float64"
            ]
          },
          "metadata": {
            "tags": []
          },
          "execution_count": 39
        }
      ]
    },
    {
      "cell_type": "code",
      "metadata": {
        "colab": {
          "base_uri": "https://localhost:8080/",
          "height": 295
        },
        "id": "_T2t5GUDxmc5",
        "outputId": "3bab9e0b-eb20-4497-e99d-886ee8950065"
      },
      "source": [
        "# plotting a histogram to show bedroom distribution.\n",
        "# \n",
        "\n",
        "bdrm = house['bedrooms']\n",
        "\n",
        "plt.hist(bdrm, bins=10, histtype='bar', rwidth=0.9)\n",
        "\n",
        "plt.xlabel('bdrm')\n",
        "plt.ylabel('number')\n",
        "plt.title('Histogram of bedrooms') \n",
        "plt.show()"
      ],
      "execution_count": 29,
      "outputs": [
        {
          "output_type": "display_data",
          "data": {
            "image/png": "[encoded data removed]",
            "text/plain": [
              "<Figure size 432x288 with 1 Axes>"
            ]
          },
          "metadata": {
            "tags": [],
            "needs_background": "light"
          }
        }
      ]
    },
    {
      "cell_type": "code",
      "metadata": {
        "colab": {
          "base_uri": "https://localhost:8080/",
          "height": 295
        },
        "id": "2k58ooB2yZww",
        "outputId": "374f55bd-8a48-48db-ff6b-5306b6f435a7"
      },
      "source": [
        "# Histogram to show bathrooms distribution\n",
        "# \n",
        "\n",
        "baths = house['bathrooms']\n",
        "\n",
        "plt.hist(baths, bins=10, histtype='bar', rwidth=0.9)\n",
        "plt.xlabel('bathrooms')\n",
        "plt.ylabel('value')\n",
        "plt.title('histogram of bathrooms')\n",
        "plt.show()"
      ],
      "execution_count": 30,
      "outputs": [
        {
          "output_type": "display_data",
          "data": {
            "image/png": "[encoded data removed]",
            "text/plain": [
              "<Figure size 432x288 with 1 Axes>"
            ]
          },
          "metadata": {
            "tags": [],
            "needs_background": "light"
          }
        }
      ]
    },
    {
      "cell_type": "code",
      "metadata": {
        "colab": {
          "base_uri": "https://localhost:8080/",
          "height": 295
        },
        "id": "Ctg3s662zIrg",
        "outputId": "65146c27-9da8-45c2-bba8-114991eb6a68"
      },
      "source": [
        "# histogram to show floors distribution\n",
        "# \n",
        "\n",
        "floor = house['floors']\n",
        "\n",
        "plt.hist(floor, bins=10, histtype='bar', rwidth=0.9)\n",
        "plt.xlabel('floors')\n",
        "plt.ylabel('value')\n",
        "plt.title('histogram of floors')\n",
        "plt.show()"
      ],
      "execution_count": 31,
      "outputs": [
        {
          "output_type": "display_data",
          "data": {
            "image/png": "[encoded data removed]",
            "text/plain": [
              "<Figure size 432x288 with 1 Axes>"
            ]
          },
          "metadata": {
            "tags": [],
            "needs_background": "light"
          }
        }
      ]
    },
    {
      "cell_type": "markdown",
      "metadata": {
        "id": "1f7bl_sPzs6d"
      },
      "source": [
        "Observations:\n",
        "\n",
        "\n",
        "*   Most houses have 3 bedrooms\n",
        "*   Houses with 2.5 bathrooms are predominant\n",
        "*   Most houses have only 1 floor\n",
        "\n"
      ]
    },
    {
      "cell_type": "markdown",
      "metadata": {
        "id": "uZ9UmJzG0cPU"
      },
      "source": [
        "Categorical Variables"
      ]
    },
    {
      "cell_type": "code",
      "metadata": {
        "colab": {
          "base_uri": "https://localhost:8080/"
        },
        "id": "SPjwQsBW0fhy",
        "outputId": "f7a1a49a-3194-43bd-9308-5f6d7871b052"
      },
      "source": [
        "# Getting a frequency table for the zipcode\n",
        "# \n",
        "\n",
        "house['zipcode'].value_counts()"
      ],
      "execution_count": 32,
      "outputs": [
        {
          "output_type": "execute_result",
          "data": {
            "text/plain": [
              "98103    496\n",
              "98038    470\n",
              "98115    469\n",
              "98034    457\n",
              "98117    454\n",
              "        ... \n",
              "98010     35\n",
              "98077     27\n",
              "98024     18\n",
              "98070     11\n",
              "98039      6\n",
              "Name: zipcode, Length: 70, dtype: int64"
            ]
          },
          "metadata": {
            "tags": []
          },
          "execution_count": 32
        }
      ]
    },
    {
      "cell_type": "code",
      "metadata": {
        "colab": {
          "base_uri": "https://localhost:8080/"
        },
        "id": "LwVo-oQ70vjJ",
        "outputId": "8cc5c061-5e4e-4ca5-83d8-21d24d757b96"
      },
      "source": [
        "# getting the frequency table for the year built\n",
        "# \n",
        "\n",
        "house['yr_built'].value_counts()\n"
      ],
      "execution_count": 33,
      "outputs": [
        {
          "output_type": "execute_result",
          "data": {
            "text/plain": [
              "2014    438\n",
              "2005    354\n",
              "2003    343\n",
              "2006    333\n",
              "2004    330\n",
              "       ... \n",
              "1936     20\n",
              "1932     16\n",
              "1933     10\n",
              "1934      8\n",
              "1935      8\n",
              "Name: yr_built, Length: 116, dtype: int64"
            ]
          },
          "metadata": {
            "tags": []
          },
          "execution_count": 33
        }
      ]
    },
    {
      "cell_type": "markdown",
      "metadata": {
        "id": "AAJjJgfG1E1Y"
      },
      "source": [
        "Observations\n",
        "\n",
        "\n",
        "*   The zip code with the most houses is 98103\n",
        "*   2014 is the year when most houses were built\n",
        "\n"
      ]
    },
    {
      "cell_type": "code",
      "metadata": {
        "colab": {
          "base_uri": "https://localhost:8080/"
        },
        "id": "Dw599ld0X8FN",
        "outputId": "572d3770-0194-4afd-b41b-fabcf9899f3d"
      },
      "source": [
        "house.columns"
      ],
      "execution_count": 34,
      "outputs": [
        {
          "output_type": "execute_result",
          "data": {
            "text/plain": [
              "Index(['price', 'bedrooms', 'bathrooms', 'sqft_living', 'sqft_lot', 'floors',\n",
              "       'condition', 'grade', 'sqft_above', 'sqft_basement', 'yr_built',\n",
              "       'zipcode', 'sqft_living15', 'sqft_lot15'],\n",
              "      dtype='object')"
            ]
          },
          "metadata": {
            "tags": []
          },
          "execution_count": 34
        }
      ]
    },
    {
      "cell_type": "markdown",
      "metadata": {
        "id": "DKGapXjRAkzn"
      },
      "source": [
        "### 6.2 Bivariate Analysis"
      ]
    },
    {
      "cell_type": "code",
      "metadata": {
        "colab": {
          "base_uri": "https://localhost:8080/",
          "height": 503
        },
        "id": "NAh1jdkv19VQ",
        "outputId": "ac8b89be-63f8-4f27-bec2-9a664407f95b"
      },
      "source": [
        "# Getting the correlation matrix\n",
        "# \n",
        "\n",
        "correlations = house.corr()\n",
        "correlations"
      ],
      "execution_count": 40,
      "outputs": [
        {
          "output_type": "execute_result",
          "data": {
            "text/html": [
              "<div>\n",
              "<style scoped>\n",
              "    .dataframe tbody tr th:only-of-type {\n",
              "        vertical-align: middle;\n",
              "    }\n",
              "\n",
              "    .dataframe tbody tr th {\n",
              "        vertical-align: top;\n",
              "    }\n",
              "\n",
              "    .dataframe thead th {\n",
              "        text-align: right;\n",
              "    }\n",
              "</style>\n",
              "<table border=\"1\" class=\"dataframe\">\n",
              "  <thead>\n",
              "    <tr style=\"text-align: right;\">\n",
              "      <th></th>\n",
              "      <th>price</th>\n",
              "      <th>bedrooms</th>\n",
              "      <th>bathrooms</th>\n",
              "      <th>sqft_living</th>\n",
              "      <th>sqft_lot</th>\n",
              "      <th>floors</th>\n",
              "      <th>condition</th>\n",
              "      <th>grade</th>\n",
              "      <th>sqft_above</th>\n",
              "      <th>sqft_basement</th>\n",
              "      <th>yr_built</th>\n",
              "      <th>zipcode</th>\n",
              "      <th>sqft_living15</th>\n",
              "      <th>sqft_lot15</th>\n",
              "    </tr>\n",
              "  </thead>\n",
              "  <tbody>\n",
              "    <tr>\n",
              "      <th>price</th>\n",
              "      <td>1.000000</td>\n",
              "      <td>0.240541</td>\n",
              "      <td>0.342113</td>\n",
              "      <td>0.515427</td>\n",
              "      <td>-0.089639</td>\n",
              "      <td>0.228982</td>\n",
              "      <td>0.084131</td>\n",
              "      <td>0.527996</td>\n",
              "      <td>0.408794</td>\n",
              "      <td>0.200737</td>\n",
              "      <td>-0.011728</td>\n",
              "      <td>-0.005168</td>\n",
              "      <td>0.449073</td>\n",
              "      <td>-0.100468</td>\n",
              "    </tr>\n",
              "    <tr>\n",
              "      <th>bedrooms</th>\n",
              "      <td>0.240541</td>\n",
              "      <td>1.000000</td>\n",
              "      <td>0.444362</td>\n",
              "      <td>0.614892</td>\n",
              "      <td>0.200711</td>\n",
              "      <td>0.130887</td>\n",
              "      <td>0.028786</td>\n",
              "      <td>0.291225</td>\n",
              "      <td>0.486672</td>\n",
              "      <td>0.241196</td>\n",
              "      <td>0.160286</td>\n",
              "      <td>-0.188022</td>\n",
              "      <td>0.414712</td>\n",
              "      <td>0.191379</td>\n",
              "    </tr>\n",
              "    <tr>\n",
              "      <th>bathrooms</th>\n",
              "      <td>0.342113</td>\n",
              "      <td>0.444362</td>\n",
              "      <td>1.000000</td>\n",
              "      <td>0.670040</td>\n",
              "      <td>-0.089191</td>\n",
              "      <td>0.525661</td>\n",
              "      <td>-0.158169</td>\n",
              "      <td>0.585230</td>\n",
              "      <td>0.593916</td>\n",
              "      <td>0.154285</td>\n",
              "      <td>0.603797</td>\n",
              "      <td>-0.248937</td>\n",
              "      <td>0.517089</td>\n",
              "      <td>-0.092565</td>\n",
              "    </tr>\n",
              "    <tr>\n",
              "      <th>sqft_living</th>\n",
              "      <td>0.515427</td>\n",
              "      <td>0.614892</td>\n",
              "      <td>0.670040</td>\n",
              "      <td>1.000000</td>\n",
              "      <td>0.158914</td>\n",
              "      <td>0.320174</td>\n",
              "      <td>-0.069356</td>\n",
              "      <td>0.623327</td>\n",
              "      <td>0.832158</td>\n",
              "      <td>0.322821</td>\n",
              "      <td>0.352167</td>\n",
              "      <td>-0.237880</td>\n",
              "      <td>0.728358</td>\n",
              "      <td>0.143435</td>\n",
              "    </tr>\n",
              "    <tr>\n",
              "      <th>sqft_lot</th>\n",
              "      <td>-0.089639</td>\n",
              "      <td>0.200711</td>\n",
              "      <td>-0.089191</td>\n",
              "      <td>0.158914</td>\n",
              "      <td>1.000000</td>\n",
              "      <td>-0.414294</td>\n",
              "      <td>0.147325</td>\n",
              "      <td>-0.034580</td>\n",
              "      <td>0.111188</td>\n",
              "      <td>0.087233</td>\n",
              "      <td>-0.103415</td>\n",
              "      <td>-0.260664</td>\n",
              "      <td>0.192427</td>\n",
              "      <td>0.883064</td>\n",
              "    </tr>\n",
              "    <tr>\n",
              "      <th>floors</th>\n",
              "      <td>0.228982</td>\n",
              "      <td>0.130887</td>\n",
              "      <td>0.525661</td>\n",
              "      <td>0.320174</td>\n",
              "      <td>-0.414294</td>\n",
              "      <td>1.000000</td>\n",
              "      <td>-0.301813</td>\n",
              "      <td>0.473523</td>\n",
              "      <td>0.520042</td>\n",
              "      <td>-0.329485</td>\n",
              "      <td>0.551709</td>\n",
              "      <td>-0.059525</td>\n",
              "      <td>0.258378</td>\n",
              "      <td>-0.421601</td>\n",
              "    </tr>\n",
              "    <tr>\n",
              "      <th>condition</th>\n",
              "      <td>0.084131</td>\n",
              "      <td>0.028786</td>\n",
              "      <td>-0.158169</td>\n",
              "      <td>-0.069356</td>\n",
              "      <td>0.147325</td>\n",
              "      <td>-0.301813</td>\n",
              "      <td>1.000000</td>\n",
              "      <td>-0.190001</td>\n",
              "      <td>-0.189868</td>\n",
              "      <td>0.203161</td>\n",
              "      <td>-0.405417</td>\n",
              "      <td>0.003367</td>\n",
              "      <td>-0.132838</td>\n",
              "      <td>0.148337</td>\n",
              "    </tr>\n",
              "    <tr>\n",
              "      <th>grade</th>\n",
              "      <td>0.527996</td>\n",
              "      <td>0.291225</td>\n",
              "      <td>0.585230</td>\n",
              "      <td>0.623327</td>\n",
              "      <td>-0.034580</td>\n",
              "      <td>0.473523</td>\n",
              "      <td>-0.190001</td>\n",
              "      <td>1.000000</td>\n",
              "      <td>0.638235</td>\n",
              "      <td>-0.002783</td>\n",
              "      <td>0.509271</td>\n",
              "      <td>-0.213061</td>\n",
              "      <td>0.605391</td>\n",
              "      <td>-0.026425</td>\n",
              "    </tr>\n",
              "    <tr>\n",
              "      <th>sqft_above</th>\n",
              "      <td>0.408794</td>\n",
              "      <td>0.486672</td>\n",
              "      <td>0.593916</td>\n",
              "      <td>0.832158</td>\n",
              "      <td>0.111188</td>\n",
              "      <td>0.520042</td>\n",
              "      <td>-0.189868</td>\n",
              "      <td>0.638235</td>\n",
              "      <td>1.000000</td>\n",
              "      <td>-0.256210</td>\n",
              "      <td>0.474639</td>\n",
              "      <td>-0.306843</td>\n",
              "      <td>0.711731</td>\n",
              "      <td>0.097848</td>\n",
              "    </tr>\n",
              "    <tr>\n",
              "      <th>sqft_basement</th>\n",
              "      <td>0.200737</td>\n",
              "      <td>0.241196</td>\n",
              "      <td>0.154285</td>\n",
              "      <td>0.322821</td>\n",
              "      <td>0.087233</td>\n",
              "      <td>-0.329485</td>\n",
              "      <td>0.203161</td>\n",
              "      <td>-0.002783</td>\n",
              "      <td>-0.256210</td>\n",
              "      <td>1.000000</td>\n",
              "      <td>-0.196226</td>\n",
              "      <td>0.109055</td>\n",
              "      <td>0.054859</td>\n",
              "      <td>0.083021</td>\n",
              "    </tr>\n",
              "    <tr>\n",
              "      <th>yr_built</th>\n",
              "      <td>-0.011728</td>\n",
              "      <td>0.160286</td>\n",
              "      <td>0.603797</td>\n",
              "      <td>0.352167</td>\n",
              "      <td>-0.103415</td>\n",
              "      <td>0.551709</td>\n",
              "      <td>-0.405417</td>\n",
              "      <td>0.509271</td>\n",
              "      <td>0.474639</td>\n",
              "      <td>-0.196226</td>\n",
              "      <td>1.000000</td>\n",
              "      <td>-0.344942</td>\n",
              "      <td>0.364324</td>\n",
              "      <td>-0.082528</td>\n",
              "    </tr>\n",
              "    <tr>\n",
              "      <th>zipcode</th>\n",
              "      <td>-0.005168</td>\n",
              "      <td>-0.188022</td>\n",
              "      <td>-0.248937</td>\n",
              "      <td>-0.237880</td>\n",
              "      <td>-0.260664</td>\n",
              "      <td>-0.059525</td>\n",
              "      <td>0.003367</td>\n",
              "      <td>-0.213061</td>\n",
              "      <td>-0.306843</td>\n",
              "      <td>0.109055</td>\n",
              "      <td>-0.344942</td>\n",
              "      <td>1.000000</td>\n",
              "      <td>-0.328305</td>\n",
              "      <td>-0.261188</td>\n",
              "    </tr>\n",
              "    <tr>\n",
              "      <th>sqft_living15</th>\n",
              "      <td>0.449073</td>\n",
              "      <td>0.414712</td>\n",
              "      <td>0.517089</td>\n",
              "      <td>0.728358</td>\n",
              "      <td>0.192427</td>\n",
              "      <td>0.258378</td>\n",
              "      <td>-0.132838</td>\n",
              "      <td>0.605391</td>\n",
              "      <td>0.711731</td>\n",
              "      <td>0.054859</td>\n",
              "      <td>0.364324</td>\n",
              "      <td>-0.328305</td>\n",
              "      <td>1.000000</td>\n",
              "      <td>0.206033</td>\n",
              "    </tr>\n",
              "    <tr>\n",
              "      <th>sqft_lot15</th>\n",
              "      <td>-0.100468</td>\n",
              "      <td>0.191379</td>\n",
              "      <td>-0.092565</td>\n",
              "      <td>0.143435</td>\n",
              "      <td>0.883064</td>\n",
              "      <td>-0.421601</td>\n",
              "      <td>0.148337</td>\n",
              "      <td>-0.026425</td>\n",
              "      <td>0.097848</td>\n",
              "      <td>0.083021</td>\n",
              "      <td>-0.082528</td>\n",
              "      <td>-0.261188</td>\n",
              "      <td>0.206033</td>\n",
              "      <td>1.000000</td>\n",
              "    </tr>\n",
              "  </tbody>\n",
              "</table>\n",
              "</div>"
            ],
            "text/plain": [
              "                  price  bedrooms  ...  sqft_living15  sqft_lot15\n",
              "price          1.000000  0.240541  ...       0.449073   -0.100468\n",
              "bedrooms       0.240541  1.000000  ...       0.414712    0.191379\n",
              "bathrooms      0.342113  0.444362  ...       0.517089   -0.092565\n",
              "sqft_living    0.515427  0.614892  ...       0.728358    0.143435\n",
              "sqft_lot      -0.089639  0.200711  ...       0.192427    0.883064\n",
              "floors         0.228982  0.130887  ...       0.258378   -0.421601\n",
              "condition      0.084131  0.028786  ...      -0.132838    0.148337\n",
              "grade          0.527996  0.291225  ...       0.605391   -0.026425\n",
              "sqft_above     0.408794  0.486672  ...       0.711731    0.097848\n",
              "sqft_basement  0.200737  0.241196  ...       0.054859    0.083021\n",
              "yr_built      -0.011728  0.160286  ...       0.364324   -0.082528\n",
              "zipcode       -0.005168 -0.188022  ...      -0.328305   -0.261188\n",
              "sqft_living15  0.449073  0.414712  ...       1.000000    0.206033\n",
              "sqft_lot15    -0.100468  0.191379  ...       0.206033    1.000000\n",
              "\n",
              "[14 rows x 14 columns]"
            ]
          },
          "metadata": {
            "tags": []
          },
          "execution_count": 40
        }
      ]
    },
    {
      "cell_type": "code",
      "metadata": {
        "colab": {
          "base_uri": "https://localhost:8080/",
          "height": 350
        },
        "id": "ye9uq2y62jBs",
        "outputId": "d108685b-58b7-490f-8219-b5c517f56584"
      },
      "source": [
        "# plotting a heatmap\n",
        "# \n",
        "\n",
        "import seaborn as sns\n",
        "\n",
        "sns.heatmap(house.corr())"
      ],
      "execution_count": 41,
      "outputs": [
        {
          "output_type": "execute_result",
          "data": {
            "text/plain": [
              "<matplotlib.axes._subplots.AxesSubplot at 0x7fcf80750f10>"
            ]
          },
          "metadata": {
            "tags": []
          },
          "execution_count": 41
        },
        {
          "output_type": "display_data",
          "data": {
            "image/png": "[encoded data removed]",
            "text/plain": [
              "<Figure size 432x288 with 2 Axes>"
            ]
          },
          "metadata": {
            "tags": [],
            "needs_background": "light"
          }
        }
      ]
    },
    {
      "cell_type": "code",
      "metadata": {
        "colab": {
          "base_uri": "https://localhost:8080/",
          "height": 308
        },
        "id": "c4oe5rxH5S9A",
        "outputId": "d595dc3b-ba33-4751-f7b4-b22655e3d3a4"
      },
      "source": [
        "# plotting a scatter plot of the sqft living and price\n",
        "# \n",
        "\n",
        "house.plot(x = 'sqft_living', y = 'price', kind='scatter')\n"
      ],
      "execution_count": 42,
      "outputs": [
        {
          "output_type": "execute_result",
          "data": {
            "text/plain": [
              "<matplotlib.axes._subplots.AxesSubplot at 0x7fcf7dd91f50>"
            ]
          },
          "metadata": {
            "tags": []
          },
          "execution_count": 42
        },
        {
          "output_type": "display_data",
          "data": {
            "image/png": "[encoded data removed]",
            "text/plain": [
              "<Figure size 432x288 with 1 Axes>"
            ]
          },
          "metadata": {
            "tags": [],
            "needs_background": "light"
          }
        }
      ]
    },
    {
      "cell_type": "code",
      "metadata": {
        "colab": {
          "base_uri": "https://localhost:8080/",
          "height": 307
        },
        "id": "kMeJFvUl5eDY",
        "outputId": "2abf5a80-bb83-4c86-d5c3-4f3398141424"
      },
      "source": [
        "# plotting a scatter plot of the grade and price\n",
        "# \n",
        "\n",
        "house.plot(x = 'grade', y = 'price', kind='scatter')\n"
      ],
      "execution_count": 43,
      "outputs": [
        {
          "output_type": "execute_result",
          "data": {
            "text/plain": [
              "<matplotlib.axes._subplots.AxesSubplot at 0x7fcf7de83e50>"
            ]
          },
          "metadata": {
            "tags": []
          },
          "execution_count": 43
        },
        {
          "output_type": "display_data",
          "data": {
            "image/png": "[encoded data removed]",
            "text/plain": [
              "<Figure size 432x288 with 1 Axes>"
            ]
          },
          "metadata": {
            "tags": [],
            "needs_background": "light"
          }
        }
      ]
    },
    {
      "cell_type": "markdown",
      "metadata": {
        "id": "pJV0EL3225BO"
      },
      "source": [
        "Observations:\n",
        "\n",
        "\n",
        "*   The sqft_living and grade are highly correlated with the price, both having a correlation of above 0.5\n",
        "*   The number of bedrooms and bathrooms are highly correlated to the sqft living.\n",
        "\n",
        "\n",
        "*   Year built is highly correlated to the bathrooms, floors and grade\n",
        "\n",
        "\n",
        "\n",
        "\n",
        "\n",
        "\n"
      ]
    },
    {
      "cell_type": "markdown",
      "metadata": {
        "id": "fp5uJczfgtgE"
      },
      "source": [
        "##**7**. Implementing the Solution"
      ]
    },
    {
      "cell_type": "markdown",
      "metadata": {
        "id": "NKq4halMotKQ"
      },
      "source": [
        "### Checking for multicollinearity"
      ]
    },
    {
      "cell_type": "code",
      "metadata": {
        "id": "Geqt8Jmc0UdK"
      },
      "source": [
        "#Import libaries\n",
        "\n",
        "from sklearn.preprocessing import PolynomialFeatures\n",
        "\n",
        "from sklearn.model_selection import train_test_split\n",
        "\n",
        "# Import LinearRegression method from sklearn linear_model library\n",
        "from sklearn.linear_model import LinearRegression"
      ],
      "execution_count": 44,
      "outputs": []
    },
    {
      "cell_type": "code",
      "metadata": {
        "colab": {
          "base_uri": "https://localhost:8080/",
          "height": 503
        },
        "id": "ELqbEhUhlQHa",
        "outputId": "713c2527-0819-497c-869e-ec1210c4a7c0"
      },
      "source": [
        "# checking for multicollinearity\n",
        "# \n",
        "correlations = house.corr()\n",
        "\n",
        "correlations"
      ],
      "execution_count": 45,
      "outputs": [
        {
          "output_type": "execute_result",
          "data": {
            "text/html": [
              "<div>\n",
              "<style scoped>\n",
              "    .dataframe tbody tr th:only-of-type {\n",
              "        vertical-align: middle;\n",
              "    }\n",
              "\n",
              "    .dataframe tbody tr th {\n",
              "        vertical-align: top;\n",
              "    }\n",
              "\n",
              "    .dataframe thead th {\n",
              "        text-align: right;\n",
              "    }\n",
              "</style>\n",
              "<table border=\"1\" class=\"dataframe\">\n",
              "  <thead>\n",
              "    <tr style=\"text-align: right;\">\n",
              "      <th></th>\n",
              "      <th>price</th>\n",
              "      <th>bedrooms</th>\n",
              "      <th>bathrooms</th>\n",
              "      <th>sqft_living</th>\n",
              "      <th>sqft_lot</th>\n",
              "      <th>floors</th>\n",
              "      <th>condition</th>\n",
              "      <th>grade</th>\n",
              "      <th>sqft_above</th>\n",
              "      <th>sqft_basement</th>\n",
              "      <th>yr_built</th>\n",
              "      <th>zipcode</th>\n",
              "      <th>sqft_living15</th>\n",
              "      <th>sqft_lot15</th>\n",
              "    </tr>\n",
              "  </thead>\n",
              "  <tbody>\n",
              "    <tr>\n",
              "      <th>price</th>\n",
              "      <td>1.000000</td>\n",
              "      <td>0.240541</td>\n",
              "      <td>0.342113</td>\n",
              "      <td>0.515427</td>\n",
              "      <td>-0.089639</td>\n",
              "      <td>0.228982</td>\n",
              "      <td>0.084131</td>\n",
              "      <td>0.527996</td>\n",
              "      <td>0.408794</td>\n",
              "      <td>0.200737</td>\n",
              "      <td>-0.011728</td>\n",
              "      <td>-0.005168</td>\n",
              "      <td>0.449073</td>\n",
              "      <td>-0.100468</td>\n",
              "    </tr>\n",
              "    <tr>\n",
              "      <th>bedrooms</th>\n",
              "      <td>0.240541</td>\n",
              "      <td>1.000000</td>\n",
              "      <td>0.444362</td>\n",
              "      <td>0.614892</td>\n",
              "      <td>0.200711</td>\n",
              "      <td>0.130887</td>\n",
              "      <td>0.028786</td>\n",
              "      <td>0.291225</td>\n",
              "      <td>0.486672</td>\n",
              "      <td>0.241196</td>\n",
              "      <td>0.160286</td>\n",
              "      <td>-0.188022</td>\n",
              "      <td>0.414712</td>\n",
              "      <td>0.191379</td>\n",
              "    </tr>\n",
              "    <tr>\n",
              "      <th>bathrooms</th>\n",
              "      <td>0.342113</td>\n",
              "      <td>0.444362</td>\n",
              "      <td>1.000000</td>\n",
              "      <td>0.670040</td>\n",
              "      <td>-0.089191</td>\n",
              "      <td>0.525661</td>\n",
              "      <td>-0.158169</td>\n",
              "      <td>0.585230</td>\n",
              "      <td>0.593916</td>\n",
              "      <td>0.154285</td>\n",
              "      <td>0.603797</td>\n",
              "      <td>-0.248937</td>\n",
              "      <td>0.517089</td>\n",
              "      <td>-0.092565</td>\n",
              "    </tr>\n",
              "    <tr>\n",
              "      <th>sqft_living</th>\n",
              "      <td>0.515427</td>\n",
              "      <td>0.614892</td>\n",
              "      <td>0.670040</td>\n",
              "      <td>1.000000</td>\n",
              "      <td>0.158914</td>\n",
              "      <td>0.320174</td>\n",
              "      <td>-0.069356</td>\n",
              "      <td>0.623327</td>\n",
              "      <td>0.832158</td>\n",
              "      <td>0.322821</td>\n",
              "      <td>0.352167</td>\n",
              "      <td>-0.237880</td>\n",
              "      <td>0.728358</td>\n",
              "      <td>0.143435</td>\n",
              "    </tr>\n",
              "    <tr>\n",
              "      <th>sqft_lot</th>\n",
              "      <td>-0.089639</td>\n",
              "      <td>0.200711</td>\n",
              "      <td>-0.089191</td>\n",
              "      <td>0.158914</td>\n",
              "      <td>1.000000</td>\n",
              "      <td>-0.414294</td>\n",
              "      <td>0.147325</td>\n",
              "      <td>-0.034580</td>\n",
              "      <td>0.111188</td>\n",
              "      <td>0.087233</td>\n",
              "      <td>-0.103415</td>\n",
              "      <td>-0.260664</td>\n",
              "      <td>0.192427</td>\n",
              "      <td>0.883064</td>\n",
              "    </tr>\n",
              "    <tr>\n",
              "      <th>floors</th>\n",
              "      <td>0.228982</td>\n",
              "      <td>0.130887</td>\n",
              "      <td>0.525661</td>\n",
              "      <td>0.320174</td>\n",
              "      <td>-0.414294</td>\n",
              "      <td>1.000000</td>\n",
              "      <td>-0.301813</td>\n",
              "      <td>0.473523</td>\n",
              "      <td>0.520042</td>\n",
              "      <td>-0.329485</td>\n",
              "      <td>0.551709</td>\n",
              "      <td>-0.059525</td>\n",
              "      <td>0.258378</td>\n",
              "      <td>-0.421601</td>\n",
              "    </tr>\n",
              "    <tr>\n",
              "      <th>condition</th>\n",
              "      <td>0.084131</td>\n",
              "      <td>0.028786</td>\n",
              "      <td>-0.158169</td>\n",
              "      <td>-0.069356</td>\n",
              "      <td>0.147325</td>\n",
              "      <td>-0.301813</td>\n",
              "      <td>1.000000</td>\n",
              "      <td>-0.190001</td>\n",
              "      <td>-0.189868</td>\n",
              "      <td>0.203161</td>\n",
              "      <td>-0.405417</td>\n",
              "      <td>0.003367</td>\n",
              "      <td>-0.132838</td>\n",
              "      <td>0.148337</td>\n",
              "    </tr>\n",
              "    <tr>\n",
              "      <th>grade</th>\n",
              "      <td>0.527996</td>\n",
              "      <td>0.291225</td>\n",
              "      <td>0.585230</td>\n",
              "      <td>0.623327</td>\n",
              "      <td>-0.034580</td>\n",
              "      <td>0.473523</td>\n",
              "      <td>-0.190001</td>\n",
              "      <td>1.000000</td>\n",
              "      <td>0.638235</td>\n",
              "      <td>-0.002783</td>\n",
              "      <td>0.509271</td>\n",
              "      <td>-0.213061</td>\n",
              "      <td>0.605391</td>\n",
              "      <td>-0.026425</td>\n",
              "    </tr>\n",
              "    <tr>\n",
              "      <th>sqft_above</th>\n",
              "      <td>0.408794</td>\n",
              "      <td>0.486672</td>\n",
              "      <td>0.593916</td>\n",
              "      <td>0.832158</td>\n",
              "      <td>0.111188</td>\n",
              "      <td>0.520042</td>\n",
              "      <td>-0.189868</td>\n",
              "      <td>0.638235</td>\n",
              "      <td>1.000000</td>\n",
              "      <td>-0.256210</td>\n",
              "      <td>0.474639</td>\n",
              "      <td>-0.306843</td>\n",
              "      <td>0.711731</td>\n",
              "      <td>0.097848</td>\n",
              "    </tr>\n",
              "    <tr>\n",
              "      <th>sqft_basement</th>\n",
              "      <td>0.200737</td>\n",
              "      <td>0.241196</td>\n",
              "      <td>0.154285</td>\n",
              "      <td>0.322821</td>\n",
              "      <td>0.087233</td>\n",
              "      <td>-0.329485</td>\n",
              "      <td>0.203161</td>\n",
              "      <td>-0.002783</td>\n",
              "      <td>-0.256210</td>\n",
              "      <td>1.000000</td>\n",
              "      <td>-0.196226</td>\n",
              "      <td>0.109055</td>\n",
              "      <td>0.054859</td>\n",
              "      <td>0.083021</td>\n",
              "    </tr>\n",
              "    <tr>\n",
              "      <th>yr_built</th>\n",
              "      <td>-0.011728</td>\n",
              "      <td>0.160286</td>\n",
              "      <td>0.603797</td>\n",
              "      <td>0.352167</td>\n",
              "      <td>-0.103415</td>\n",
              "      <td>0.551709</td>\n",
              "      <td>-0.405417</td>\n",
              "      <td>0.509271</td>\n",
              "      <td>0.474639</td>\n",
              "      <td>-0.196226</td>\n",
              "      <td>1.000000</td>\n",
              "      <td>-0.344942</td>\n",
              "      <td>0.364324</td>\n",
              "      <td>-0.082528</td>\n",
              "    </tr>\n",
              "    <tr>\n",
              "      <th>zipcode</th>\n",
              "      <td>-0.005168</td>\n",
              "      <td>-0.188022</td>\n",
              "      <td>-0.248937</td>\n",
              "      <td>-0.237880</td>\n",
              "      <td>-0.260664</td>\n",
              "      <td>-0.059525</td>\n",
              "      <td>0.003367</td>\n",
              "      <td>-0.213061</td>\n",
              "      <td>-0.306843</td>\n",
              "      <td>0.109055</td>\n",
              "      <td>-0.344942</td>\n",
              "      <td>1.000000</td>\n",
              "      <td>-0.328305</td>\n",
              "      <td>-0.261188</td>\n",
              "    </tr>\n",
              "    <tr>\n",
              "      <th>sqft_living15</th>\n",
              "      <td>0.449073</td>\n",
              "      <td>0.414712</td>\n",
              "      <td>0.517089</td>\n",
              "      <td>0.728358</td>\n",
              "      <td>0.192427</td>\n",
              "      <td>0.258378</td>\n",
              "      <td>-0.132838</td>\n",
              "      <td>0.605391</td>\n",
              "      <td>0.711731</td>\n",
              "      <td>0.054859</td>\n",
              "      <td>0.364324</td>\n",
              "      <td>-0.328305</td>\n",
              "      <td>1.000000</td>\n",
              "      <td>0.206033</td>\n",
              "    </tr>\n",
              "    <tr>\n",
              "      <th>sqft_lot15</th>\n",
              "      <td>-0.100468</td>\n",
              "      <td>0.191379</td>\n",
              "      <td>-0.092565</td>\n",
              "      <td>0.143435</td>\n",
              "      <td>0.883064</td>\n",
              "      <td>-0.421601</td>\n",
              "      <td>0.148337</td>\n",
              "      <td>-0.026425</td>\n",
              "      <td>0.097848</td>\n",
              "      <td>0.083021</td>\n",
              "      <td>-0.082528</td>\n",
              "      <td>-0.261188</td>\n",
              "      <td>0.206033</td>\n",
              "      <td>1.000000</td>\n",
              "    </tr>\n",
              "  </tbody>\n",
              "</table>\n",
              "</div>"
            ],
            "text/plain": [
              "                  price  bedrooms  ...  sqft_living15  sqft_lot15\n",
              "price          1.000000  0.240541  ...       0.449073   -0.100468\n",
              "bedrooms       0.240541  1.000000  ...       0.414712    0.191379\n",
              "bathrooms      0.342113  0.444362  ...       0.517089   -0.092565\n",
              "sqft_living    0.515427  0.614892  ...       0.728358    0.143435\n",
              "sqft_lot      -0.089639  0.200711  ...       0.192427    0.883064\n",
              "floors         0.228982  0.130887  ...       0.258378   -0.421601\n",
              "condition      0.084131  0.028786  ...      -0.132838    0.148337\n",
              "grade          0.527996  0.291225  ...       0.605391   -0.026425\n",
              "sqft_above     0.408794  0.486672  ...       0.711731    0.097848\n",
              "sqft_basement  0.200737  0.241196  ...       0.054859    0.083021\n",
              "yr_built      -0.011728  0.160286  ...       0.364324   -0.082528\n",
              "zipcode       -0.005168 -0.188022  ...      -0.328305   -0.261188\n",
              "sqft_living15  0.449073  0.414712  ...       1.000000    0.206033\n",
              "sqft_lot15    -0.100468  0.191379  ...       0.206033    1.000000\n",
              "\n",
              "[14 rows x 14 columns]"
            ]
          },
          "metadata": {
            "tags": []
          },
          "execution_count": 45
        }
      ]
    },
    {
      "cell_type": "code",
      "metadata": {
        "colab": {
          "base_uri": "https://localhost:8080/",
          "height": 503
        },
        "id": "Uq05pSConCxY",
        "outputId": "45a63e57-bdf5-457f-8e71-d13608e9af6b"
      },
      "source": [
        "# compute the VIF\n",
        "# \n",
        "pd.DataFrame(np.linalg.inv(correlations.values), index = correlations.index, columns=correlations.columns)\n"
      ],
      "execution_count": 46,
      "outputs": [
        {
          "output_type": "execute_result",
          "data": {
            "text/html": [
              "<div>\n",
              "<style scoped>\n",
              "    .dataframe tbody tr th:only-of-type {\n",
              "        vertical-align: middle;\n",
              "    }\n",
              "\n",
              "    .dataframe tbody tr th {\n",
              "        vertical-align: top;\n",
              "    }\n",
              "\n",
              "    .dataframe thead th {\n",
              "        text-align: right;\n",
              "    }\n",
              "</style>\n",
              "<table border=\"1\" class=\"dataframe\">\n",
              "  <thead>\n",
              "    <tr style=\"text-align: right;\">\n",
              "      <th></th>\n",
              "      <th>price</th>\n",
              "      <th>bedrooms</th>\n",
              "      <th>bathrooms</th>\n",
              "      <th>sqft_living</th>\n",
              "      <th>sqft_lot</th>\n",
              "      <th>floors</th>\n",
              "      <th>condition</th>\n",
              "      <th>grade</th>\n",
              "      <th>sqft_above</th>\n",
              "      <th>sqft_basement</th>\n",
              "      <th>yr_built</th>\n",
              "      <th>zipcode</th>\n",
              "      <th>sqft_living15</th>\n",
              "      <th>sqft_lot15</th>\n",
              "    </tr>\n",
              "  </thead>\n",
              "  <tbody>\n",
              "    <tr>\n",
              "      <th>price</th>\n",
              "      <td>2.015708</td>\n",
              "      <td>0.133996</td>\n",
              "      <td>-0.123691</td>\n",
              "      <td>1.970869e+00</td>\n",
              "      <td>0.133407</td>\n",
              "      <td>-0.160672</td>\n",
              "      <td>-0.173845</td>\n",
              "      <td>-0.887958</td>\n",
              "      <td>-2.434910e+00</td>\n",
              "      <td>-1.537023e+00</td>\n",
              "      <td>0.850713</td>\n",
              "      <td>-0.038633</td>\n",
              "      <td>-0.349357</td>\n",
              "      <td>0.197126</td>\n",
              "    </tr>\n",
              "    <tr>\n",
              "      <th>bedrooms</th>\n",
              "      <td>0.133996</td>\n",
              "      <td>1.725120</td>\n",
              "      <td>-0.336456</td>\n",
              "      <td>-1.121450e+00</td>\n",
              "      <td>-0.060018</td>\n",
              "      <td>-0.023152</td>\n",
              "      <td>-0.049384</td>\n",
              "      <td>0.165166</td>\n",
              "      <td>3.537770e-02</td>\n",
              "      <td>2.728565e-02</td>\n",
              "      <td>0.199689</td>\n",
              "      <td>0.061845</td>\n",
              "      <td>0.073796</td>\n",
              "      <td>-0.119953</td>\n",
              "    </tr>\n",
              "    <tr>\n",
              "      <th>bathrooms</th>\n",
              "      <td>-0.123691</td>\n",
              "      <td>-0.336456</td>\n",
              "      <td>2.989364</td>\n",
              "      <td>5.976839e-01</td>\n",
              "      <td>0.045354</td>\n",
              "      <td>-0.672270</td>\n",
              "      <td>-0.177592</td>\n",
              "      <td>-0.148980</td>\n",
              "      <td>-1.391068e+00</td>\n",
              "      <td>-1.330124e+00</td>\n",
              "      <td>-1.104489</td>\n",
              "      <td>0.110853</td>\n",
              "      <td>-0.082582</td>\n",
              "      <td>0.143187</td>\n",
              "    </tr>\n",
              "    <tr>\n",
              "      <th>sqft_living</th>\n",
              "      <td>1.969737</td>\n",
              "      <td>-1.117391</td>\n",
              "      <td>0.587228</td>\n",
              "      <td>2.424035e+13</td>\n",
              "      <td>-0.243186</td>\n",
              "      <td>0.404306</td>\n",
              "      <td>0.255162</td>\n",
              "      <td>-7.089855</td>\n",
              "      <td>-2.373476e+13</td>\n",
              "      <td>-1.390638e+13</td>\n",
              "      <td>1.699721</td>\n",
              "      <td>0.331589</td>\n",
              "      <td>0.674814</td>\n",
              "      <td>0.326028</td>\n",
              "    </tr>\n",
              "    <tr>\n",
              "      <th>sqft_lot</th>\n",
              "      <td>0.133407</td>\n",
              "      <td>-0.060018</td>\n",
              "      <td>0.045354</td>\n",
              "      <td>-2.404298e-01</td>\n",
              "      <td>4.749975</td>\n",
              "      <td>0.406448</td>\n",
              "      <td>0.010482</td>\n",
              "      <td>0.030446</td>\n",
              "      <td>-3.343259e-01</td>\n",
              "      <td>2.297865e-02</td>\n",
              "      <td>0.193645</td>\n",
              "      <td>0.195752</td>\n",
              "      <td>0.111238</td>\n",
              "      <td>-3.885422</td>\n",
              "    </tr>\n",
              "    <tr>\n",
              "      <th>floors</th>\n",
              "      <td>-0.160672</td>\n",
              "      <td>-0.023152</td>\n",
              "      <td>-0.672270</td>\n",
              "      <td>3.940599e-01</td>\n",
              "      <td>0.406448</td>\n",
              "      <td>2.763616</td>\n",
              "      <td>0.088750</td>\n",
              "      <td>-0.250211</td>\n",
              "      <td>-1.109822e+00</td>\n",
              "      <td>4.311526e-01</td>\n",
              "      <td>-0.572094</td>\n",
              "      <td>-0.198425</td>\n",
              "      <td>0.305562</td>\n",
              "      <td>0.566634</td>\n",
              "    </tr>\n",
              "    <tr>\n",
              "      <th>condition</th>\n",
              "      <td>-0.173845</td>\n",
              "      <td>-0.049384</td>\n",
              "      <td>-0.177592</td>\n",
              "      <td>2.551639e-01</td>\n",
              "      <td>0.010482</td>\n",
              "      <td>0.088750</td>\n",
              "      <td>1.297711</td>\n",
              "      <td>0.047813</td>\n",
              "      <td>-1.979261e-01</td>\n",
              "      <td>-2.107811e-01</td>\n",
              "      <td>0.518847</td>\n",
              "      <td>0.183977</td>\n",
              "      <td>0.174221</td>\n",
              "      <td>-0.132253</td>\n",
              "    </tr>\n",
              "    <tr>\n",
              "      <th>grade</th>\n",
              "      <td>-0.887958</td>\n",
              "      <td>0.165166</td>\n",
              "      <td>-0.148980</td>\n",
              "      <td>-7.092339e+00</td>\n",
              "      <td>0.030446</td>\n",
              "      <td>-0.250211</td>\n",
              "      <td>0.047813</td>\n",
              "      <td>2.619229</td>\n",
              "      <td>6.399176e+00</td>\n",
              "      <td>3.890673e+00</td>\n",
              "      <td>-0.766984</td>\n",
              "      <td>-0.044031</td>\n",
              "      <td>-0.424747</td>\n",
              "      <td>-0.124009</td>\n",
              "    </tr>\n",
              "    <tr>\n",
              "      <th>sqft_above</th>\n",
              "      <td>-2.431905</td>\n",
              "      <td>0.028666</td>\n",
              "      <td>-1.380166</td>\n",
              "      <td>-2.373476e+13</td>\n",
              "      <td>-0.331289</td>\n",
              "      <td>-1.119124</td>\n",
              "      <td>-0.198116</td>\n",
              "      <td>6.396571</td>\n",
              "      <td>2.323971e+13</td>\n",
              "      <td>1.361633e+13</td>\n",
              "      <td>-1.633560</td>\n",
              "      <td>-0.326667</td>\n",
              "      <td>-2.247351</td>\n",
              "      <td>-0.303178</td>\n",
              "    </tr>\n",
              "    <tr>\n",
              "      <th>sqft_basement</th>\n",
              "      <td>-1.534596</td>\n",
              "      <td>0.023432</td>\n",
              "      <td>-1.324385</td>\n",
              "      <td>-1.390638e+13</td>\n",
              "      <td>0.024967</td>\n",
              "      <td>0.426269</td>\n",
              "      <td>-0.210937</td>\n",
              "      <td>3.889389</td>\n",
              "      <td>1.361633e+13</td>\n",
              "      <td>7.977909e+12</td>\n",
              "      <td>-0.813462</td>\n",
              "      <td>-0.409054</td>\n",
              "      <td>-0.839676</td>\n",
              "      <td>-0.090559</td>\n",
              "    </tr>\n",
              "    <tr>\n",
              "      <th>yr_built</th>\n",
              "      <td>0.850713</td>\n",
              "      <td>0.199689</td>\n",
              "      <td>-1.104489</td>\n",
              "      <td>1.700708e+00</td>\n",
              "      <td>0.193645</td>\n",
              "      <td>-0.572094</td>\n",
              "      <td>0.518847</td>\n",
              "      <td>-0.766984</td>\n",
              "      <td>-1.634526e+00</td>\n",
              "      <td>-8.140284e-01</td>\n",
              "      <td>2.783145</td>\n",
              "      <td>0.486045</td>\n",
              "      <td>-0.092790</td>\n",
              "      <td>-0.205083</td>\n",
              "    </tr>\n",
              "    <tr>\n",
              "      <th>zipcode</th>\n",
              "      <td>-0.038633</td>\n",
              "      <td>0.061845</td>\n",
              "      <td>0.110853</td>\n",
              "      <td>3.326680e-01</td>\n",
              "      <td>0.195752</td>\n",
              "      <td>-0.198425</td>\n",
              "      <td>0.183977</td>\n",
              "      <td>-0.044031</td>\n",
              "      <td>-3.277227e-01</td>\n",
              "      <td>-4.096725e-01</td>\n",
              "      <td>0.486045</td>\n",
              "      <td>1.365716</td>\n",
              "      <td>0.269531</td>\n",
              "      <td>0.069222</td>\n",
              "    </tr>\n",
              "    <tr>\n",
              "      <th>sqft_living15</th>\n",
              "      <td>-0.349357</td>\n",
              "      <td>0.073796</td>\n",
              "      <td>-0.082582</td>\n",
              "      <td>6.677319e-01</td>\n",
              "      <td>0.111238</td>\n",
              "      <td>0.305562</td>\n",
              "      <td>0.174221</td>\n",
              "      <td>-0.424747</td>\n",
              "      <td>-2.240417e+00</td>\n",
              "      <td>-8.356134e-01</td>\n",
              "      <td>-0.092790</td>\n",
              "      <td>0.269531</td>\n",
              "      <td>2.700294</td>\n",
              "      <td>-0.364131</td>\n",
              "    </tr>\n",
              "    <tr>\n",
              "      <th>sqft_lot15</th>\n",
              "      <td>0.197126</td>\n",
              "      <td>-0.119953</td>\n",
              "      <td>0.143187</td>\n",
              "      <td>3.223979e-01</td>\n",
              "      <td>-3.885422</td>\n",
              "      <td>0.566634</td>\n",
              "      <td>-0.132253</td>\n",
              "      <td>-0.124009</td>\n",
              "      <td>-2.996235e-01</td>\n",
              "      <td>-8.847653e-02</td>\n",
              "      <td>-0.205083</td>\n",
              "      <td>0.069222</td>\n",
              "      <td>-0.364131</td>\n",
              "      <td>4.808926</td>\n",
              "    </tr>\n",
              "  </tbody>\n",
              "</table>\n",
              "</div>"
            ],
            "text/plain": [
              "                  price  bedrooms  ...  sqft_living15  sqft_lot15\n",
              "price          2.015708  0.133996  ...      -0.349357    0.197126\n",
              "bedrooms       0.133996  1.725120  ...       0.073796   -0.119953\n",
              "bathrooms     -0.123691 -0.336456  ...      -0.082582    0.143187\n",
              "sqft_living    1.969737 -1.117391  ...       0.674814    0.326028\n",
              "sqft_lot       0.133407 -0.060018  ...       0.111238   -3.885422\n",
              "floors        -0.160672 -0.023152  ...       0.305562    0.566634\n",
              "condition     -0.173845 -0.049384  ...       0.174221   -0.132253\n",
              "grade         -0.887958  0.165166  ...      -0.424747   -0.124009\n",
              "sqft_above    -2.431905  0.028666  ...      -2.247351   -0.303178\n",
              "sqft_basement -1.534596  0.023432  ...      -0.839676   -0.090559\n",
              "yr_built       0.850713  0.199689  ...      -0.092790   -0.205083\n",
              "zipcode       -0.038633  0.061845  ...       0.269531    0.069222\n",
              "sqft_living15 -0.349357  0.073796  ...       2.700294   -0.364131\n",
              "sqft_lot15     0.197126 -0.119953  ...      -0.364131    4.808926\n",
              "\n",
              "[14 rows x 14 columns]"
            ]
          },
          "metadata": {
            "tags": []
          },
          "execution_count": 46
        }
      ]
    },
    {
      "cell_type": "markdown",
      "metadata": {
        "id": "YrAL1txUoGZm"
      },
      "source": [
        "The VIF score for each variable is found alongside the downwards sloping diagonal. The sqft_basement has a value of 7.98 which is above 5, showing presence of multicollinearity. We'll remove it and see the effect it has on the scores."
      ]
    },
    {
      "cell_type": "code",
      "metadata": {
        "colab": {
          "base_uri": "https://localhost:8080/",
          "height": 472
        },
        "id": "fP9dSmP1VmO0",
        "outputId": "abef092a-5dcd-41a4-a478-368702b04d26"
      },
      "source": [
        "# getting VIF Scores excluding the sqft_basement variable\n",
        "# \n",
        "\n",
        "basement = house.drop(['sqft_basement'], axis=1)\n",
        "\n",
        "basement_corr = basement.corr()\n",
        "\n",
        "\n",
        "pd.DataFrame(np.linalg.inv(basement_corr.values), index = basement_corr.index, columns=basement_corr.columns)"
      ],
      "execution_count": 47,
      "outputs": [
        {
          "output_type": "execute_result",
          "data": {
            "text/html": [
              "<div>\n",
              "<style scoped>\n",
              "    .dataframe tbody tr th:only-of-type {\n",
              "        vertical-align: middle;\n",
              "    }\n",
              "\n",
              "    .dataframe tbody tr th {\n",
              "        vertical-align: top;\n",
              "    }\n",
              "\n",
              "    .dataframe thead th {\n",
              "        text-align: right;\n",
              "    }\n",
              "</style>\n",
              "<table border=\"1\" class=\"dataframe\">\n",
              "  <thead>\n",
              "    <tr style=\"text-align: right;\">\n",
              "      <th></th>\n",
              "      <th>price</th>\n",
              "      <th>bedrooms</th>\n",
              "      <th>bathrooms</th>\n",
              "      <th>sqft_living</th>\n",
              "      <th>sqft_lot</th>\n",
              "      <th>floors</th>\n",
              "      <th>condition</th>\n",
              "      <th>grade</th>\n",
              "      <th>sqft_above</th>\n",
              "      <th>yr_built</th>\n",
              "      <th>zipcode</th>\n",
              "      <th>sqft_living15</th>\n",
              "      <th>sqft_lot15</th>\n",
              "    </tr>\n",
              "  </thead>\n",
              "  <tbody>\n",
              "    <tr>\n",
              "      <th>price</th>\n",
              "      <td>2.015708</td>\n",
              "      <td>0.133996</td>\n",
              "      <td>-0.123691</td>\n",
              "      <td>-0.705234</td>\n",
              "      <td>0.133407</td>\n",
              "      <td>-0.160672</td>\n",
              "      <td>-0.173845</td>\n",
              "      <td>-0.887958</td>\n",
              "      <td>0.187273</td>\n",
              "      <td>0.850713</td>\n",
              "      <td>-0.038633</td>\n",
              "      <td>-0.349357</td>\n",
              "      <td>0.197126</td>\n",
              "    </tr>\n",
              "    <tr>\n",
              "      <th>bedrooms</th>\n",
              "      <td>0.133996</td>\n",
              "      <td>1.725120</td>\n",
              "      <td>-0.336456</td>\n",
              "      <td>-1.076546</td>\n",
              "      <td>-0.060018</td>\n",
              "      <td>-0.023152</td>\n",
              "      <td>-0.049384</td>\n",
              "      <td>0.165166</td>\n",
              "      <td>-0.011328</td>\n",
              "      <td>0.199689</td>\n",
              "      <td>0.061845</td>\n",
              "      <td>0.073796</td>\n",
              "      <td>-0.119953</td>\n",
              "    </tr>\n",
              "    <tr>\n",
              "      <th>bathrooms</th>\n",
              "      <td>-0.123691</td>\n",
              "      <td>-0.336456</td>\n",
              "      <td>2.989364</td>\n",
              "      <td>-1.721322</td>\n",
              "      <td>0.045354</td>\n",
              "      <td>-0.672270</td>\n",
              "      <td>-0.177592</td>\n",
              "      <td>-0.148980</td>\n",
              "      <td>0.880233</td>\n",
              "      <td>-1.104489</td>\n",
              "      <td>0.110853</td>\n",
              "      <td>-0.082582</td>\n",
              "      <td>0.143187</td>\n",
              "    </tr>\n",
              "    <tr>\n",
              "      <th>sqft_living</th>\n",
              "      <td>-0.705234</td>\n",
              "      <td>-1.076546</td>\n",
              "      <td>-1.721322</td>\n",
              "      <td>6.337410</td>\n",
              "      <td>-0.199666</td>\n",
              "      <td>1.147340</td>\n",
              "      <td>-0.112524</td>\n",
              "      <td>-0.310222</td>\n",
              "      <td>-3.542818</td>\n",
              "      <td>0.281766</td>\n",
              "      <td>-0.381436</td>\n",
              "      <td>-0.788834</td>\n",
              "      <td>0.168174</td>\n",
              "    </tr>\n",
              "    <tr>\n",
              "      <th>sqft_lot</th>\n",
              "      <td>0.133407</td>\n",
              "      <td>-0.060018</td>\n",
              "      <td>0.045354</td>\n",
              "      <td>-0.199666</td>\n",
              "      <td>4.749975</td>\n",
              "      <td>0.406448</td>\n",
              "      <td>0.010482</td>\n",
              "      <td>0.030446</td>\n",
              "      <td>-0.373901</td>\n",
              "      <td>0.193645</td>\n",
              "      <td>0.195752</td>\n",
              "      <td>0.111238</td>\n",
              "      <td>-3.885422</td>\n",
              "    </tr>\n",
              "    <tr>\n",
              "      <th>floors</th>\n",
              "      <td>-0.160672</td>\n",
              "      <td>-0.023152</td>\n",
              "      <td>-0.672270</td>\n",
              "      <td>1.147340</td>\n",
              "      <td>0.406448</td>\n",
              "      <td>2.763616</td>\n",
              "      <td>0.088750</td>\n",
              "      <td>-0.250211</td>\n",
              "      <td>-1.846660</td>\n",
              "      <td>-0.572094</td>\n",
              "      <td>-0.198425</td>\n",
              "      <td>0.305562</td>\n",
              "      <td>0.566634</td>\n",
              "    </tr>\n",
              "    <tr>\n",
              "      <th>condition</th>\n",
              "      <td>-0.173845</td>\n",
              "      <td>-0.049384</td>\n",
              "      <td>-0.177592</td>\n",
              "      <td>-0.112524</td>\n",
              "      <td>0.010482</td>\n",
              "      <td>0.088750</td>\n",
              "      <td>1.297711</td>\n",
              "      <td>0.047813</td>\n",
              "      <td>0.161901</td>\n",
              "      <td>0.518847</td>\n",
              "      <td>0.183977</td>\n",
              "      <td>0.174221</td>\n",
              "      <td>-0.132253</td>\n",
              "    </tr>\n",
              "    <tr>\n",
              "      <th>grade</th>\n",
              "      <td>-0.887958</td>\n",
              "      <td>0.165166</td>\n",
              "      <td>-0.148980</td>\n",
              "      <td>-0.310222</td>\n",
              "      <td>0.030446</td>\n",
              "      <td>-0.250211</td>\n",
              "      <td>0.047813</td>\n",
              "      <td>2.619229</td>\n",
              "      <td>-0.241658</td>\n",
              "      <td>-0.766984</td>\n",
              "      <td>-0.044031</td>\n",
              "      <td>-0.424747</td>\n",
              "      <td>-0.124009</td>\n",
              "    </tr>\n",
              "    <tr>\n",
              "      <th>sqft_above</th>\n",
              "      <td>0.187273</td>\n",
              "      <td>-0.011328</td>\n",
              "      <td>0.880233</td>\n",
              "      <td>-3.542818</td>\n",
              "      <td>-0.373901</td>\n",
              "      <td>-1.846660</td>\n",
              "      <td>0.161901</td>\n",
              "      <td>-0.241658</td>\n",
              "      <td>5.365661</td>\n",
              "      <td>-0.245180</td>\n",
              "      <td>0.371487</td>\n",
              "      <td>-0.814231</td>\n",
              "      <td>-0.148616</td>\n",
              "    </tr>\n",
              "    <tr>\n",
              "      <th>yr_built</th>\n",
              "      <td>0.850713</td>\n",
              "      <td>0.199689</td>\n",
              "      <td>-1.104489</td>\n",
              "      <td>0.281766</td>\n",
              "      <td>0.193645</td>\n",
              "      <td>-0.572094</td>\n",
              "      <td>0.518847</td>\n",
              "      <td>-0.766984</td>\n",
              "      <td>-0.245180</td>\n",
              "      <td>2.783145</td>\n",
              "      <td>0.486045</td>\n",
              "      <td>-0.092790</td>\n",
              "      <td>-0.205083</td>\n",
              "    </tr>\n",
              "    <tr>\n",
              "      <th>zipcode</th>\n",
              "      <td>-0.038633</td>\n",
              "      <td>0.061845</td>\n",
              "      <td>0.110853</td>\n",
              "      <td>-0.381436</td>\n",
              "      <td>0.195752</td>\n",
              "      <td>-0.198425</td>\n",
              "      <td>0.183977</td>\n",
              "      <td>-0.044031</td>\n",
              "      <td>0.371487</td>\n",
              "      <td>0.486045</td>\n",
              "      <td>1.365716</td>\n",
              "      <td>0.269531</td>\n",
              "      <td>0.069222</td>\n",
              "    </tr>\n",
              "    <tr>\n",
              "      <th>sqft_living15</th>\n",
              "      <td>-0.349357</td>\n",
              "      <td>0.073796</td>\n",
              "      <td>-0.082582</td>\n",
              "      <td>-0.788834</td>\n",
              "      <td>0.111238</td>\n",
              "      <td>0.305562</td>\n",
              "      <td>0.174221</td>\n",
              "      <td>-0.424747</td>\n",
              "      <td>-0.814231</td>\n",
              "      <td>-0.092790</td>\n",
              "      <td>0.269531</td>\n",
              "      <td>2.700294</td>\n",
              "      <td>-0.364131</td>\n",
              "    </tr>\n",
              "    <tr>\n",
              "      <th>sqft_lot15</th>\n",
              "      <td>0.197126</td>\n",
              "      <td>-0.119953</td>\n",
              "      <td>0.143187</td>\n",
              "      <td>0.168174</td>\n",
              "      <td>-3.885422</td>\n",
              "      <td>0.566634</td>\n",
              "      <td>-0.132253</td>\n",
              "      <td>-0.124009</td>\n",
              "      <td>-0.148616</td>\n",
              "      <td>-0.205083</td>\n",
              "      <td>0.069222</td>\n",
              "      <td>-0.364131</td>\n",
              "      <td>4.808926</td>\n",
              "    </tr>\n",
              "  </tbody>\n",
              "</table>\n",
              "</div>"
            ],
            "text/plain": [
              "                  price  bedrooms  ...  sqft_living15  sqft_lot15\n",
              "price          2.015708  0.133996  ...      -0.349357    0.197126\n",
              "bedrooms       0.133996  1.725120  ...       0.073796   -0.119953\n",
              "bathrooms     -0.123691 -0.336456  ...      -0.082582    0.143187\n",
              "sqft_living   -0.705234 -1.076546  ...      -0.788834    0.168174\n",
              "sqft_lot       0.133407 -0.060018  ...       0.111238   -3.885422\n",
              "floors        -0.160672 -0.023152  ...       0.305562    0.566634\n",
              "condition     -0.173845 -0.049384  ...       0.174221   -0.132253\n",
              "grade         -0.887958  0.165166  ...      -0.424747   -0.124009\n",
              "sqft_above     0.187273 -0.011328  ...      -0.814231   -0.148616\n",
              "yr_built       0.850713  0.199689  ...      -0.092790   -0.205083\n",
              "zipcode       -0.038633  0.061845  ...       0.269531    0.069222\n",
              "sqft_living15 -0.349357  0.073796  ...       2.700294   -0.364131\n",
              "sqft_lot15     0.197126 -0.119953  ...      -0.364131    4.808926\n",
              "\n",
              "[13 rows x 13 columns]"
            ]
          },
          "metadata": {
            "tags": []
          },
          "execution_count": 47
        }
      ]
    },
    {
      "cell_type": "markdown",
      "metadata": {
        "id": "t7ow7uT5XpzL"
      },
      "source": [
        "Removing the sqft_basement significantly increases the VIF scores of sqft_living and sqft_above to 6 and 5 respectively. So we try removing the 2 and see the effect they have.\n"
      ]
    },
    {
      "cell_type": "code",
      "metadata": {
        "colab": {
          "base_uri": "https://localhost:8080/",
          "height": 472
        },
        "id": "e_Sso6nxYRXz",
        "outputId": "6764869b-4bff-493f-f070-bb13a0905f91"
      },
      "source": [
        "# getting the VIF Scores excluding the sqft_living variable\n",
        "# \n",
        "\n",
        "living = house.drop(['sqft_living'], axis=1)\n",
        "\n",
        "living_corr = living.corr()\n",
        "\n",
        "\n",
        "pd.DataFrame(np.linalg.inv(living_corr.values), index = living_corr.index, columns=living_corr.columns)"
      ],
      "execution_count": 48,
      "outputs": [
        {
          "output_type": "execute_result",
          "data": {
            "text/html": [
              "<div>\n",
              "<style scoped>\n",
              "    .dataframe tbody tr th:only-of-type {\n",
              "        vertical-align: middle;\n",
              "    }\n",
              "\n",
              "    .dataframe tbody tr th {\n",
              "        vertical-align: top;\n",
              "    }\n",
              "\n",
              "    .dataframe thead th {\n",
              "        text-align: right;\n",
              "    }\n",
              "</style>\n",
              "<table border=\"1\" class=\"dataframe\">\n",
              "  <thead>\n",
              "    <tr style=\"text-align: right;\">\n",
              "      <th></th>\n",
              "      <th>price</th>\n",
              "      <th>bedrooms</th>\n",
              "      <th>bathrooms</th>\n",
              "      <th>sqft_lot</th>\n",
              "      <th>floors</th>\n",
              "      <th>condition</th>\n",
              "      <th>grade</th>\n",
              "      <th>sqft_above</th>\n",
              "      <th>sqft_basement</th>\n",
              "      <th>yr_built</th>\n",
              "      <th>zipcode</th>\n",
              "      <th>sqft_living15</th>\n",
              "      <th>sqft_lot15</th>\n",
              "    </tr>\n",
              "  </thead>\n",
              "  <tbody>\n",
              "    <tr>\n",
              "      <th>price</th>\n",
              "      <td>2.015708</td>\n",
              "      <td>0.133996</td>\n",
              "      <td>-0.123691</td>\n",
              "      <td>0.133407</td>\n",
              "      <td>-0.160672</td>\n",
              "      <td>-0.173845</td>\n",
              "      <td>-0.887958</td>\n",
              "      <td>-0.503252</td>\n",
              "      <td>-0.404584</td>\n",
              "      <td>0.850713</td>\n",
              "      <td>-0.038633</td>\n",
              "      <td>-0.349357</td>\n",
              "      <td>0.197126</td>\n",
              "    </tr>\n",
              "    <tr>\n",
              "      <th>bedrooms</th>\n",
              "      <td>0.133996</td>\n",
              "      <td>1.725120</td>\n",
              "      <td>-0.336456</td>\n",
              "      <td>-0.060018</td>\n",
              "      <td>-0.023152</td>\n",
              "      <td>-0.049384</td>\n",
              "      <td>0.165166</td>\n",
              "      <td>-1.065419</td>\n",
              "      <td>-0.617600</td>\n",
              "      <td>0.199689</td>\n",
              "      <td>0.061845</td>\n",
              "      <td>0.073796</td>\n",
              "      <td>-0.119953</td>\n",
              "    </tr>\n",
              "    <tr>\n",
              "      <th>bathrooms</th>\n",
              "      <td>-0.123691</td>\n",
              "      <td>-0.336456</td>\n",
              "      <td>2.989364</td>\n",
              "      <td>0.045354</td>\n",
              "      <td>-0.672270</td>\n",
              "      <td>-0.177592</td>\n",
              "      <td>-0.148980</td>\n",
              "      <td>-0.805187</td>\n",
              "      <td>-0.987500</td>\n",
              "      <td>-1.104489</td>\n",
              "      <td>0.110853</td>\n",
              "      <td>-0.082582</td>\n",
              "      <td>0.143187</td>\n",
              "    </tr>\n",
              "    <tr>\n",
              "      <th>sqft_lot</th>\n",
              "      <td>0.133407</td>\n",
              "      <td>-0.060018</td>\n",
              "      <td>0.045354</td>\n",
              "      <td>4.749975</td>\n",
              "      <td>0.406448</td>\n",
              "      <td>0.010482</td>\n",
              "      <td>0.030446</td>\n",
              "      <td>-0.569403</td>\n",
              "      <td>-0.114546</td>\n",
              "      <td>0.193645</td>\n",
              "      <td>0.195752</td>\n",
              "      <td>0.111238</td>\n",
              "      <td>-3.885422</td>\n",
              "    </tr>\n",
              "    <tr>\n",
              "      <th>floors</th>\n",
              "      <td>-0.160672</td>\n",
              "      <td>-0.023152</td>\n",
              "      <td>-0.672270</td>\n",
              "      <td>0.406448</td>\n",
              "      <td>2.763616</td>\n",
              "      <td>0.088750</td>\n",
              "      <td>-0.250211</td>\n",
              "      <td>-0.723250</td>\n",
              "      <td>0.658214</td>\n",
              "      <td>-0.572094</td>\n",
              "      <td>-0.198425</td>\n",
              "      <td>0.305562</td>\n",
              "      <td>0.566634</td>\n",
              "    </tr>\n",
              "    <tr>\n",
              "      <th>condition</th>\n",
              "      <td>-0.173845</td>\n",
              "      <td>-0.049384</td>\n",
              "      <td>-0.177592</td>\n",
              "      <td>0.010482</td>\n",
              "      <td>0.088750</td>\n",
              "      <td>1.297711</td>\n",
              "      <td>0.047813</td>\n",
              "      <td>0.051724</td>\n",
              "      <td>-0.064554</td>\n",
              "      <td>0.518847</td>\n",
              "      <td>0.183977</td>\n",
              "      <td>0.174221</td>\n",
              "      <td>-0.132253</td>\n",
              "    </tr>\n",
              "    <tr>\n",
              "      <th>grade</th>\n",
              "      <td>-0.887958</td>\n",
              "      <td>0.165166</td>\n",
              "      <td>-0.148980</td>\n",
              "      <td>0.030446</td>\n",
              "      <td>-0.250211</td>\n",
              "      <td>0.047813</td>\n",
              "      <td>2.619229</td>\n",
              "      <td>-0.545409</td>\n",
              "      <td>-0.177970</td>\n",
              "      <td>-0.766984</td>\n",
              "      <td>-0.044031</td>\n",
              "      <td>-0.424747</td>\n",
              "      <td>-0.124009</td>\n",
              "    </tr>\n",
              "    <tr>\n",
              "      <th>sqft_above</th>\n",
              "      <td>-0.503252</td>\n",
              "      <td>-1.065419</td>\n",
              "      <td>-0.805187</td>\n",
              "      <td>-0.569403</td>\n",
              "      <td>-0.723250</td>\n",
              "      <td>0.051724</td>\n",
              "      <td>-0.545409</td>\n",
              "      <td>4.503616</td>\n",
              "      <td>1.527391</td>\n",
              "      <td>0.030710</td>\n",
              "      <td>-0.001993</td>\n",
              "      <td>-1.586613</td>\n",
              "      <td>0.016050</td>\n",
              "    </tr>\n",
              "    <tr>\n",
              "      <th>sqft_basement</th>\n",
              "      <td>-0.404584</td>\n",
              "      <td>-0.617600</td>\n",
              "      <td>-0.987500</td>\n",
              "      <td>-0.114546</td>\n",
              "      <td>0.658214</td>\n",
              "      <td>-0.064554</td>\n",
              "      <td>-0.177970</td>\n",
              "      <td>1.527391</td>\n",
              "      <td>2.085749</td>\n",
              "      <td>0.161646</td>\n",
              "      <td>-0.218825</td>\n",
              "      <td>-0.452544</td>\n",
              "      <td>0.096479</td>\n",
              "    </tr>\n",
              "    <tr>\n",
              "      <th>yr_built</th>\n",
              "      <td>0.850713</td>\n",
              "      <td>0.199689</td>\n",
              "      <td>-1.104489</td>\n",
              "      <td>0.193645</td>\n",
              "      <td>-0.572094</td>\n",
              "      <td>0.518847</td>\n",
              "      <td>-0.766984</td>\n",
              "      <td>0.030710</td>\n",
              "      <td>0.161646</td>\n",
              "      <td>2.783145</td>\n",
              "      <td>0.486045</td>\n",
              "      <td>-0.092790</td>\n",
              "      <td>-0.205083</td>\n",
              "    </tr>\n",
              "    <tr>\n",
              "      <th>zipcode</th>\n",
              "      <td>-0.038633</td>\n",
              "      <td>0.061845</td>\n",
              "      <td>0.110853</td>\n",
              "      <td>0.195752</td>\n",
              "      <td>-0.198425</td>\n",
              "      <td>0.183977</td>\n",
              "      <td>-0.044031</td>\n",
              "      <td>-0.001993</td>\n",
              "      <td>-0.218825</td>\n",
              "      <td>0.486045</td>\n",
              "      <td>1.365716</td>\n",
              "      <td>0.269531</td>\n",
              "      <td>0.069222</td>\n",
              "    </tr>\n",
              "    <tr>\n",
              "      <th>sqft_living15</th>\n",
              "      <td>-0.349357</td>\n",
              "      <td>0.073796</td>\n",
              "      <td>-0.082582</td>\n",
              "      <td>0.111238</td>\n",
              "      <td>0.305562</td>\n",
              "      <td>0.174221</td>\n",
              "      <td>-0.424747</td>\n",
              "      <td>-1.586613</td>\n",
              "      <td>-0.452544</td>\n",
              "      <td>-0.092790</td>\n",
              "      <td>0.269531</td>\n",
              "      <td>2.700294</td>\n",
              "      <td>-0.364131</td>\n",
              "    </tr>\n",
              "    <tr>\n",
              "      <th>sqft_lot15</th>\n",
              "      <td>0.197126</td>\n",
              "      <td>-0.119953</td>\n",
              "      <td>0.143187</td>\n",
              "      <td>-3.885422</td>\n",
              "      <td>0.566634</td>\n",
              "      <td>-0.132253</td>\n",
              "      <td>-0.124009</td>\n",
              "      <td>0.016050</td>\n",
              "      <td>0.096479</td>\n",
              "      <td>-0.205083</td>\n",
              "      <td>0.069222</td>\n",
              "      <td>-0.364131</td>\n",
              "      <td>4.808926</td>\n",
              "    </tr>\n",
              "  </tbody>\n",
              "</table>\n",
              "</div>"
            ],
            "text/plain": [
              "                  price  bedrooms  ...  sqft_living15  sqft_lot15\n",
              "price          2.015708  0.133996  ...      -0.349357    0.197126\n",
              "bedrooms       0.133996  1.725120  ...       0.073796   -0.119953\n",
              "bathrooms     -0.123691 -0.336456  ...      -0.082582    0.143187\n",
              "sqft_lot       0.133407 -0.060018  ...       0.111238   -3.885422\n",
              "floors        -0.160672 -0.023152  ...       0.305562    0.566634\n",
              "condition     -0.173845 -0.049384  ...       0.174221   -0.132253\n",
              "grade         -0.887958  0.165166  ...      -0.424747   -0.124009\n",
              "sqft_above    -0.503252 -1.065419  ...      -1.586613    0.016050\n",
              "sqft_basement -0.404584 -0.617600  ...      -0.452544    0.096479\n",
              "yr_built       0.850713  0.199689  ...      -0.092790   -0.205083\n",
              "zipcode       -0.038633  0.061845  ...       0.269531    0.069222\n",
              "sqft_living15 -0.349357  0.073796  ...       2.700294   -0.364131\n",
              "sqft_lot15     0.197126 -0.119953  ...      -0.364131    4.808926\n",
              "\n",
              "[13 rows x 13 columns]"
            ]
          },
          "metadata": {
            "tags": []
          },
          "execution_count": 48
        }
      ]
    },
    {
      "cell_type": "markdown",
      "metadata": {
        "id": "dVbibtRPaTyl"
      },
      "source": [
        "There is significant change in the sqft_above and sqft_basement VIF scores with them reducing to 4.5 and 2 respectively"
      ]
    },
    {
      "cell_type": "code",
      "metadata": {
        "colab": {
          "base_uri": "https://localhost:8080/",
          "height": 472
        },
        "id": "1-FD9rE3aN4e",
        "outputId": "d8c91270-ed9f-44b0-d4ec-064767c0e246"
      },
      "source": [
        "# getting the VIF scores excluding the sqft_above variable\n",
        "# \n",
        "\n",
        "above = house.drop(['sqft_above'], axis=1)\n",
        "\n",
        "above_corr = above.corr()\n",
        "\n",
        "\n",
        "pd.DataFrame(np.linalg.inv(above_corr.values), index = above_corr.index, columns=above_corr.columns)"
      ],
      "execution_count": 49,
      "outputs": [
        {
          "output_type": "execute_result",
          "data": {
            "text/html": [
              "<div>\n",
              "<style scoped>\n",
              "    .dataframe tbody tr th:only-of-type {\n",
              "        vertical-align: middle;\n",
              "    }\n",
              "\n",
              "    .dataframe tbody tr th {\n",
              "        vertical-align: top;\n",
              "    }\n",
              "\n",
              "    .dataframe thead th {\n",
              "        text-align: right;\n",
              "    }\n",
              "</style>\n",
              "<table border=\"1\" class=\"dataframe\">\n",
              "  <thead>\n",
              "    <tr style=\"text-align: right;\">\n",
              "      <th></th>\n",
              "      <th>price</th>\n",
              "      <th>bedrooms</th>\n",
              "      <th>bathrooms</th>\n",
              "      <th>sqft_living</th>\n",
              "      <th>sqft_lot</th>\n",
              "      <th>floors</th>\n",
              "      <th>condition</th>\n",
              "      <th>grade</th>\n",
              "      <th>sqft_basement</th>\n",
              "      <th>yr_built</th>\n",
              "      <th>zipcode</th>\n",
              "      <th>sqft_living15</th>\n",
              "      <th>sqft_lot15</th>\n",
              "    </tr>\n",
              "  </thead>\n",
              "  <tbody>\n",
              "    <tr>\n",
              "      <th>price</th>\n",
              "      <td>2.015708</td>\n",
              "      <td>0.133996</td>\n",
              "      <td>-0.123691</td>\n",
              "      <td>-0.513972</td>\n",
              "      <td>0.133407</td>\n",
              "      <td>-0.160672</td>\n",
              "      <td>-0.173845</td>\n",
              "      <td>-0.887958</td>\n",
              "      <td>-0.109725</td>\n",
              "      <td>0.850713</td>\n",
              "      <td>-0.038633</td>\n",
              "      <td>-0.349357</td>\n",
              "      <td>0.197126</td>\n",
              "    </tr>\n",
              "    <tr>\n",
              "      <th>bedrooms</th>\n",
              "      <td>0.133996</td>\n",
              "      <td>1.725120</td>\n",
              "      <td>-0.336456</td>\n",
              "      <td>-1.088115</td>\n",
              "      <td>-0.060018</td>\n",
              "      <td>-0.023152</td>\n",
              "      <td>-0.049384</td>\n",
              "      <td>0.165166</td>\n",
              "      <td>0.006637</td>\n",
              "      <td>0.199689</td>\n",
              "      <td>0.061845</td>\n",
              "      <td>0.073796</td>\n",
              "      <td>-0.119953</td>\n",
              "    </tr>\n",
              "    <tr>\n",
              "      <th>bathrooms</th>\n",
              "      <td>-0.123691</td>\n",
              "      <td>-0.336456</td>\n",
              "      <td>2.989364</td>\n",
              "      <td>-0.822338</td>\n",
              "      <td>0.045354</td>\n",
              "      <td>-0.672270</td>\n",
              "      <td>-0.177592</td>\n",
              "      <td>-0.148980</td>\n",
              "      <td>-0.515735</td>\n",
              "      <td>-1.104489</td>\n",
              "      <td>0.110853</td>\n",
              "      <td>-0.082582</td>\n",
              "      <td>0.143187</td>\n",
              "    </tr>\n",
              "    <tr>\n",
              "      <th>sqft_living</th>\n",
              "      <td>-0.513972</td>\n",
              "      <td>-1.088115</td>\n",
              "      <td>-0.822338</td>\n",
              "      <td>4.697528</td>\n",
              "      <td>-0.581532</td>\n",
              "      <td>-0.738657</td>\n",
              "      <td>0.052826</td>\n",
              "      <td>-0.557027</td>\n",
              "      <td>-1.134985</td>\n",
              "      <td>0.031364</td>\n",
              "      <td>-0.002036</td>\n",
              "      <td>-1.620410</td>\n",
              "      <td>0.016392</td>\n",
              "    </tr>\n",
              "    <tr>\n",
              "      <th>sqft_lot</th>\n",
              "      <td>0.133407</td>\n",
              "      <td>-0.060018</td>\n",
              "      <td>0.045354</td>\n",
              "      <td>-0.581532</td>\n",
              "      <td>4.749975</td>\n",
              "      <td>0.406448</td>\n",
              "      <td>0.010482</td>\n",
              "      <td>0.030446</td>\n",
              "      <td>0.219072</td>\n",
              "      <td>0.193645</td>\n",
              "      <td>0.195752</td>\n",
              "      <td>0.111238</td>\n",
              "      <td>-3.885422</td>\n",
              "    </tr>\n",
              "    <tr>\n",
              "      <th>floors</th>\n",
              "      <td>-0.160672</td>\n",
              "      <td>-0.023152</td>\n",
              "      <td>-0.672270</td>\n",
              "      <td>-0.738657</td>\n",
              "      <td>0.406448</td>\n",
              "      <td>2.763616</td>\n",
              "      <td>0.088750</td>\n",
              "      <td>-0.250211</td>\n",
              "      <td>1.081972</td>\n",
              "      <td>-0.572094</td>\n",
              "      <td>-0.198425</td>\n",
              "      <td>0.305562</td>\n",
              "      <td>0.566634</td>\n",
              "    </tr>\n",
              "    <tr>\n",
              "      <th>condition</th>\n",
              "      <td>-0.173845</td>\n",
              "      <td>-0.049384</td>\n",
              "      <td>-0.177592</td>\n",
              "      <td>0.052826</td>\n",
              "      <td>0.010482</td>\n",
              "      <td>0.088750</td>\n",
              "      <td>1.297711</td>\n",
              "      <td>0.047813</td>\n",
              "      <td>-0.094859</td>\n",
              "      <td>0.518847</td>\n",
              "      <td>0.183977</td>\n",
              "      <td>0.174221</td>\n",
              "      <td>-0.132253</td>\n",
              "    </tr>\n",
              "    <tr>\n",
              "      <th>grade</th>\n",
              "      <td>-0.887958</td>\n",
              "      <td>0.165166</td>\n",
              "      <td>-0.148980</td>\n",
              "      <td>-0.557027</td>\n",
              "      <td>0.030446</td>\n",
              "      <td>-0.250211</td>\n",
              "      <td>0.047813</td>\n",
              "      <td>2.619229</td>\n",
              "      <td>0.141589</td>\n",
              "      <td>-0.766984</td>\n",
              "      <td>-0.044031</td>\n",
              "      <td>-0.424747</td>\n",
              "      <td>-0.124009</td>\n",
              "    </tr>\n",
              "    <tr>\n",
              "      <th>sqft_basement</th>\n",
              "      <td>-0.109725</td>\n",
              "      <td>0.006637</td>\n",
              "      <td>-0.515735</td>\n",
              "      <td>-1.134985</td>\n",
              "      <td>0.219072</td>\n",
              "      <td>1.081972</td>\n",
              "      <td>-0.094859</td>\n",
              "      <td>0.141589</td>\n",
              "      <td>1.841965</td>\n",
              "      <td>0.143653</td>\n",
              "      <td>-0.217657</td>\n",
              "      <td>0.477064</td>\n",
              "      <td>0.087075</td>\n",
              "    </tr>\n",
              "    <tr>\n",
              "      <th>yr_built</th>\n",
              "      <td>0.850713</td>\n",
              "      <td>0.199689</td>\n",
              "      <td>-1.104489</td>\n",
              "      <td>0.031364</td>\n",
              "      <td>0.193645</td>\n",
              "      <td>-0.572094</td>\n",
              "      <td>0.518847</td>\n",
              "      <td>-0.766984</td>\n",
              "      <td>0.143653</td>\n",
              "      <td>2.783145</td>\n",
              "      <td>0.486045</td>\n",
              "      <td>-0.092790</td>\n",
              "      <td>-0.205083</td>\n",
              "    </tr>\n",
              "    <tr>\n",
              "      <th>zipcode</th>\n",
              "      <td>-0.038633</td>\n",
              "      <td>0.061845</td>\n",
              "      <td>0.110853</td>\n",
              "      <td>-0.002036</td>\n",
              "      <td>0.195752</td>\n",
              "      <td>-0.198425</td>\n",
              "      <td>0.183977</td>\n",
              "      <td>-0.044031</td>\n",
              "      <td>-0.217657</td>\n",
              "      <td>0.486045</td>\n",
              "      <td>1.365716</td>\n",
              "      <td>0.269531</td>\n",
              "      <td>0.069222</td>\n",
              "    </tr>\n",
              "    <tr>\n",
              "      <th>sqft_living15</th>\n",
              "      <td>-0.349357</td>\n",
              "      <td>0.073796</td>\n",
              "      <td>-0.082582</td>\n",
              "      <td>-1.620410</td>\n",
              "      <td>0.111238</td>\n",
              "      <td>0.305562</td>\n",
              "      <td>0.174221</td>\n",
              "      <td>-0.424747</td>\n",
              "      <td>0.477064</td>\n",
              "      <td>-0.092790</td>\n",
              "      <td>0.269531</td>\n",
              "      <td>2.700294</td>\n",
              "      <td>-0.364131</td>\n",
              "    </tr>\n",
              "    <tr>\n",
              "      <th>sqft_lot15</th>\n",
              "      <td>0.197126</td>\n",
              "      <td>-0.119953</td>\n",
              "      <td>0.143187</td>\n",
              "      <td>0.016392</td>\n",
              "      <td>-3.885422</td>\n",
              "      <td>0.566634</td>\n",
              "      <td>-0.132253</td>\n",
              "      <td>-0.124009</td>\n",
              "      <td>0.087075</td>\n",
              "      <td>-0.205083</td>\n",
              "      <td>0.069222</td>\n",
              "      <td>-0.364131</td>\n",
              "      <td>4.808926</td>\n",
              "    </tr>\n",
              "  </tbody>\n",
              "</table>\n",
              "</div>"
            ],
            "text/plain": [
              "                  price  bedrooms  ...  sqft_living15  sqft_lot15\n",
              "price          2.015708  0.133996  ...      -0.349357    0.197126\n",
              "bedrooms       0.133996  1.725120  ...       0.073796   -0.119953\n",
              "bathrooms     -0.123691 -0.336456  ...      -0.082582    0.143187\n",
              "sqft_living   -0.513972 -1.088115  ...      -1.620410    0.016392\n",
              "sqft_lot       0.133407 -0.060018  ...       0.111238   -3.885422\n",
              "floors        -0.160672 -0.023152  ...       0.305562    0.566634\n",
              "condition     -0.173845 -0.049384  ...       0.174221   -0.132253\n",
              "grade         -0.887958  0.165166  ...      -0.424747   -0.124009\n",
              "sqft_basement -0.109725  0.006637  ...       0.477064    0.087075\n",
              "yr_built       0.850713  0.199689  ...      -0.092790   -0.205083\n",
              "zipcode       -0.038633  0.061845  ...       0.269531    0.069222\n",
              "sqft_living15 -0.349357  0.073796  ...       2.700294   -0.364131\n",
              "sqft_lot15     0.197126 -0.119953  ...      -0.364131    4.808926\n",
              "\n",
              "[13 rows x 13 columns]"
            ]
          },
          "metadata": {
            "tags": []
          },
          "execution_count": 49
        }
      ]
    },
    {
      "cell_type": "markdown",
      "metadata": {
        "id": "D6-ZyZ73bTSB"
      },
      "source": [
        "Removing the sqft_above variable reduces the VIF scores of all variables to below 5 which is good and data we can work with. The effect on the VIF scores is almost the same for sqft_living and sqft_above so we choose to use the dataframe that excludes sqft_above i.e dataframe, above.\n"
      ]
    },
    {
      "cell_type": "markdown",
      "metadata": {
        "id": "AkDU-Hhw1XSg"
      },
      "source": [
        "### Modeling\n",
        "\n",
        "#### Multiple Linear Regression\n",
        "\n",
        "#### Quantile Regression\n",
        "\n",
        "#### Ridge Regression\n",
        "\n",
        "#### Lasso Regression\n",
        "\n",
        "#### Elastic Net Regression"
      ]
    },
    {
      "cell_type": "markdown",
      "metadata": {
        "id": "BJvs8LQE_Nyd"
      },
      "source": [
        "#### Multiple Linear Regression"
      ]
    },
    {
      "cell_type": "code",
      "metadata": {
        "colab": {
          "base_uri": "https://localhost:8080/"
        },
        "id": "8KUcnTriTU-o",
        "outputId": "1e6cbcc1-f9d1-4f8f-ad60-26ebd82889f1"
      },
      "source": [
        "house.columns"
      ],
      "execution_count": 50,
      "outputs": [
        {
          "output_type": "execute_result",
          "data": {
            "text/plain": [
              "Index(['price', 'bedrooms', 'bathrooms', 'sqft_living', 'sqft_lot', 'floors',\n",
              "       'condition', 'grade', 'sqft_above', 'sqft_basement', 'yr_built',\n",
              "       'zipcode', 'sqft_living15', 'sqft_lot15'],\n",
              "      dtype='object')"
            ]
          },
          "metadata": {
            "tags": []
          },
          "execution_count": 50
        }
      ]
    },
    {
      "cell_type": "code",
      "metadata": {
        "id": "H81CPHEA_e18"
      },
      "source": [
        "# defining our x and y\n",
        "# splitting the data to train and test sets\n",
        "# \n",
        "X = house[['bedrooms', 'bathrooms', 'sqft_living', 'sqft_lot', 'floors',\n",
        "       'condition', 'grade', 'sqft_basement', 'yr_built',\n",
        "       'zipcode', 'sqft_living15', 'sqft_lot15']]\n",
        "y = house['price'].values\n",
        "\n",
        "X_train, X_test, y_train, y_test = train_test_split(X, y, test_size=0.3, random_state=0)"
      ],
      "execution_count": 54,
      "outputs": []
    },
    {
      "cell_type": "code",
      "metadata": {
        "colab": {
          "base_uri": "https://localhost:8080/"
        },
        "id": "Ds4RPBwTCuM4",
        "outputId": "f5e4e3a8-886e-4951-c85b-0b74848e39b3"
      },
      "source": [
        "# fitting our model into or data\n",
        "# \n",
        "\n",
        "regressor = LinearRegression()\n",
        "regressor.fit(X_train, y_train)"
      ],
      "execution_count": 55,
      "outputs": [
        {
          "output_type": "execute_result",
          "data": {
            "text/plain": [
              "LinearRegression(copy_X=True, fit_intercept=True, n_jobs=None, normalize=False)"
            ]
          },
          "metadata": {
            "tags": []
          },
          "execution_count": 55
        }
      ]
    },
    {
      "cell_type": "code",
      "metadata": {
        "colab": {
          "base_uri": "https://localhost:8080/",
          "height": 421
        },
        "id": "hVtMLTavDCU2",
        "outputId": "3b106c82-0c30-43a3-ce66-2dbb1a48018c"
      },
      "source": [
        "# getting a dataframe of the coefficients\n",
        "# \n",
        "\n",
        "coeff_df = pd.DataFrame(regressor.coef_, X.columns, columns=['Coefficient'])\n",
        "coeff_df"
      ],
      "execution_count": 56,
      "outputs": [
        {
          "output_type": "execute_result",
          "data": {
            "text/html": [
              "<div>\n",
              "<style scoped>\n",
              "    .dataframe tbody tr th:only-of-type {\n",
              "        vertical-align: middle;\n",
              "    }\n",
              "\n",
              "    .dataframe tbody tr th {\n",
              "        vertical-align: top;\n",
              "    }\n",
              "\n",
              "    .dataframe thead th {\n",
              "        text-align: right;\n",
              "    }\n",
              "</style>\n",
              "<table border=\"1\" class=\"dataframe\">\n",
              "  <thead>\n",
              "    <tr style=\"text-align: right;\">\n",
              "      <th></th>\n",
              "      <th>Coefficient</th>\n",
              "    </tr>\n",
              "  </thead>\n",
              "  <tbody>\n",
              "    <tr>\n",
              "      <th>bedrooms</th>\n",
              "      <td>-16516.549807</td>\n",
              "    </tr>\n",
              "    <tr>\n",
              "      <th>bathrooms</th>\n",
              "      <td>20876.095622</td>\n",
              "    </tr>\n",
              "    <tr>\n",
              "      <th>sqft_living</th>\n",
              "      <td>70.127424</td>\n",
              "    </tr>\n",
              "    <tr>\n",
              "      <th>sqft_lot</th>\n",
              "      <td>-3.968705</td>\n",
              "    </tr>\n",
              "    <tr>\n",
              "      <th>floors</th>\n",
              "      <td>26840.336789</td>\n",
              "    </tr>\n",
              "    <tr>\n",
              "      <th>condition</th>\n",
              "      <td>25002.292464</td>\n",
              "    </tr>\n",
              "    <tr>\n",
              "      <th>grade</th>\n",
              "      <td>97644.223902</td>\n",
              "    </tr>\n",
              "    <tr>\n",
              "      <th>sqft_basement</th>\n",
              "      <td>31.975945</td>\n",
              "    </tr>\n",
              "    <tr>\n",
              "      <th>yr_built</th>\n",
              "      <td>-2642.807255</td>\n",
              "    </tr>\n",
              "    <tr>\n",
              "      <th>zipcode</th>\n",
              "      <td>31.541560</td>\n",
              "    </tr>\n",
              "    <tr>\n",
              "      <th>sqft_living15</th>\n",
              "      <td>65.063587</td>\n",
              "    </tr>\n",
              "    <tr>\n",
              "      <th>sqft_lot15</th>\n",
              "      <td>-5.231119</td>\n",
              "    </tr>\n",
              "  </tbody>\n",
              "</table>\n",
              "</div>"
            ],
            "text/plain": [
              "                Coefficient\n",
              "bedrooms      -16516.549807\n",
              "bathrooms      20876.095622\n",
              "sqft_living       70.127424\n",
              "sqft_lot          -3.968705\n",
              "floors         26840.336789\n",
              "condition      25002.292464\n",
              "grade          97644.223902\n",
              "sqft_basement     31.975945\n",
              "yr_built       -2642.807255\n",
              "zipcode           31.541560\n",
              "sqft_living15     65.063587\n",
              "sqft_lot15        -5.231119"
            ]
          },
          "metadata": {
            "tags": []
          },
          "execution_count": 56
        }
      ]
    },
    {
      "cell_type": "code",
      "metadata": {
        "colab": {
          "base_uri": "https://localhost:8080/",
          "height": 419
        },
        "id": "CQMF9ptoDVtw",
        "outputId": "5fb6dd23-32d2-4892-8113-f81005bed2b8"
      },
      "source": [
        "# Making predictions\n",
        "# \n",
        "\n",
        "y_pred = regressor.predict(X_test)\n",
        "\n",
        "# To compare the actual output values for X_test with the predicted values\n",
        "# \n",
        "df = pd.DataFrame({'Actual': y_test, 'Predicted': y_pred})\n",
        "df"
      ],
      "execution_count": 57,
      "outputs": [
        {
          "output_type": "execute_result",
          "data": {
            "text/html": [
              "<div>\n",
              "<style scoped>\n",
              "    .dataframe tbody tr th:only-of-type {\n",
              "        vertical-align: middle;\n",
              "    }\n",
              "\n",
              "    .dataframe tbody tr th {\n",
              "        vertical-align: top;\n",
              "    }\n",
              "\n",
              "    .dataframe thead th {\n",
              "        text-align: right;\n",
              "    }\n",
              "</style>\n",
              "<table border=\"1\" class=\"dataframe\">\n",
              "  <thead>\n",
              "    <tr style=\"text-align: right;\">\n",
              "      <th></th>\n",
              "      <th>Actual</th>\n",
              "      <th>Predicted</th>\n",
              "    </tr>\n",
              "  </thead>\n",
              "  <tbody>\n",
              "    <tr>\n",
              "      <th>0</th>\n",
              "      <td>224000.0</td>\n",
              "      <td>62977.421071</td>\n",
              "    </tr>\n",
              "    <tr>\n",
              "      <th>1</th>\n",
              "      <td>385000.0</td>\n",
              "      <td>498044.210756</td>\n",
              "    </tr>\n",
              "    <tr>\n",
              "      <th>2</th>\n",
              "      <td>320000.0</td>\n",
              "      <td>424903.032241</td>\n",
              "    </tr>\n",
              "    <tr>\n",
              "      <th>3</th>\n",
              "      <td>365500.0</td>\n",
              "      <td>361327.782747</td>\n",
              "    </tr>\n",
              "    <tr>\n",
              "      <th>4</th>\n",
              "      <td>345000.0</td>\n",
              "      <td>347910.737839</td>\n",
              "    </tr>\n",
              "    <tr>\n",
              "      <th>...</th>\n",
              "      <td>...</td>\n",
              "      <td>...</td>\n",
              "    </tr>\n",
              "    <tr>\n",
              "      <th>4516</th>\n",
              "      <td>674950.0</td>\n",
              "      <td>551182.744577</td>\n",
              "    </tr>\n",
              "    <tr>\n",
              "      <th>4517</th>\n",
              "      <td>268750.0</td>\n",
              "      <td>199520.107756</td>\n",
              "    </tr>\n",
              "    <tr>\n",
              "      <th>4518</th>\n",
              "      <td>525000.0</td>\n",
              "      <td>334414.169176</td>\n",
              "    </tr>\n",
              "    <tr>\n",
              "      <th>4519</th>\n",
              "      <td>330000.0</td>\n",
              "      <td>315687.407319</td>\n",
              "    </tr>\n",
              "    <tr>\n",
              "      <th>4520</th>\n",
              "      <td>565000.0</td>\n",
              "      <td>339394.688079</td>\n",
              "    </tr>\n",
              "  </tbody>\n",
              "</table>\n",
              "<p>4521 rows × 2 columns</p>\n",
              "</div>"
            ],
            "text/plain": [
              "        Actual      Predicted\n",
              "0     224000.0   62977.421071\n",
              "1     385000.0  498044.210756\n",
              "2     320000.0  424903.032241\n",
              "3     365500.0  361327.782747\n",
              "4     345000.0  347910.737839\n",
              "...        ...            ...\n",
              "4516  674950.0  551182.744577\n",
              "4517  268750.0  199520.107756\n",
              "4518  525000.0  334414.169176\n",
              "4519  330000.0  315687.407319\n",
              "4520  565000.0  339394.688079\n",
              "\n",
              "[4521 rows x 2 columns]"
            ]
          },
          "metadata": {
            "tags": []
          },
          "execution_count": 57
        }
      ]
    },
    {
      "cell_type": "markdown",
      "metadata": {
        "id": "A5vK8aMuDrdt"
      },
      "source": [
        "We can see there is huge differece between the actual and predicted values, meaning the model is not performing well."
      ]
    },
    {
      "cell_type": "code",
      "metadata": {
        "colab": {
          "base_uri": "https://localhost:8080/"
        },
        "id": "gROdN6IaD_9f",
        "outputId": "f49b5f84-7cb8-446c-e1f9-dae671e5c8cd"
      },
      "source": [
        "# computing the r-score and RMSE\n",
        "# \n",
        "from sklearn import metrics\n",
        "from sklearn.metrics import r2_score\n",
        "\n",
        "linear_R2 = r2_score(y_test, y_pred)\n",
        "print('The R2 Score for the linear model:', linear_R2)\n",
        "\n",
        "print('The Root Mean Squared Error for the linear model:', np.sqrt(metrics.mean_squared_error(y_test, y_pred)))\n"
      ],
      "execution_count": 58,
      "outputs": [
        {
          "output_type": "stream",
          "text": [
            "The R2 Score for the linear model: 0.4969102974356243\n",
            "The Root Mean Squared Error for the linear model: 128507.98409275373\n"
          ],
          "name": "stdout"
        }
      ]
    },
    {
      "cell_type": "markdown",
      "metadata": {
        "id": "6GRmWOENtXBV"
      },
      "source": [
        "Residual plots"
      ]
    },
    {
      "cell_type": "code",
      "metadata": {
        "colab": {
          "base_uri": "https://localhost:8080/"
        },
        "id": "IeGOjpGUs2xq",
        "outputId": "dbe7a762-033b-4c53-f99c-958fe438e4df"
      },
      "source": [
        "residuals = np.subtract(y_pred, y_test)\n",
        "\n",
        "# Let's describe our residual:\n",
        "pd.DataFrame(residuals).describe()\n",
        "\n",
        "residuals.mean()"
      ],
      "execution_count": 59,
      "outputs": [
        {
          "output_type": "execute_result",
          "data": {
            "text/plain": [
              "-102.838471633446"
            ]
          },
          "metadata": {
            "tags": []
          },
          "execution_count": 59
        }
      ]
    },
    {
      "cell_type": "code",
      "metadata": {
        "colab": {
          "base_uri": "https://localhost:8080/",
          "height": 279
        },
        "id": "1Z8WyGrzsskF",
        "outputId": "f3820e2b-3882-466e-b8f1-5e76277096c3"
      },
      "source": [
        "# plotting our residuals\n",
        "# \n",
        "\n",
        "import matplotlib.pyplot as plt\n",
        "\n",
        "plt.scatter(y_pred, residuals, color='black')\n",
        "plt.ylabel('residual')\n",
        "plt.xlabel('fitted values')\n",
        "plt.axhline(y= residuals.mean(), color='red', linewidth=1)\n",
        "plt.show()"
      ],
      "execution_count": 60,
      "outputs": [
        {
          "output_type": "display_data",
          "data": {
            "image/png": "[encoded data removed]",
            "text/plain": [
              "<Figure size 432x288 with 1 Axes>"
            ]
          },
          "metadata": {
            "tags": [],
            "needs_background": "light"
          }
        }
      ]
    },
    {
      "cell_type": "markdown",
      "metadata": {
        "id": "j8uljB-ks8jX"
      },
      "source": [
        "The residuals are not evenly distributed around the mean. There are more residuals below than there are above the mean."
      ]
    },
    {
      "cell_type": "markdown",
      "metadata": {
        "id": "aNO4TWcItOB9"
      },
      "source": [
        "Checking for heteroskedaticity using Barlett's test"
      ]
    },
    {
      "cell_type": "code",
      "metadata": {
        "colab": {
          "base_uri": "https://localhost:8080/"
        },
        "id": "-0qaJBXZtMa4",
        "outputId": "5479332c-d1bf-404b-97f4-e138485c3aa2"
      },
      "source": [
        "import scipy as sp\n",
        "\n",
        "test_result, p_value = sp.stats.bartlett(y_pred, residuals)\n",
        "\n",
        "# To interpret the results we must also compute a critical value of the chi squared distribution\n",
        "degree_of_freedom = len(y_pred)-1\n",
        "probability = 1 - p_value\n",
        "\n",
        "critical_value = sp.stats.chi2.ppf(probability, degree_of_freedom)\n",
        "print('The critical value is:', critical_value)\n",
        "\n",
        "# If the test_result is greater than the critical value, then we reject our null\n",
        "# hypothesis. This would mean that there are patterns to the variance of the data\n",
        "\n",
        "# Otherwise, we can identify no patterns, and we accept the null hypothesis that \n",
        "# the variance is homogeneous across our data\n",
        "\n",
        "if (test_result > critical_value):\n",
        "  print('the variances are unequal, and the model should be reassessed')\n",
        "else:\n",
        "  print('the variances are homogeneous!')"
      ],
      "execution_count": 61,
      "outputs": [
        {
          "output_type": "stream",
          "text": [
            "The critical value is: 4399.430358118845\n",
            "the variances are homogeneous!\n"
          ],
          "name": "stdout"
        }
      ]
    },
    {
      "cell_type": "markdown",
      "metadata": {
        "id": "UjkwLXnYKfFE"
      },
      "source": [
        "Cross validation using Leave one out"
      ]
    },
    {
      "cell_type": "code",
      "metadata": {
        "colab": {
          "base_uri": "https://localhost:8080/"
        },
        "id": "N55uuWk7oct2",
        "outputId": "3217f6a2-7834-4939-e82c-29a228d71180"
      },
      "source": [
        "from sklearn.model_selection import LeaveOneOut\n",
        "\n",
        "X = above[['bedrooms', 'bathrooms', 'sqft_living', 'sqft_lot', 'floors',\n",
        "       'condition', 'grade', 'sqft_basement', 'yr_built',\n",
        "       'zipcode', 'sqft_living15', 'sqft_lot15']].values\n",
        "y = above['price'].values\n",
        "\n",
        "folds = LeaveOneOut()\n",
        "\n",
        "# if you have a KFold object, you can figure out how many folds you set up \n",
        "# for it using get_n_splits\n",
        "print('we are using ' +str(folds.get_n_splits(X)) + ' folds')\n",
        "\n",
        "RMSES = [] # We will use this array to keep track of the RSME of each model\n",
        "count = 0  \n",
        "for train_index, test_index in folds.split(X):\n",
        "  \n",
        "  # set up the train and test based on the split determined by KFold\n",
        "  \n",
        "  X_train, X_test = X[train_index], X[test_index]\n",
        "  y_train, y_test = y[train_index], y[test_index]\n",
        "  \n",
        "  # fit a model accordingly\n",
        "  regressor = LinearRegression()  \n",
        "  regressor.fit(X_train, y_train)\n",
        "  \n",
        "  # assess the accuraccy of the model\n",
        "  y_pred = regressor.predict(X_test)\n",
        "  \n",
        "  rmse_value =  np.sqrt(metrics.mean_squared_error(y_test, y_pred))\n",
        "  RMSES.append(rmse_value)\n",
        "  \n",
        "  count = count + 1\n",
        "print('trained ' + str(count) + ' models' )\n",
        "np.mean(RMSES)"
      ],
      "execution_count": 62,
      "outputs": [
        {
          "output_type": "stream",
          "text": [
            "we are using 15068 folds\n",
            "trained 15068 models\n"
          ],
          "name": "stdout"
        },
        {
          "output_type": "execute_result",
          "data": {
            "text/plain": [
              "98368.68859086376"
            ]
          },
          "metadata": {
            "tags": []
          },
          "execution_count": 62
        }
      ]
    },
    {
      "cell_type": "code",
      "metadata": {
        "colab": {
          "base_uri": "https://localhost:8080/",
          "height": 279
        },
        "id": "JN6tqvHcp-JU",
        "outputId": "be5c9b1d-373e-4fc5-dcf8-349b011ee6af"
      },
      "source": [
        "#  plotting out the RMSE values across all models\n",
        "# \n",
        "\n",
        "import matplotlib.pyplot as plt\n",
        "\n",
        "plt.plot(RMSES)\n",
        "plt.ylabel('RMSE value')\n",
        "plt.xlabel('model ID')\n",
        "plt.show()"
      ],
      "execution_count": 63,
      "outputs": [
        {
          "output_type": "display_data",
          "data": {
            "image/png": "[encoded data removed]",
            "text/plain": [
              "<Figure size 432x288 with 1 Axes>"
            ]
          },
          "metadata": {
            "tags": [],
            "needs_background": "light"
          }
        }
      ]
    },
    {
      "cell_type": "markdown",
      "metadata": {
        "id": "hx7rUqr4vnCU"
      },
      "source": [
        "**Limitations of Linear regression** \n",
        "\n",
        "Linear Regression Only Looks at the Mean of the Dependent Variable\n",
        "\n",
        "It is sensitive to outliers and multicollinearity.\n"
      ]
    },
    {
      "cell_type": "markdown",
      "metadata": {
        "id": "W0PP8zHgkp7F"
      },
      "source": [
        "#### Quantile regression"
      ]
    },
    {
      "cell_type": "code",
      "metadata": {
        "id": "xW3sVC0eNxK1"
      },
      "source": [
        "# defining our x and y\n",
        "# splitting the data to train and test sets\n",
        "# \n",
        "X = above[['bedrooms', 'bathrooms', 'sqft_living', 'sqft_lot', 'floors',\n",
        "       'condition', 'grade', 'sqft_basement', 'yr_built',\n",
        "       'zipcode', 'sqft_living15', 'sqft_lot15']].values\n",
        "y = above['price'].values\n",
        "\n",
        "# standardizing our data\n",
        "# Importing StandardScaler\n",
        "#\n",
        "from sklearn.preprocessing import StandardScaler\n",
        "\n",
        "scaler = StandardScaler()\n",
        "scaler.fit_transform(X)\n",
        "\n",
        "X_train, X_test, y_train, y_test = train_test_split(X, y, test_size=0.3, random_state=0)"
      ],
      "execution_count": 65,
      "outputs": []
    },
    {
      "cell_type": "code",
      "metadata": {
        "colab": {
          "base_uri": "https://localhost:8080/"
        },
        "id": "r50YbKxYST5w",
        "outputId": "bf952fbb-4abc-4c7b-f4b6-9901290dc62b"
      },
      "source": [
        "# Defining the range of the quantiles\n",
        "quantiles = np.arange(0.1, 1.0, 0.1)\n",
        "\n",
        "# We will use the python package statsmodels for Quantile Regression\n",
        "#\n",
        "import statsmodels.formula.api as smf\n",
        "\n",
        "mod = smf.quantreg('price ~ bedrooms + bathrooms + sqft_living + sqft_lot + floors + condition + grade + sqft_basement + yr_built + zipcode + sqft_living15 + sqft_lot15', above)\n",
        "\n",
        "for qt in quantiles:\n",
        "  res = mod.fit(qt)\n",
        "  print(res.summary())"
      ],
      "execution_count": 66,
      "outputs": [
        {
          "output_type": "stream",
          "text": [
            "/usr/local/lib/python3.7/dist-packages/statsmodels/tools/_testing.py:19: FutureWarning: pandas.util.testing is deprecated. Use the functions in the public API at pandas.testing instead.\n",
            "  import pandas.util.testing as tm\n",
            "/usr/local/lib/python3.7/dist-packages/statsmodels/regression/quantile_regression.py:192: IterationLimitWarning: Maximum number of iterations (1000) reached.\n",
            "  \") reached.\", IterationLimitWarning)\n"
          ],
          "name": "stderr"
        },
        {
          "output_type": "stream",
          "text": [
            "                         QuantReg Regression Results                          \n",
            "==============================================================================\n",
            "Dep. Variable:                  price   Pseudo R-squared:               0.2100\n",
            "Model:                       QuantReg   Bandwidth:                   2.246e+04\n",
            "Method:                 Least Squares   Sparsity:                    3.784e+05\n",
            "Date:                Sat, 29 May 2021   No. Observations:                15068\n",
            "Time:                        02:47:59   Df Residuals:                    15055\n",
            "                                        Df Model:                           12\n",
            "=================================================================================\n",
            "                    coef    std err          t      P>|t|      [0.025      0.975]\n",
            "---------------------------------------------------------------------------------\n",
            "Intercept       -10.5232      0.477    -22.075      0.000     -11.458      -9.589\n",
            "bedrooms      -1.084e+04   1593.446     -6.801      0.000    -1.4e+04   -7713.390\n",
            "bathrooms      1.404e+04   2455.152      5.717      0.000    9224.419    1.88e+04\n",
            "sqft_living      41.6206      3.239     12.850      0.000      35.272      47.969\n",
            "sqft_lot         -2.3077      0.602     -3.836      0.000      -3.487      -1.128\n",
            "floors         3.287e+04   2611.221     12.586      0.000    2.77e+04     3.8e+04\n",
            "condition      1.801e+04   1678.974     10.727      0.000    1.47e+04    2.13e+04\n",
            "grade           4.93e+04   1738.473     28.356      0.000    4.59e+04    5.27e+04\n",
            "sqft_basement    33.2285      3.563      9.327      0.000      26.245      40.212\n",
            "yr_built      -1194.3374     44.808    -26.654      0.000   -1282.167   -1106.507\n",
            "zipcode          21.2457      0.900     23.609      0.000      19.482      23.010\n",
            "sqft_living15    34.8460      2.851     12.223      0.000      29.258      40.434\n",
            "sqft_lot15       -5.5726      0.666     -8.364      0.000      -6.879      -4.267\n",
            "=================================================================================\n",
            "\n",
            "The condition number is large, 2.15e+08. This might indicate that there are\n",
            "strong multicollinearity or other numerical problems.\n"
          ],
          "name": "stdout"
        },
        {
          "output_type": "stream",
          "text": [
            "/usr/local/lib/python3.7/dist-packages/statsmodels/regression/quantile_regression.py:192: IterationLimitWarning: Maximum number of iterations (1000) reached.\n",
            "  \") reached.\", IterationLimitWarning)\n"
          ],
          "name": "stderr"
        },
        {
          "output_type": "stream",
          "text": [
            "                         QuantReg Regression Results                          \n",
            "==============================================================================\n",
            "Dep. Variable:                  price   Pseudo R-squared:               0.2331\n",
            "Model:                       QuantReg   Bandwidth:                   2.143e+04\n",
            "Method:                 Least Squares   Sparsity:                    3.337e+05\n",
            "Date:                Sat, 29 May 2021   No. Observations:                15068\n",
            "Time:                        02:48:02   Df Residuals:                    15055\n",
            "                                        Df Model:                           12\n",
            "=================================================================================\n",
            "                    coef    std err          t      P>|t|      [0.025      0.975]\n",
            "---------------------------------------------------------------------------------\n",
            "Intercept       -17.9204      0.556    -32.245      0.000     -19.010     -16.831\n",
            "bedrooms      -1.364e+04   1844.516     -7.397      0.000   -1.73e+04      -1e+04\n",
            "bathrooms      1.967e+04   2858.555      6.880      0.000    1.41e+04    2.53e+04\n",
            "sqft_living      43.3038      3.685     11.750      0.000      36.080      50.527\n",
            "sqft_lot         -3.6713      0.679     -5.404      0.000      -5.003      -2.340\n",
            "floors         3.385e+04   3116.284     10.861      0.000    2.77e+04       4e+04\n",
            "condition      1.883e+04   1921.285      9.802      0.000    1.51e+04    2.26e+04\n",
            "grade           6.95e+04   1975.717     35.179      0.000    6.56e+04    7.34e+04\n",
            "sqft_basement    39.1813      4.123      9.503      0.000      31.099      47.263\n",
            "yr_built      -2079.8923     53.171    -39.117      0.000   -2184.113   -1975.671\n",
            "zipcode          37.7260      1.066     35.394      0.000      35.637      39.815\n",
            "sqft_living15    46.4106      3.273     14.178      0.000      39.994      52.827\n",
            "sqft_lot15       -5.7603      0.762     -7.558      0.000      -7.254      -4.266\n",
            "=================================================================================\n",
            "\n",
            "The condition number is large, 2.15e+08. This might indicate that there are\n",
            "strong multicollinearity or other numerical problems.\n"
          ],
          "name": "stdout"
        },
        {
          "output_type": "stream",
          "text": [
            "/usr/local/lib/python3.7/dist-packages/statsmodels/regression/quantile_regression.py:192: IterationLimitWarning: Maximum number of iterations (1000) reached.\n",
            "  \") reached.\", IterationLimitWarning)\n"
          ],
          "name": "stderr"
        },
        {
          "output_type": "stream",
          "text": [
            "                         QuantReg Regression Results                          \n",
            "==============================================================================\n",
            "Dep. Variable:                  price   Pseudo R-squared:               0.2579\n",
            "Model:                       QuantReg   Bandwidth:                   2.184e+04\n",
            "Method:                 Least Squares   Sparsity:                    3.080e+05\n",
            "Date:                Sat, 29 May 2021   No. Observations:                15068\n",
            "Time:                        02:48:05   Df Residuals:                    15055\n",
            "                                        Df Model:                           12\n",
            "=================================================================================\n",
            "                    coef    std err          t      P>|t|      [0.025      0.975]\n",
            "---------------------------------------------------------------------------------\n",
            "Intercept        -3.6819      0.597     -6.171      0.000      -4.851      -2.512\n",
            "bedrooms      -1.907e+04   1957.523     -9.743      0.000   -2.29e+04   -1.52e+04\n",
            "bathrooms      2.095e+04   3093.218      6.772      0.000    1.49e+04     2.7e+04\n",
            "sqft_living      52.0360      3.923     13.264      0.000      44.346      59.726\n",
            "sqft_lot         -3.9196      0.726     -5.396      0.000      -5.343      -2.496\n",
            "floors          3.24e+04   3370.451      9.614      0.000    2.58e+04     3.9e+04\n",
            "condition      1.929e+04   2012.355      9.588      0.000    1.53e+04    2.32e+04\n",
            "grade          8.567e+04   2090.115     40.986      0.000    8.16e+04    8.98e+04\n",
            "sqft_basement    36.0564      4.374      8.243      0.000      27.483      44.630\n",
            "yr_built      -2464.1915     57.796    -42.636      0.000   -2577.479   -2350.904\n",
            "zipcode          44.4169      1.149     38.654      0.000      42.165      46.669\n",
            "sqft_living15    60.4264      3.506     17.235      0.000      53.554      67.299\n",
            "sqft_lot15       -5.9999      0.817     -7.348      0.000      -7.600      -4.399\n",
            "=================================================================================\n",
            "\n",
            "The condition number is large, 2.15e+08. This might indicate that there are\n",
            "strong multicollinearity or other numerical problems.\n"
          ],
          "name": "stdout"
        },
        {
          "output_type": "stream",
          "text": [
            "/usr/local/lib/python3.7/dist-packages/statsmodels/regression/quantile_regression.py:192: IterationLimitWarning: Maximum number of iterations (1000) reached.\n",
            "  \") reached.\", IterationLimitWarning)\n"
          ],
          "name": "stderr"
        },
        {
          "output_type": "stream",
          "text": [
            "                         QuantReg Regression Results                          \n",
            "==============================================================================\n",
            "Dep. Variable:                  price   Pseudo R-squared:               0.2833\n",
            "Model:                       QuantReg   Bandwidth:                   2.287e+04\n",
            "Method:                 Least Squares   Sparsity:                    3.034e+05\n",
            "Date:                Sat, 29 May 2021   No. Observations:                15068\n",
            "Time:                        02:48:08   Df Residuals:                    15055\n",
            "                                        Df Model:                           12\n",
            "=================================================================================\n",
            "                    coef    std err          t      P>|t|      [0.025      0.975]\n",
            "---------------------------------------------------------------------------------\n",
            "Intercept       -20.7438      0.635    -32.658      0.000     -21.989     -19.499\n",
            "bedrooms      -1.909e+04   2055.934     -9.286      0.000   -2.31e+04   -1.51e+04\n",
            "bathrooms      2.061e+04   3237.440      6.365      0.000    1.43e+04     2.7e+04\n",
            "sqft_living      61.7443      4.168     14.813      0.000      53.574      69.915\n",
            "sqft_lot         -4.1215      0.775     -5.320      0.000      -5.640      -2.603\n",
            "floors          3.07e+04   3604.151      8.518      0.000    2.36e+04    3.78e+04\n",
            "condition      2.026e+04   2108.664      9.609      0.000    1.61e+04    2.44e+04\n",
            "grade          9.461e+04   2231.195     42.405      0.000    9.02e+04     9.9e+04\n",
            "sqft_basement    33.1713      4.609      7.197      0.000      24.138      42.205\n",
            "yr_built      -2681.9676     61.123    -43.878      0.000   -2801.776   -2562.159\n",
            "zipcode          48.1965      1.207     39.915      0.000      45.830      50.563\n",
            "sqft_living15    67.5829      3.764     17.957      0.000      60.206      74.960\n",
            "sqft_lot15       -6.0967      0.874     -6.972      0.000      -7.811      -4.383\n",
            "=================================================================================\n",
            "\n",
            "The condition number is large, 2.15e+08. This might indicate that there are\n",
            "strong multicollinearity or other numerical problems.\n"
          ],
          "name": "stdout"
        },
        {
          "output_type": "stream",
          "text": [
            "/usr/local/lib/python3.7/dist-packages/statsmodels/regression/quantile_regression.py:192: IterationLimitWarning: Maximum number of iterations (1000) reached.\n",
            "  \") reached.\", IterationLimitWarning)\n"
          ],
          "name": "stderr"
        },
        {
          "output_type": "stream",
          "text": [
            "                         QuantReg Regression Results                          \n",
            "==============================================================================\n",
            "Dep. Variable:                  price   Pseudo R-squared:               0.3073\n",
            "Model:                       QuantReg   Bandwidth:                   2.344e+04\n",
            "Method:                 Least Squares   Sparsity:                    3.116e+05\n",
            "Date:                Sat, 29 May 2021   No. Observations:                15068\n",
            "Time:                        02:48:11   Df Residuals:                    15055\n",
            "                                        Df Model:                           12\n",
            "=================================================================================\n",
            "                    coef    std err          t      P>|t|      [0.025      0.975]\n",
            "---------------------------------------------------------------------------------\n",
            "Intercept       -73.2147      0.669   -109.377      0.000     -74.527     -71.903\n",
            "bedrooms      -1.624e+04   2153.010     -7.543      0.000   -2.05e+04    -1.2e+04\n",
            "bathrooms      1.619e+04   3393.193      4.773      0.000    9543.920    2.28e+04\n",
            "sqft_living      71.1733      4.414     16.125      0.000      62.522      79.825\n",
            "sqft_lot         -4.2472      0.818     -5.192      0.000      -5.851      -2.644\n",
            "floors         2.534e+04   3822.139      6.630      0.000    1.78e+04    3.28e+04\n",
            "condition      2.201e+04   2197.465     10.017      0.000    1.77e+04    2.63e+04\n",
            "grade          1.051e+05   2354.537     44.657      0.000    1.01e+05     1.1e+05\n",
            "sqft_basement    29.9125      4.836      6.185      0.000      20.433      39.392\n",
            "yr_built      -2750.8215     64.137    -42.889      0.000   -2876.539   -2625.104\n",
            "zipcode          49.0047      1.262     38.832      0.000      46.531      51.478\n",
            "sqft_living15    66.4924      4.022     16.533      0.000      58.609      74.376\n",
            "sqft_lot15       -6.2251      0.925     -6.733      0.000      -8.037      -4.413\n",
            "=================================================================================\n",
            "\n",
            "The condition number is large, 2.15e+08. This might indicate that there are\n",
            "strong multicollinearity or other numerical problems.\n"
          ],
          "name": "stdout"
        },
        {
          "output_type": "stream",
          "text": [
            "/usr/local/lib/python3.7/dist-packages/statsmodels/regression/quantile_regression.py:192: IterationLimitWarning: Maximum number of iterations (1000) reached.\n",
            "  \") reached.\", IterationLimitWarning)\n"
          ],
          "name": "stderr"
        },
        {
          "output_type": "stream",
          "text": [
            "                         QuantReg Regression Results                          \n",
            "==============================================================================\n",
            "Dep. Variable:                  price   Pseudo R-squared:               0.3306\n",
            "Model:                       QuantReg   Bandwidth:                   2.269e+04\n",
            "Method:                 Least Squares   Sparsity:                    3.067e+05\n",
            "Date:                Sat, 29 May 2021   No. Observations:                15068\n",
            "Time:                        02:48:14   Df Residuals:                    15055\n",
            "                                        Df Model:                           12\n",
            "=================================================================================\n",
            "                    coef    std err          t      P>|t|      [0.025      0.975]\n",
            "---------------------------------------------------------------------------------\n",
            "Intercept       -29.0462      0.651    -44.651      0.000     -30.321     -27.771\n",
            "bedrooms      -1.638e+04   2084.052     -7.859      0.000   -2.05e+04   -1.23e+04\n",
            "bathrooms      1.467e+04   3283.243      4.469      0.000    8237.608    2.11e+04\n",
            "sqft_living      80.1103      4.305     18.607      0.000      71.671      88.549\n",
            "sqft_lot         -3.8510      0.790     -4.875      0.000      -5.399      -2.303\n",
            "floors         2.346e+04   3743.285      6.268      0.000    1.61e+04    3.08e+04\n",
            "condition      2.262e+04   2109.895     10.719      0.000    1.85e+04    2.68e+04\n",
            "grade          1.086e+05   2275.553     47.712      0.000    1.04e+05    1.13e+05\n",
            "sqft_basement    30.8651      4.672      6.606      0.000      21.707      40.024\n",
            "yr_built      -2719.2295     61.728    -44.051      0.000   -2840.225   -2598.234\n",
            "zipcode          48.3830      1.212     39.912      0.000      46.007      50.759\n",
            "sqft_living15    60.2990      3.973     15.176      0.000      52.511      68.087\n",
            "sqft_lot15       -6.0244      0.896     -6.721      0.000      -7.781      -4.268\n",
            "=================================================================================\n",
            "\n",
            "The condition number is large, 2.15e+08. This might indicate that there are\n",
            "strong multicollinearity or other numerical problems.\n"
          ],
          "name": "stdout"
        },
        {
          "output_type": "stream",
          "text": [
            "/usr/local/lib/python3.7/dist-packages/statsmodels/regression/quantile_regression.py:192: IterationLimitWarning: Maximum number of iterations (1000) reached.\n",
            "  \") reached.\", IterationLimitWarning)\n"
          ],
          "name": "stderr"
        },
        {
          "output_type": "stream",
          "text": [
            "                         QuantReg Regression Results                          \n",
            "==============================================================================\n",
            "Dep. Variable:                  price   Pseudo R-squared:               0.3513\n",
            "Model:                       QuantReg   Bandwidth:                   2.118e+04\n",
            "Method:                 Least Squares   Sparsity:                    3.256e+05\n",
            "Date:                Sat, 29 May 2021   No. Observations:                15068\n",
            "Time:                        02:48:17   Df Residuals:                    15055\n",
            "                                        Df Model:                           12\n",
            "=================================================================================\n",
            "                    coef    std err          t      P>|t|      [0.025      0.975]\n",
            "---------------------------------------------------------------------------------\n",
            "Intercept        16.9834      0.656     25.874      0.000      15.697      18.270\n",
            "bedrooms      -1.382e+04   2092.105     -6.606      0.000   -1.79e+04   -9720.272\n",
            "bathrooms      1.317e+04   3287.103      4.006      0.000    6723.663    1.96e+04\n",
            "sqft_living      87.3969      4.389     19.913      0.000      78.794      96.000\n",
            "sqft_lot         -3.6578      0.783     -4.674      0.000      -5.192      -2.124\n",
            "floors         2.124e+04   3804.097      5.583      0.000    1.38e+04    2.87e+04\n",
            "condition      2.299e+04   2100.529     10.945      0.000    1.89e+04    2.71e+04\n",
            "grade          1.127e+05   2261.010     49.866      0.000    1.08e+05    1.17e+05\n",
            "sqft_basement    29.0354      4.680      6.204      0.000      19.862      38.209\n",
            "yr_built      -2712.8549     61.381    -44.197      0.000   -2833.169   -2592.541\n",
            "zipcode          48.1397      1.204     39.985      0.000      45.780      50.500\n",
            "sqft_living15    58.8817      4.112     14.319      0.000      50.821      66.942\n",
            "sqft_lot15       -6.3744      0.893     -7.142      0.000      -8.124      -4.625\n",
            "=================================================================================\n",
            "\n",
            "The condition number is large, 2.15e+08. This might indicate that there are\n",
            "strong multicollinearity or other numerical problems.\n"
          ],
          "name": "stdout"
        },
        {
          "output_type": "stream",
          "text": [
            "/usr/local/lib/python3.7/dist-packages/statsmodels/regression/quantile_regression.py:192: IterationLimitWarning: Maximum number of iterations (1000) reached.\n",
            "  \") reached.\", IterationLimitWarning)\n"
          ],
          "name": "stderr"
        },
        {
          "output_type": "stream",
          "text": [
            "                         QuantReg Regression Results                          \n",
            "==============================================================================\n",
            "Dep. Variable:                  price   Pseudo R-squared:               0.3642\n",
            "Model:                       QuantReg   Bandwidth:                   1.978e+04\n",
            "Method:                 Least Squares   Sparsity:                    4.422e+05\n",
            "Date:                Sat, 29 May 2021   No. Observations:                15068\n",
            "Time:                        02:48:20   Df Residuals:                    15055\n",
            "                                        Df Model:                           12\n",
            "=================================================================================\n",
            "                    coef    std err          t      P>|t|      [0.025      0.975]\n",
            "---------------------------------------------------------------------------------\n",
            "Intercept        51.5458      0.794     64.955      0.000      49.990      53.101\n",
            "bedrooms       -1.78e+04   2505.836     -7.102      0.000   -2.27e+04   -1.29e+04\n",
            "bathrooms      1.463e+04   3972.166      3.683      0.000    6842.919    2.24e+04\n",
            "sqft_living     100.8038      5.418     18.605      0.000      90.184     111.424\n",
            "sqft_lot         -2.4829      0.961     -2.584      0.010      -4.366      -0.600\n",
            "floors         1.868e+04   4637.655      4.029      0.000    9593.830    2.78e+04\n",
            "condition      2.431e+04   2499.734      9.724      0.000    1.94e+04    2.92e+04\n",
            "grade          1.125e+05   2693.992     41.769      0.000    1.07e+05    1.18e+05\n",
            "sqft_basement    24.0052      5.596      4.289      0.000      13.036      34.975\n",
            "yr_built      -2808.5476     73.014    -38.466      0.000   -2951.663   -2665.432\n",
            "zipcode          50.3077      1.432     35.122      0.000      47.500      53.115\n",
            "sqft_living15    61.0838      5.228     11.683      0.000      50.836      71.332\n",
            "sqft_lot15       -7.6761      1.094     -7.019      0.000      -9.820      -5.532\n",
            "=================================================================================\n",
            "\n",
            "The condition number is large, 2.15e+08. This might indicate that there are\n",
            "strong multicollinearity or other numerical problems.\n",
            "                         QuantReg Regression Results                          \n",
            "==============================================================================\n",
            "Dep. Variable:                  price   Pseudo R-squared:               0.3678\n",
            "Model:                       QuantReg   Bandwidth:                   1.933e+04\n",
            "Method:                 Least Squares   Sparsity:                    7.693e+05\n",
            "Date:                Sat, 29 May 2021   No. Observations:                15068\n",
            "Time:                        02:48:23   Df Residuals:                    15055\n",
            "                                        Df Model:                           12\n",
            "=================================================================================\n",
            "                    coef    std err          t      P>|t|      [0.025      0.975]\n",
            "---------------------------------------------------------------------------------\n",
            "Intercept        29.4251      1.068     27.559      0.000      27.332      31.518\n",
            "bedrooms      -1.937e+04   3413.549     -5.674      0.000   -2.61e+04   -1.27e+04\n",
            "bathrooms      1.159e+04   5334.277      2.172      0.030    1131.172     2.2e+04\n",
            "sqft_living     115.1182      7.492     15.365      0.000     100.433     129.804\n",
            "sqft_lot         -2.1258      1.273     -1.670      0.095      -4.621       0.369\n",
            "floors         2.357e+04   6320.641      3.729      0.000    1.12e+04     3.6e+04\n",
            "condition      2.652e+04   3280.915      8.085      0.000    2.01e+04     3.3e+04\n",
            "grade           1.16e+05   3603.933     32.177      0.000    1.09e+05    1.23e+05\n",
            "sqft_basement    26.1161      7.432      3.514      0.000      11.548      40.685\n",
            "yr_built      -2944.2586     94.952    -31.008      0.000   -3130.376   -2758.141\n",
            "zipcode          52.8832      1.867     28.320      0.000      49.223      56.543\n",
            "sqft_living15    66.4933      7.642      8.701      0.000      51.514      81.473\n",
            "sqft_lot15       -6.5453      1.463     -4.472      0.000      -9.414      -3.677\n",
            "=================================================================================\n",
            "\n",
            "The condition number is large, 2.15e+08. This might indicate that there are\n",
            "strong multicollinearity or other numerical problems.\n"
          ],
          "name": "stdout"
        },
        {
          "output_type": "stream",
          "text": [
            "/usr/local/lib/python3.7/dist-packages/statsmodels/regression/quantile_regression.py:192: IterationLimitWarning: Maximum number of iterations (1000) reached.\n",
            "  \") reached.\", IterationLimitWarning)\n"
          ],
          "name": "stderr"
        }
      ]
    },
    {
      "cell_type": "code",
      "metadata": {
        "colab": {
          "base_uri": "https://localhost:8080/"
        },
        "id": "qeu41ABIIRUf",
        "outputId": "1f792a2f-3373-4289-e3e7-7f2799937b3b"
      },
      "source": [
        "# Finding the regression coefficients for the conditioned median, 0.5 quantile\n",
        "#\n",
        "\n",
        "mod = smf.quantreg('y ~ X', above)\n",
        "res = mod.fit(q=.5)\n",
        "\n",
        "# Then print out the summary of our model\n",
        "#\n",
        "\n",
        "print(res.summary())"
      ],
      "execution_count": 67,
      "outputs": [
        {
          "output_type": "stream",
          "text": [
            "                         QuantReg Regression Results                          \n",
            "==============================================================================\n",
            "Dep. Variable:                      y   Pseudo R-squared:               0.3073\n",
            "Model:                       QuantReg   Bandwidth:                   2.344e+04\n",
            "Method:                 Least Squares   Sparsity:                    3.116e+05\n",
            "Date:                Sat, 29 May 2021   No. Observations:                15068\n",
            "Time:                        02:50:32   Df Residuals:                    15055\n",
            "                                        Df Model:                           12\n",
            "==============================================================================\n",
            "                 coef    std err          t      P>|t|      [0.025      0.975]\n",
            "------------------------------------------------------------------------------\n",
            "Intercept    -73.2147      0.669   -109.377      0.000     -74.527     -71.903\n",
            "X[0]       -1.624e+04   2153.010     -7.543      0.000   -2.05e+04    -1.2e+04\n",
            "X[1]        1.619e+04   3393.193      4.773      0.000    9543.920    2.28e+04\n",
            "X[2]          71.1733      4.414     16.125      0.000      62.522      79.825\n",
            "X[3]          -4.2472      0.818     -5.192      0.000      -5.851      -2.644\n",
            "X[4]        2.534e+04   3822.139      6.630      0.000    1.78e+04    3.28e+04\n",
            "X[5]        2.201e+04   2197.465     10.017      0.000    1.77e+04    2.63e+04\n",
            "X[6]        1.051e+05   2354.537     44.657      0.000    1.01e+05     1.1e+05\n",
            "X[7]          29.9125      4.836      6.185      0.000      20.433      39.392\n",
            "X[8]       -2750.8215     64.137    -42.889      0.000   -2876.539   -2625.104\n",
            "X[9]          49.0047      1.262     38.832      0.000      46.531      51.478\n",
            "X[10]         66.4924      4.022     16.533      0.000      58.609      74.376\n",
            "X[11]         -6.2251      0.925     -6.733      0.000      -8.037      -4.413\n",
            "==============================================================================\n",
            "\n",
            "The condition number is large, 2.15e+08. This might indicate that there are\n",
            "strong multicollinearity or other numerical problems.\n"
          ],
          "name": "stdout"
        },
        {
          "output_type": "stream",
          "text": [
            "/usr/local/lib/python3.7/dist-packages/statsmodels/regression/quantile_regression.py:192: IterationLimitWarning: Maximum number of iterations (1000) reached.\n",
            "  \") reached.\", IterationLimitWarning)\n"
          ],
          "name": "stderr"
        }
      ]
    },
    {
      "cell_type": "code",
      "metadata": {
        "colab": {
          "base_uri": "https://localhost:8080/"
        },
        "id": "zjwygEkge5GF",
        "outputId": "8e935c73-7e5e-4ccc-e350-9ce9202c148b"
      },
      "source": [
        "# finding the RSME AND R2 score for our model\n",
        "# \n",
        "y_pred = res.predict()\n",
        "print('Quantile Regression Root Mean Squared Error:', np.sqrt(metrics.mean_squared_error(y, y_pred)))\n",
        "\n",
        "# Making predictions & checking accuracy using R2 score\n",
        "quant = r2_score(y, y_pred)\n",
        "print(\"The R2 score for the quantile model is:\", quant)"
      ],
      "execution_count": 68,
      "outputs": [
        {
          "output_type": "stream",
          "text": [
            "Quantile Regression Root Mean Squared Error: 126810.73250556637\n",
            "The R2 score for the quantile model is: 0.5018000886545932\n"
          ],
          "name": "stdout"
        }
      ]
    },
    {
      "cell_type": "markdown",
      "metadata": {
        "id": "Xlcxjq74gjxt"
      },
      "source": [
        "The quantile model also has a much better R2 Score, 0.50, than the linear regression model meaning it is doing much better.\n",
        "It also has a much lower RMSE making it a better model than linear regression.\n"
      ]
    },
    {
      "cell_type": "markdown",
      "metadata": {
        "id": "D3bOuT1DwhgQ"
      },
      "source": [
        "**Limitations of ridge regression** \n",
        "\n",
        "Parameters are harder to estimate than in gaussian or generalized regression."
      ]
    },
    {
      "cell_type": "markdown",
      "metadata": {
        "id": "enkcjmSHTnES"
      },
      "source": [
        "#### Ridge Regression"
      ]
    },
    {
      "cell_type": "code",
      "metadata": {
        "id": "sUMFcuK2T-1T"
      },
      "source": [
        "# defining our x and y\n",
        "# splitting the data to train and test sets\n",
        "# \n",
        "X = above[['bedrooms', 'bathrooms', 'sqft_living', 'sqft_lot', 'floors',\n",
        "       'condition', 'grade', 'sqft_basement', 'yr_built',\n",
        "       'zipcode', 'sqft_living15', 'sqft_lot15']].values\n",
        "y = above['price'].values\n",
        "\n",
        "X_train, X_test, y_train, y_test = train_test_split(X, y, test_size=0.3, random_state=0)"
      ],
      "execution_count": 69,
      "outputs": []
    },
    {
      "cell_type": "code",
      "metadata": {
        "id": "xnqk2YKjTuzo"
      },
      "source": [
        "# In order to create our ridge model we need to first determine the most appropriate value for the l2 regularization. \n",
        "# L2 is the name of the hyperparameter that is used in ridge regression. \n",
        "# Determining the value of a hyperparameter requires the use of a grid. \n",
        "# we first create our ridge model and indicate normalization in order to get better estimates. \n",
        "# Next we setup the grid that we will use. \n",
        "# The search object has several arguments within it. Alpha is hyperparameter we are trying to set. \n",
        "# The log space is the range of values we want to test. \n",
        "# We want the log of -5 to 2, but we only get 8 values from within that range evenly spread out. \n",
        "# Are metric is the mean squared error. Refit set true means to adjust the parameters while modeling \n",
        "# and cv is the number of folds to develop for the cross-validation. \n",
        "\n",
        "from sklearn.model_selection import GridSearchCV\n",
        "from sklearn.linear_model import Ridge\n",
        "from sklearn.metrics import mean_squared_error\n",
        "\n",
        "ridge = Ridge(normalize=True)\n",
        "search = GridSearchCV(estimator=ridge,param_grid={'alpha':np.logspace(-5,2,8)},scoring='neg_mean_squared_error',n_jobs=1,refit=True,cv=10)"
      ],
      "execution_count": 70,
      "outputs": []
    },
    {
      "cell_type": "code",
      "metadata": {
        "colab": {
          "base_uri": "https://localhost:8080/"
        },
        "id": "q0cXRHLzUQpL",
        "outputId": "2beedfa0-c5bb-4c22-b453-f88e2f4aa1ee"
      },
      "source": [
        "# We now use the .fit function to run the model and then use the .best_params_ and\n",
        "#  .best_scores_ function to determine the models strength. \n",
        "# \n",
        "search.fit(X_train,y_train)\n",
        "search.best_params_\n",
        "{'alpha': 0.01}\n",
        "abs(search.best_score_) \n",
        "\n",
        "# The best_params_ tells us what to set alpha too which in this case is 0.01. \n",
        "# The best_score_ tells us what the best possible mean squared error is."
      ],
      "execution_count": 71,
      "outputs": [
        {
          "output_type": "execute_result",
          "data": {
            "text/plain": [
              "15862491943.16476"
            ]
          },
          "metadata": {
            "tags": []
          },
          "execution_count": 71
        }
      ]
    },
    {
      "cell_type": "code",
      "metadata": {
        "colab": {
          "base_uri": "https://localhost:8080/"
        },
        "id": "xHuCqF2YUx0J",
        "outputId": "2086f123-65dc-4c9d-e299-a33325a0ebfb"
      },
      "source": [
        "# We can confirm this by fitting our model with the ridge information and finding the mean squared error below\n",
        "#\n",
        "ridge = Ridge(normalize=True,alpha=0.01)\n",
        "ridge.fit(X_train,y_train)\n",
        "second_model = (mean_squared_error(y_true=y,y_pred=ridge.predict(X)))\n",
        "print(second_model)"
      ],
      "execution_count": 72,
      "outputs": [
        {
          "output_type": "stream",
          "text": [
            "16024859971.296684\n"
          ],
          "name": "stdout"
        }
      ]
    },
    {
      "cell_type": "code",
      "metadata": {
        "colab": {
          "base_uri": "https://localhost:8080/"
        },
        "id": "8T9Z-Nm9U9Nv",
        "outputId": "39c114c2-12d2-4d83-d4db-83e385e43d74"
      },
      "source": [
        "coef_dict_baseline = {}\n",
        "for coef, feat in zip(regressor.coef_, house.columns):\n",
        "    coef_dict_baseline[feat] = coef\n",
        "coef_dict_baseline"
      ],
      "execution_count": 73,
      "outputs": [
        {
          "output_type": "execute_result",
          "data": {
            "text/plain": [
              "{'bathrooms': 74.54897082350908,\n",
              " 'bedrooms': 17121.275337461822,\n",
              " 'condition': 98443.96810929276,\n",
              " 'floors': 23968.010615855008,\n",
              " 'grade': 27.732065278514483,\n",
              " 'price': -15480.478885812045,\n",
              " 'sqft_above': -2597.7836571672156,\n",
              " 'sqft_basement': 64.45994685264901,\n",
              " 'sqft_living': -3.531284695956856,\n",
              " 'sqft_lot': 26154.50385644359,\n",
              " 'yr_built': 61.32822368685174,\n",
              " 'zipcode': -5.848935840302147}"
            ]
          },
          "metadata": {
            "tags": []
          },
          "execution_count": 73
        }
      ]
    },
    {
      "cell_type": "code",
      "metadata": {
        "colab": {
          "base_uri": "https://localhost:8080/"
        },
        "id": "6W9lRUMC0BSe",
        "outputId": "a3ccbae6-30f0-4ff0-fa06-5c081cf99584"
      },
      "source": [
        "# finding the mean squared error and R2 Score\n",
        "#\n",
        "ridge = Ridge(normalize=True,alpha=0.001)\n",
        "ridge.fit(X_train,y_train)\n",
        "y_pred = ridge.predict(X_test)\n",
        "\n",
        "\n",
        "print('Ridge model Root Mean Squared Error:', np.sqrt(metrics.mean_squared_error(y_test, y_pred)))\n",
        "\n",
        "# Making predictions & checking accuracy using R2 score\n",
        "c = r2_score(y_test, y_pred)\n",
        "print(\"The R2 score for the ridge model is:\", c)"
      ],
      "execution_count": 74,
      "outputs": [
        {
          "output_type": "stream",
          "text": [
            "Ridge model Root Mean Squared Error: 128506.52195643348\n",
            "The R2 score for the ridge model is: 0.4969217454642738\n"
          ],
          "name": "stdout"
        }
      ]
    },
    {
      "cell_type": "markdown",
      "metadata": {
        "id": "rbZ4UJoFiNGw"
      },
      "source": [
        "\n",
        "\n",
        "The Ridge model has a slightly lesser Root Mean Squared Error of 128506.52 than the linear model which has 128507.98 meaning it's functioning a bit better"
      ]
    },
    {
      "cell_type": "markdown",
      "metadata": {
        "id": "ZI0Fh6vBuj3Y"
      },
      "source": [
        "**Limitations of ridge regression**  \n",
        "Ridge regression decreases the complexity of a model but does not reduce the number of variables because it does not reduce coefficients to zero. Hence, this model is not good for feature reduction if feature reduction is necessary."
      ]
    },
    {
      "cell_type": "markdown",
      "metadata": {
        "id": "0aUw1WWlWHtB"
      },
      "source": [
        "#### Lasso Regression"
      ]
    },
    {
      "cell_type": "code",
      "metadata": {
        "id": "Y8qZD06yWHBU"
      },
      "source": [
        "# importing necessary libraries\n",
        "# \n",
        "\n",
        "from sklearn.linear_model import Lasso"
      ],
      "execution_count": 75,
      "outputs": []
    },
    {
      "cell_type": "code",
      "metadata": {
        "colab": {
          "base_uri": "https://localhost:8080/"
        },
        "id": "04T0I3N5bKgv",
        "outputId": "77bf08e2-99e8-4ae9-8b61-ab798f83d781"
      },
      "source": [
        "# Importing StandardScaler\n",
        "#\n",
        "from sklearn.preprocessing import StandardScaler\n",
        "\n",
        "# defining our x and y\n",
        "# \n",
        "\n",
        "X = above[['bedrooms', 'bathrooms', 'sqft_living', 'sqft_lot', 'floors',\n",
        "       'condition', 'grade', 'sqft_basement', 'yr_built',\n",
        "       'zipcode', 'sqft_living15', 'sqft_lot15']].values\n",
        "y = above['price'].values\n",
        "\n",
        "# Scaling data \n",
        "#\n",
        "scaler = StandardScaler()\n",
        "scaler.fit_transform(X)\n"
      ],
      "execution_count": 76,
      "outputs": [
        {
          "output_type": "execute_result",
          "data": {
            "text/plain": [
              "array([[-0.33890352, -1.50602534, -1.03120475, ...,  1.84758562,\n",
              "        -0.89825568, -0.41583682],\n",
              "       [-1.63532351, -1.50602534, -1.69851728, ..., -0.96411348,\n",
              "         1.81934559,  0.38738607],\n",
              "       [ 0.95751646,  1.59260098,  0.23831665, ...,  1.06030987,\n",
              "        -0.85887016, -0.63229407],\n",
              "       ...,\n",
              "       [-1.63532351, -1.89335363, -1.2916194 , ...,  1.21026715,\n",
              "        -1.52842409, -1.62899645],\n",
              "       [-0.33890352,  0.8179444 , -0.34761631, ..., -0.98285814,\n",
              "        -0.76040634, -1.86876448],\n",
              "       [-1.63532351, -1.89335363, -1.2916194 , ...,  1.21026715,\n",
              "        -1.52842409, -1.8454537 ]])"
            ]
          },
          "metadata": {
            "tags": []
          },
          "execution_count": 76
        }
      ]
    },
    {
      "cell_type": "code",
      "metadata": {
        "colab": {
          "base_uri": "https://localhost:8080/"
        },
        "id": "HdhhgbrCX2o4",
        "outputId": "dbb9e239-dfb9-4138-a79e-729730c8f5a6"
      },
      "source": [
        "# Splitting the data into training and test sets, building Lasso, \n",
        "# and choosing the regularization parameter with the help of GridSearch. \n",
        "# For that, we have to define the set of parameters for GridSearch. \n",
        "# In this case, a model with the highest R-squared score will give us the best parameters.\n",
        "# \n",
        "\n",
        "# Making necessary imports, split data into training and test sets, and choose a set of parameters\n",
        "\n",
        "from sklearn.model_selection import train_test_split\n",
        "from sklearn.model_selection import GridSearchCV\n",
        "import warnings\n",
        "warnings.filterwarnings(\"ignore\")\n",
        "\n",
        "X_train, X_test, y_train, y_test = train_test_split(X, y, test_size=0.3, random_state=0)\n",
        "parameters = {'alpha': np.concatenate((np.arange(0.1,2,0.1), np.arange(2, 5, 0.5), np.arange(5, 25, 1)))}\n",
        "\n",
        "lasso = Lasso() \n",
        "gridlasso = GridSearchCV(lasso, parameters, scoring ='r2') \n",
        "\n",
        "# Fitting models and print the best parameters, R-squared scores, MSE, and coefficients\n",
        "gridlasso.fit(X_train, y_train) \n",
        "\n",
        "print(\"lasso best parameters:\", gridlasso.best_params_) \n",
        "print(\"lasso R2 score:\", gridlasso.score(X_test, y_test))\n",
        "print(\"The RMSE for the lasso model:\", np.sqrt(metrics.mean_squared_error(y_test, y_pred))) \n",
        "print(\"lasso best estimator coef:\", gridlasso.best_estimator_.coef_)\n"
      ],
      "execution_count": 77,
      "outputs": [
        {
          "output_type": "stream",
          "text": [
            "lasso best parameters: {'alpha': 13.0}\n",
            "lasso R2 score: 0.49692552778692767\n",
            "The RMSE for the lasso model: 128506.52195643348\n",
            "lasso best estimator coef: [-1.64733120e+04  2.08092969e+04  7.01781907e+01 -3.97308692e+00\n",
            "  2.67509848e+04  2.49660913e+04  9.76190179e+04  3.19339313e+01\n",
            " -2.64174718e+03  3.15613797e+01  6.50707122e+01 -5.23659420e+00]\n"
          ],
          "name": "stdout"
        }
      ]
    },
    {
      "cell_type": "markdown",
      "metadata": {
        "id": "cY9M-_QlkwZ_"
      },
      "source": [
        "Lasso Regression is doing slightly better than linear regression with an R2 Score of 0.49692 and RMSE of 128506.52"
      ]
    },
    {
      "cell_type": "code",
      "metadata": {
        "colab": {
          "base_uri": "https://localhost:8080/",
          "height": 458
        },
        "id": "uv6yDbTIZmUN",
        "outputId": "60a85335-6db4-433b-c41e-a1afc2a25e10"
      },
      "source": [
        "# Importing library for visualization\n",
        "#\n",
        "import matplotlib.pyplot as plt\n",
        "coefsLasso = [] \n",
        "\n",
        "# Building Lasso for 200 values of alpha and write the coefficients into array\n",
        "# \n",
        "alphasLasso = np.arange (0, 20, 0.1) \n",
        "for i in range(200):\n",
        "    lasso = Lasso(alpha=alphasLasso[i])\n",
        "    lasso.fit(X_train, y_train)\n",
        "    coefsLasso.append(lasso.coef_) \n",
        "\n",
        "# Building Lasso coefficient plots\n",
        "# \n",
        "plt.figure(figsize = (16,7))\n",
        "\n",
        "plt.subplot(121)\n",
        "plt.plot(alphasLasso, coefsLasso)\n",
        "plt.title('Lasso coefficients')\n",
        "plt.xlabel('alpha')\n",
        "plt.ylabel('coefs')\n",
        "\n",
        "plt.show()\n",
        "\n",
        "# As we can see, Lasso influences less on the large coefficients, but the small ones Lasso reduces to zeroes. \n",
        "# Therefore Lasso can also be used to determine which features are important \n",
        "# to us and keeps the features that may influence the target variable"
      ],
      "execution_count": 78,
      "outputs": [
        {
          "output_type": "display_data",
          "data": {
            "image/png": "[encoded data removed]",
            "text/plain": [
              "<Figure size 1152x504 with 1 Axes>"
            ]
          },
          "metadata": {
            "tags": [],
            "needs_background": "light"
          }
        }
      ]
    },
    {
      "cell_type": "markdown",
      "metadata": {
        "id": "MCWKd6xBu5Q8"
      },
      "source": [
        "**Limitations of lasso regression**  \n",
        "* If the number of predictors is greater than the number of observations, lasso will pick a few predictors as non-zero, even if all predictors are relevant (or may be used in the test set).\n",
        "* If there are two or more highly collinear variables then LASSO regression selects one of them randomly which is not good for the interpretation of data"
      ]
    },
    {
      "cell_type": "markdown",
      "metadata": {
        "id": "CIJOd7YOc45c"
      },
      "source": [
        "#### Elastic Net Regression"
      ]
    },
    {
      "cell_type": "code",
      "metadata": {
        "id": "d07Q5s8DyHUb"
      },
      "source": [
        "# defining our x and y\n",
        "# splitting the data to train and test sets\n",
        "# \n",
        "X = house[['bedrooms', 'bathrooms', 'sqft_living', 'sqft_lot', 'floors',\n",
        "       'condition', 'grade', 'sqft_basement', 'yr_built',\n",
        "       'zipcode', 'sqft_living15', 'sqft_lot15']]\n",
        "y = above['price'].values\n",
        "\n",
        "# Standardizing our data\n",
        "scaler = StandardScaler()\n",
        "scaler.fit_transform(X)\n",
        "\n",
        "X_train, X_test, y_train, y_test = train_test_split(X, y, test_size=0.3, random_state=0)"
      ],
      "execution_count": 79,
      "outputs": []
    },
    {
      "cell_type": "code",
      "metadata": {
        "id": "3gb16OPkc90O"
      },
      "source": [
        "# importing necessary libraries\n",
        "\n",
        "from sklearn.linear_model import ElasticNet"
      ],
      "execution_count": 80,
      "outputs": []
    },
    {
      "cell_type": "code",
      "metadata": {
        "id": "219qq773jmuX"
      },
      "source": [
        "# Elastic Net Model\n",
        "# just like ridge and lasso regression, requires normalize data. \n",
        "# This argument  is set inside the ElasticNet function. \n",
        "# The second thing we need to do is create our grid.\n",
        "#   \n",
        "\n",
        "elastic=ElasticNet(normalize=True)\n",
        "search=GridSearchCV(estimator=elastic,param_grid={'alpha':np.logspace(-5,2,8),'l1_ratio':[.2,.4,.6,.8]},scoring='neg_mean_squared_error',n_jobs=1,refit=True,cv=10)\n"
      ],
      "execution_count": 81,
      "outputs": []
    },
    {
      "cell_type": "code",
      "metadata": {
        "colab": {
          "base_uri": "https://localhost:8080/"
        },
        "id": "ahIij8EVzUCq",
        "outputId": "1335e7ca-511b-44c2-e49a-31ccfa88b0a5"
      },
      "source": [
        "# We now use the .fit function to run the model and then use the .best_params_ and\n",
        "#  .best_scores_ function to determine the models strength.\n",
        "\n",
        "search.fit(X_train,y_train)\n",
        "search.best_params_\n"
      ],
      "execution_count": 82,
      "outputs": [
        {
          "output_type": "execute_result",
          "data": {
            "text/plain": [
              "{'alpha': 1e-05, 'l1_ratio': 0.8}"
            ]
          },
          "metadata": {
            "tags": []
          },
          "execution_count": 82
        }
      ]
    },
    {
      "cell_type": "code",
      "metadata": {
        "colab": {
          "base_uri": "https://localhost:8080/"
        },
        "id": "gYy47Ep_jmb6",
        "outputId": "3cc1c64a-13d7-46b7-ce4a-96fe08cec4c0"
      },
      "source": [
        "# We will now fit our model and display the best parameters and the best results we can get with that setup.\n",
        "# \n",
        "search.fit(X,y)\n",
        "search.best_params_\n",
        "abs(search.best_score_)"
      ],
      "execution_count": 83,
      "outputs": [
        {
          "output_type": "execute_result",
          "data": {
            "text/plain": [
              "16149061261.9463"
            ]
          },
          "metadata": {
            "tags": []
          },
          "execution_count": 83
        }
      ]
    },
    {
      "cell_type": "code",
      "metadata": {
        "colab": {
          "base_uri": "https://localhost:8080/"
        },
        "id": "8OExEaoGy7zx",
        "outputId": "c39466cb-2e22-4d25-f9ce-2c660ae5822f"
      },
      "source": [
        "# Fitting the model\n",
        "\n",
        "elastic=ElasticNet(normalize=True,alpha=0.00001,l1_ratio=0.8)\n",
        "elastic.fit(X_train, y_train)\n",
        "\n",
        "# Making predictions\n",
        "#\n",
        "y_pred = elastic.predict(X_test)\n",
        "e = r2_score(y_test,y_pred)\n",
        "\n",
        "# getting RMSE & R2 score\n",
        "print(\"The RMSE for the Elastic model:\", np.sqrt(metrics.mean_squared_error(y_test, y_pred)))\n",
        "print(\"The R2 score for the Elastic model is:\", e)"
      ],
      "execution_count": 84,
      "outputs": [
        {
          "output_type": "stream",
          "text": [
            "The RMSE for the Elastic model: 128523.17263823186\n",
            "The R2 score for the Elastic model is: 0.49679136860107376\n"
          ],
          "name": "stdout"
        }
      ]
    },
    {
      "cell_type": "code",
      "metadata": {
        "colab": {
          "base_uri": "https://localhost:8080/"
        },
        "id": "F6Ro-SwQsvV7",
        "outputId": "3450d380-f0e4-456a-d0f7-f33ac1f7f479"
      },
      "source": [
        "# Below are the coefficients\n",
        "# \n",
        "coef_dict_baseline = {}\n",
        "for coef, feat in zip(elastic.coef_, X.columns):\n",
        "    coef_dict_baseline[feat] = coef\n",
        "coef_dict_baseline\n"
      ],
      "execution_count": 85,
      "outputs": [
        {
          "output_type": "execute_result",
          "data": {
            "text/plain": [
              "{'bathrooms': 19540.479299871415,\n",
              " 'bedrooms': -14975.054290818513,\n",
              " 'condition': 25600.561514994042,\n",
              " 'floors': 26117.951216623427,\n",
              " 'grade': 94139.53781818076,\n",
              " 'sqft_basement': 32.996836618195225,\n",
              " 'sqft_living': 68.7470768180853,\n",
              " 'sqft_living15': 65.7416387375873,\n",
              " 'sqft_lot': -3.8916781407656367,\n",
              " 'sqft_lot15': -5.201731379754952,\n",
              " 'yr_built': -2499.1428359066313,\n",
              " 'zipcode': 45.15497479065697}"
            ]
          },
          "metadata": {
            "tags": []
          },
          "execution_count": 85
        }
      ]
    },
    {
      "cell_type": "markdown",
      "metadata": {
        "id": "gqzSOcE9vErE"
      },
      "source": [
        "**Limitations of elastic net regression**  \n",
        "A limitation of Elastic net regression is that it can suffer from double shrinkage, which leads to increased bias and poor predictions."
      ]
    },
    {
      "cell_type": "markdown",
      "metadata": {
        "id": "wZmrgFVCpwTJ"
      },
      "source": [
        "### **Conclusion**"
      ]
    },
    {
      "cell_type": "markdown",
      "metadata": {
        "id": "9VlkwC4UaW-u"
      },
      "source": [
        "After going through the 5 models, it was observed that they all have similar performances with the R2 score being 49% for all except the quantile regression model which had 50%\n"
      ]
    },
    {
      "cell_type": "markdown",
      "metadata": {
        "id": "uA2rKB3_FmEk"
      },
      "source": [
        "### **Recommendations**"
      ]
    },
    {
      "cell_type": "markdown",
      "metadata": {
        "id": "Vmy-xYn-FwuU"
      },
      "source": [
        "As observed fom our analysis, the quantile model is the best performing model with an RMSE of 126810.73 and R2 Score of 0.5018. This would be the best model to use for making predictions for house prices. \n",
        "\n",
        "However more analysis needs to be done to improve on the performance of the model as 50% is not satisfactory.\n",
        "\n",
        "The worst performing model was the Elastic Net model with an RMSE of 128523.17 and an R2 Score of 0.4967, making it not an ideal model to use to make predictions for house prices."
      ]
    },
    {
      "cell_type": "markdown",
      "metadata": {
        "id": "k4MQyRCjYumz"
      },
      "source": [
        "##**8**. Challenging the solution"
      ]
    },
    {
      "cell_type": "markdown",
      "metadata": {
        "id": "IolNwKdfph00"
      },
      "source": [
        "An accuracy of 49% is not satisfactory and more analysis needs to be done to improve model performance and higher accuracy levels."
      ]
    },
    {
      "cell_type": "markdown",
      "metadata": {
        "id": "xrmHVMVsVS--"
      },
      "source": [
        "##**9**. Follow up questions"
      ]
    },
    {
      "cell_type": "markdown",
      "metadata": {
        "id": "pth2qSWhuBIy"
      },
      "source": [
        "> At this point, we can refine our question or collect new data, all in an iterative process to get at the truth.\n",
        "\n"
      ]
    },
    {
      "cell_type": "markdown",
      "metadata": {
        "id": "HPQviDmNtta8"
      },
      "source": [
        "### a). Did we have the right data?\n",
        "\n",
        "Yes we did, we had a good sample size that looked into key factors that would help us predict housing prices using different models\n",
        "\n"
      ]
    },
    {
      "cell_type": "markdown",
      "metadata": {
        "id": "qjFHK1CKty7o"
      },
      "source": [
        "### b). Do we need other data to answer our question?\n",
        "Not necessarily because the dataset we used answered our question."
      ]
    },
    {
      "cell_type": "markdown",
      "metadata": {
        "id": "HSsicSdvt4Zs"
      },
      "source": [
        "### c). Did we have the right question?\n",
        "\n",
        "Yes we did, we were able to create models that helped made predictions of the housing prices\n"
      ]
    }
  ]
}